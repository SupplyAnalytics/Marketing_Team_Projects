{
 "cells": [
  {
   "cell_type": "markdown",
   "metadata": {},
   "source": [
    "#### Data Gathering & Visualization"
   ]
  },
  {
   "cell_type": "code",
   "execution_count": 1,
   "metadata": {},
   "outputs": [],
   "source": [
    "from __future__ import with_statement\n",
    "from AnalyticsClient import AnalyticsClient\n",
    "import pandas as pd\n",
    "import plotly.express as px\n",
    "import warnings\n",
    "import gspread\n",
    "from oauth2client.service_account import ServiceAccountCredentials\n",
    "from datetime import datetime\n",
    "warnings.filterwarnings('ignore')\n",
    "\n",
    "class Config:\n",
    "\n",
    "    CLIENTID = \"1000.DQ32DWGNGDO7CV0V1S1CB3QFRAI72K\";\n",
    "    CLIENTSECRET = \"92dfbbbe8c2743295e9331286d90da900375b2b66c\";\n",
    "    REFRESHTOKEN = \"1000.0cd324af15278b51d3fc85ed80ca5c04.7f4492eb09c6ae494a728cd9213b53ce\";\n",
    "\n",
    "    ORGID = \"60006357703\";\n",
    "    VIEWID=\"174857000094424767\";\n",
    "    WORKSPACEID = \"174857000004732522\";\n",
    "    \n",
    "class sample:\n",
    "    ac = AnalyticsClient(Config.CLIENTID, Config.CLIENTSECRET, Config.REFRESHTOKEN)\n",
    "\n",
    "    def export_data(self, ac, view_ids):\n",
    "        response_format = \"csv\"\n",
    "        file_path_template = \"Impression_{}.csv\"\n",
    "        bulk = ac.get_bulk_instance(Config.ORGID, Config.WORKSPACEID)\n",
    "        for view_id in view_ids:\n",
    "            file_path = file_path_template.format(view_id)\n",
    "            bulk.export_data(view_id, response_format, file_path)\n",
    "\n",
    "try:\n",
    "    obj = sample()\n",
    "    view_ids = [\"174857000094424767\"]  # Replace with your list of view IDs\n",
    "    obj.export_data(obj.ac, view_ids)\n",
    "\n",
    "except Exception as e:\n",
    "    print(str(e))\n",
    "    \n",
    "\n",
    "df=pd.read_csv('Impression_174857000094424767.csv')\n",
    "df['Dates']=pd.to_datetime(df['Dates'])\n",
    "df= df.sort_values(by='Dates', ascending=True)\n",
    "df['Buyer GMV']=df['Buyer GMV'].astype(int)"
   ]
  },
  {
   "cell_type": "code",
   "execution_count": 2,
   "metadata": {},
   "outputs": [
    {
     "data": {
      "text/html": [
       "<div>\n",
       "<style scoped>\n",
       "    .dataframe tbody tr th:only-of-type {\n",
       "        vertical-align: middle;\n",
       "    }\n",
       "\n",
       "    .dataframe tbody tr th {\n",
       "        vertical-align: top;\n",
       "    }\n",
       "\n",
       "    .dataframe thead th {\n",
       "        text-align: right;\n",
       "    }\n",
       "</style>\n",
       "<table border=\"1\" class=\"dataframe\">\n",
       "  <thead>\n",
       "    <tr style=\"text-align: right;\">\n",
       "      <th></th>\n",
       "      <th>Dates</th>\n",
       "      <th>BuyerId</th>\n",
       "      <th>BuyerName</th>\n",
       "      <th>BuyerPhone</th>\n",
       "      <th>SellerId</th>\n",
       "      <th>SellerName</th>\n",
       "      <th>SellerPhone</th>\n",
       "      <th>Recency Bucket</th>\n",
       "      <th>Buyer GMV</th>\n",
       "    </tr>\n",
       "  </thead>\n",
       "  <tbody>\n",
       "    <tr>\n",
       "      <th>0</th>\n",
       "      <td>2023-06-01</td>\n",
       "      <td>1490270381</td>\n",
       "      <td>s.v.traders</td>\n",
       "      <td>7899819755</td>\n",
       "      <td>1490414492</td>\n",
       "      <td>YES TRADERS</td>\n",
       "      <td>8700630916</td>\n",
       "      <td>Above 90 Days</td>\n",
       "      <td>3951</td>\n",
       "    </tr>\n",
       "    <tr>\n",
       "      <th>27</th>\n",
       "      <td>2023-06-01</td>\n",
       "      <td>1491150419</td>\n",
       "      <td>durva footwear</td>\n",
       "      <td>7387029148</td>\n",
       "      <td>1490414492</td>\n",
       "      <td>YES TRADERS</td>\n",
       "      <td>8700630916</td>\n",
       "      <td>Above 90 Days</td>\n",
       "      <td>3786</td>\n",
       "    </tr>\n",
       "    <tr>\n",
       "      <th>26</th>\n",
       "      <td>2023-06-01</td>\n",
       "      <td>1491146328</td>\n",
       "      <td>Shri mahasu empire</td>\n",
       "      <td>9459729994</td>\n",
       "      <td>1490482693</td>\n",
       "      <td>MAHESHWARI GARMENT</td>\n",
       "      <td>8502830016</td>\n",
       "      <td>Above 90 Days</td>\n",
       "      <td>6494</td>\n",
       "    </tr>\n",
       "    <tr>\n",
       "      <th>25</th>\n",
       "      <td>2023-06-01</td>\n",
       "      <td>1491120471</td>\n",
       "      <td>Anamika store</td>\n",
       "      <td>9707738692</td>\n",
       "      <td>1490482693</td>\n",
       "      <td>MAHESHWARI GARMENT</td>\n",
       "      <td>8502830016</td>\n",
       "      <td>Above 90 Days</td>\n",
       "      <td>6760</td>\n",
       "    </tr>\n",
       "    <tr>\n",
       "      <th>24</th>\n",
       "      <td>2023-06-01</td>\n",
       "      <td>1491093648</td>\n",
       "      <td>Rsr.mega.mart</td>\n",
       "      <td>9956649171</td>\n",
       "      <td>1490482693</td>\n",
       "      <td>MAHESHWARI GARMENT</td>\n",
       "      <td>8502830016</td>\n",
       "      <td>16-30 Days</td>\n",
       "      <td>4060</td>\n",
       "    </tr>\n",
       "  </tbody>\n",
       "</table>\n",
       "</div>"
      ],
      "text/plain": [
       "        Dates     BuyerId           BuyerName  BuyerPhone    SellerId  \\\n",
       "0  2023-06-01  1490270381         s.v.traders  7899819755  1490414492   \n",
       "27 2023-06-01  1491150419      durva footwear  7387029148  1490414492   \n",
       "26 2023-06-01  1491146328  Shri mahasu empire  9459729994  1490482693   \n",
       "25 2023-06-01  1491120471       Anamika store  9707738692  1490482693   \n",
       "24 2023-06-01  1491093648       Rsr.mega.mart  9956649171  1490482693   \n",
       "\n",
       "            SellerName  SellerPhone Recency Bucket  Buyer GMV  \n",
       "0          YES TRADERS   8700630916  Above 90 Days       3951  \n",
       "27         YES TRADERS   8700630916  Above 90 Days       3786  \n",
       "26  MAHESHWARI GARMENT   8502830016  Above 90 Days       6494  \n",
       "25  MAHESHWARI GARMENT   8502830016  Above 90 Days       6760  \n",
       "24  MAHESHWARI GARMENT   8502830016     16-30 Days       4060  "
      ]
     },
     "execution_count": 2,
     "metadata": {},
     "output_type": "execute_result"
    }
   ],
   "source": [
    "df.head()"
   ]
  },
  {
   "cell_type": "code",
   "execution_count": 3,
   "metadata": {},
   "outputs": [
    {
     "data": {
      "application/vnd.plotly.v1+json": {
       "config": {
        "plotlyServerURL": "https://plot.ly"
       },
       "data": [
        {
         "customdata": [
          [
           1490634712
          ],
          [
           1490282967
          ],
          [
           1490335532
          ],
          [
           1490380634
          ],
          [
           1490444763
          ],
          [
           1490581150
          ],
          [
           1491184149
          ],
          [
           1490269423
          ],
          [
           1490721600
          ],
          [
           1490936112
          ],
          [
           1490988015
          ],
          [
           1491070195
          ],
          [
           1491150717
          ],
          [
           1491193275
          ],
          [
           1490645278
          ]
         ],
         "hovertemplate": "Date=2024-05-25 00:00:00<br>Sequence=%{x}<br>GMV=%{y}<br>BuyerId=%{customdata[0]}<extra></extra>",
         "legendgroup": "2024-05-25 00:00:00",
         "line": {
          "color": "#636efa",
          "dash": "solid"
         },
         "marker": {
          "symbol": "circle"
         },
         "mode": "lines",
         "name": "2024-05-25 00:00:00",
         "orientation": "v",
         "showlegend": true,
         "type": "scatter",
         "x": [
          1,
          2,
          3,
          4,
          5,
          6,
          7,
          8,
          9,
          10,
          11,
          12,
          13,
          14,
          15
         ],
         "xaxis": "x",
         "y": [
          10510,
          3008,
          3206,
          3953,
          3094,
          4008,
          5382,
          16543,
          5434,
          4100,
          3709,
          3981,
          3310,
          3188,
          11339
         ],
         "yaxis": "y"
        },
        {
         "customdata": [
          [
           1490522980
          ],
          [
           1490332820
          ],
          [
           1490352138
          ],
          [
           1490353215
          ],
          [
           1490373373
          ],
          [
           1490421810
          ],
          [
           1490613431
          ],
          [
           1490686614
          ],
          [
           1490792192
          ],
          [
           1490851889
          ],
          [
           1490903250
          ],
          [
           1490997531
          ],
          [
           1490627487
          ]
         ],
         "hovertemplate": "Date=2024-05-26 00:00:00<br>Sequence=%{x}<br>GMV=%{y}<br>BuyerId=%{customdata[0]}<extra></extra>",
         "legendgroup": "2024-05-26 00:00:00",
         "line": {
          "color": "#EF553B",
          "dash": "solid"
         },
         "marker": {
          "symbol": "circle"
         },
         "mode": "lines",
         "name": "2024-05-26 00:00:00",
         "orientation": "v",
         "showlegend": true,
         "type": "scatter",
         "x": [
          16,
          17,
          18,
          19,
          20,
          21,
          22,
          23,
          24,
          25,
          26,
          27,
          28
         ],
         "xaxis": "x",
         "y": [
          32917,
          3026,
          3000,
          3011,
          4260,
          3247,
          22290,
          4338,
          16477,
          3154,
          3220,
          3768,
          3912
         ],
         "yaxis": "y"
        },
        {
         "customdata": [
          [
           1490476931
          ],
          [
           1490311301
          ],
          [
           1490561999
          ],
          [
           1490359929
          ],
          [
           1490361564
          ],
          [
           1490393962
          ],
          [
           1490421410
          ],
          [
           1490487261
          ],
          [
           1491211531
          ],
          [
           1490631387
          ],
          [
           1490920837
          ],
          [
           1491041802
          ],
          [
           1491200073
          ],
          [
           1491211531
          ],
          [
           1491285709
          ],
          [
           1490654382
          ],
          [
           1490338188
          ]
         ],
         "hovertemplate": "Date=2024-05-27 00:00:00<br>Sequence=%{x}<br>GMV=%{y}<br>BuyerId=%{customdata[0]}<extra></extra>",
         "legendgroup": "2024-05-27 00:00:00",
         "line": {
          "color": "#00cc96",
          "dash": "solid"
         },
         "marker": {
          "symbol": "circle"
         },
         "mode": "lines",
         "name": "2024-05-27 00:00:00",
         "orientation": "v",
         "showlegend": true,
         "type": "scatter",
         "x": [
          29,
          30,
          31,
          32,
          33,
          34,
          35,
          36,
          37,
          38,
          39,
          40,
          41,
          42,
          43,
          44,
          45
         ],
         "xaxis": "x",
         "y": [
          4770,
          2962,
          5610,
          3666,
          7028,
          4792,
          7461,
          3002,
          3434,
          11331,
          3543,
          3263,
          7130,
          5569,
          5557,
          9229,
          3813
         ],
         "yaxis": "y"
        },
        {
         "customdata": [
          [
           1490362370
          ],
          [
           1490361659
          ],
          [
           1490330019
          ],
          [
           1490325706
          ],
          [
           1490300148
          ],
          [
           1490310004
          ],
          [
           1490385485
          ],
          [
           1490269050
          ],
          [
           1490601232
          ],
          [
           1490311301
          ],
          [
           1490333663
          ],
          [
           1490488363
          ],
          [
           1490577255
          ],
          [
           1490389732
          ],
          [
           1490487261
          ],
          [
           1490429585
          ],
          [
           1490455815
          ],
          [
           1490530902
          ],
          [
           1490417031
          ],
          [
           1490404010
          ],
          [
           1490403236
          ],
          [
           1490601232
          ],
          [
           1490395485
          ],
          [
           1490326005
          ],
          [
           1490785584
          ],
          [
           1491150717
          ],
          [
           1490657147
          ],
          [
           1491009690
          ],
          [
           1490994154
          ],
          [
           1490976112
          ],
          [
           1490882713
          ],
          [
           1490733576
          ],
          [
           1491134216
          ],
          [
           1490720048
          ],
          [
           1490833011
          ],
          [
           1491144337
          ],
          [
           1490721116
          ],
          [
           1491153757
          ],
          [
           1490697967
          ],
          [
           1491157762
          ],
          [
           1491191619
          ],
          [
           1491181962
          ],
          [
           1491173391
          ],
          [
           1491224317
          ],
          [
           1491324476
          ],
          [
           1491159762
          ],
          [
           1491156972
          ],
          [
           1491159954
          ]
         ],
         "hovertemplate": "Date=2024-05-28 00:00:00<br>Sequence=%{x}<br>GMV=%{y}<br>BuyerId=%{customdata[0]}<extra></extra>",
         "legendgroup": "2024-05-28 00:00:00",
         "line": {
          "color": "#ab63fa",
          "dash": "solid"
         },
         "marker": {
          "symbol": "circle"
         },
         "mode": "lines",
         "name": "2024-05-28 00:00:00",
         "orientation": "v",
         "showlegend": true,
         "type": "scatter",
         "x": [
          46,
          47,
          48,
          49,
          50,
          51,
          52,
          53,
          54,
          55,
          56,
          57,
          58,
          59,
          60,
          61,
          62,
          63,
          64,
          65,
          66,
          67,
          68,
          69,
          70,
          71,
          72,
          73,
          74,
          75,
          76,
          77,
          78,
          79,
          80,
          81,
          82,
          83,
          84,
          85,
          86,
          87,
          88,
          89,
          90,
          91,
          92,
          93
         ],
         "xaxis": "x",
         "y": [
          5640,
          3970,
          5907,
          3691,
          3477,
          5157,
          3890,
          3274,
          3450,
          3046,
          3606,
          27463,
          4803,
          4708,
          3019,
          3049,
          5518,
          5629,
          4860,
          4648,
          6045,
          3359,
          5274,
          3548,
          10365,
          15176,
          6306,
          5344,
          28492,
          26702,
          4776,
          5380,
          5682,
          5016,
          8018,
          10124,
          8210,
          9164,
          8780,
          60134,
          3509,
          3423,
          15552,
          3785,
          14336,
          2717,
          3058,
          3470
         ],
         "yaxis": "y"
        },
        {
         "customdata": [
          [
           1490785584
          ],
          [
           1490894321
          ],
          [
           1490277489
          ],
          [
           1490311301
          ],
          [
           1490362295
          ],
          [
           1490459052
          ],
          [
           1490480263
          ],
          [
           1490711661
          ],
          [
           1490877279
          ],
          [
           1491167913
          ],
          [
           1491042208
          ],
          [
           1491129483
          ],
          [
           1491139219
          ],
          [
           1491181820
          ],
          [
           1491258341
          ],
          [
           1491276987
          ],
          [
           1491341674
          ],
          [
           1491100447
          ],
          [
           1490507211
          ]
         ],
         "hovertemplate": "Date=2024-05-29 00:00:00<br>Sequence=%{x}<br>GMV=%{y}<br>BuyerId=%{customdata[0]}<extra></extra>",
         "legendgroup": "2024-05-29 00:00:00",
         "line": {
          "color": "#FFA15A",
          "dash": "solid"
         },
         "marker": {
          "symbol": "circle"
         },
         "mode": "lines",
         "name": "2024-05-29 00:00:00",
         "orientation": "v",
         "showlegend": true,
         "type": "scatter",
         "x": [
          94,
          95,
          96,
          97,
          98,
          99,
          100,
          101,
          102,
          103,
          104,
          105,
          106,
          107,
          108,
          109,
          110,
          111,
          112
         ],
         "xaxis": "x",
         "y": [
          3633,
          5195,
          5828,
          2971,
          3469,
          6966,
          5499,
          2935,
          3612,
          2959,
          3240,
          5746,
          5347,
          12026,
          17573,
          10262,
          8574,
          4206,
          5883
         ],
         "yaxis": "y"
        },
        {
         "customdata": [
          [
           1490307340
          ],
          [
           1490307934
          ],
          [
           1490367324
          ],
          [
           1490419309
          ],
          [
           1490420651
          ],
          [
           1490441147
          ],
          [
           1490504166
          ],
          [
           1490444763
          ],
          [
           1490452126
          ],
          [
           1490487261
          ],
          [
           1490510342
          ],
          [
           1490544770
          ],
          [
           1490640890
          ],
          [
           1490329933
          ],
          [
           1490573564
          ],
          [
           1490430282
          ],
          [
           1490693676
          ],
          [
           1490983392
          ],
          [
           1490840007
          ],
          [
           1490860337
          ],
          [
           1490922312
          ],
          [
           1490935312
          ],
          [
           1491341674
          ],
          [
           1491256415
          ],
          [
           1490891781
          ],
          [
           1491178508
          ],
          [
           1491196048
          ],
          [
           1491286031
          ],
          [
           1491288881
          ],
          [
           1490715232
          ],
          [
           1491099770
          ],
          [
           1491148662
          ]
         ],
         "hovertemplate": "Date=2024-05-30 00:00:00<br>Sequence=%{x}<br>GMV=%{y}<br>BuyerId=%{customdata[0]}<extra></extra>",
         "legendgroup": "2024-05-30 00:00:00",
         "line": {
          "color": "#19d3f3",
          "dash": "solid"
         },
         "marker": {
          "symbol": "circle"
         },
         "mode": "lines",
         "name": "2024-05-30 00:00:00",
         "orientation": "v",
         "showlegend": true,
         "type": "scatter",
         "x": [
          113,
          114,
          115,
          116,
          117,
          118,
          119,
          120,
          121,
          122,
          123,
          124,
          125,
          126,
          127,
          128,
          129,
          130,
          131,
          132,
          133,
          134,
          135,
          136,
          137,
          138,
          139,
          140,
          141,
          142,
          143,
          144
         ],
         "xaxis": "x",
         "y": [
          15658,
          5136,
          3350,
          3339,
          5928,
          6001,
          2934,
          5561,
          8979,
          3011,
          14750,
          3210,
          4205,
          12007,
          5383,
          3270,
          4545,
          6021,
          4710,
          3764,
          14902,
          5201,
          6021,
          12182,
          3351,
          8818,
          5018,
          3391,
          4092,
          13744,
          3207,
          22874
         ],
         "yaxis": "y"
        },
        {
         "customdata": [
          [
           1490408476
          ],
          [
           1490290774
          ],
          [
           1490307340
          ],
          [
           1490311301
          ],
          [
           1490335532
          ],
          [
           1490335130
          ],
          [
           1490403892
          ],
          [
           1490405270
          ],
          [
           1479648736
          ],
          [
           1491309069
          ],
          [
           1490328514
          ],
          [
           1491159954
          ],
          [
           1490427026
          ],
          [
           1490872637
          ],
          [
           1490874058
          ],
          [
           1491117748
          ],
          [
           1490819589
          ],
          [
           1491169603
          ],
          [
           1491248869
          ],
          [
           1490773295
          ],
          [
           1491181155
          ]
         ],
         "hovertemplate": "Date=2024-05-31 00:00:00<br>Sequence=%{x}<br>GMV=%{y}<br>BuyerId=%{customdata[0]}<extra></extra>",
         "legendgroup": "2024-05-31 00:00:00",
         "line": {
          "color": "#FF6692",
          "dash": "solid"
         },
         "marker": {
          "symbol": "circle"
         },
         "mode": "lines",
         "name": "2024-05-31 00:00:00",
         "orientation": "v",
         "showlegend": true,
         "type": "scatter",
         "x": [
          145,
          146,
          147,
          148,
          149,
          150,
          151,
          152,
          153,
          154,
          155,
          156,
          157,
          158,
          159,
          160,
          161,
          162,
          163,
          164,
          165
         ],
         "xaxis": "x",
         "y": [
          3696,
          16855,
          5303,
          2979,
          4574,
          4022,
          8239,
          4298,
          15228,
          4767,
          5705,
          6827,
          7913,
          4355,
          3566,
          4185,
          3363,
          4971,
          4963,
          2873,
          3938
         ],
         "yaxis": "y"
        },
        {
         "customdata": [
          [
           1490549453
          ],
          [
           1490611539
          ],
          [
           1490291885
          ],
          [
           1490311301
          ],
          [
           1490480034
          ],
          [
           1490510035
          ],
          [
           1490541442
          ],
          [
           1490996629
          ],
          [
           1490405882
          ],
          [
           1490676570
          ],
          [
           1490709191
          ],
          [
           1490954036
          ],
          [
           1491056365
          ],
          [
           1491146840
          ],
          [
           1491191619
          ],
          [
           1490671853
          ],
          [
           1490671553
          ]
         ],
         "hovertemplate": "Date=2024-06-01 00:00:00<br>Sequence=%{x}<br>GMV=%{y}<br>BuyerId=%{customdata[0]}<extra></extra>",
         "legendgroup": "2024-06-01 00:00:00",
         "line": {
          "color": "#B6E880",
          "dash": "solid"
         },
         "marker": {
          "symbol": "circle"
         },
         "mode": "lines",
         "name": "2024-06-01 00:00:00",
         "orientation": "v",
         "showlegend": true,
         "type": "scatter",
         "x": [
          166,
          167,
          168,
          169,
          170,
          171,
          172,
          173,
          174,
          175,
          176,
          177,
          178,
          179,
          180,
          181,
          182
         ],
         "xaxis": "x",
         "y": [
          3108,
          2717,
          9920,
          2996,
          6969,
          10563,
          7726,
          5941,
          7493,
          5759,
          3172,
          3364,
          100274,
          4891,
          4223,
          12801,
          3167
         ],
         "yaxis": "y"
        },
        {
         "customdata": [
          [
           1490483087
          ],
          [
           1490280993
          ],
          [
           1490298575
          ],
          [
           1490327109
          ],
          [
           1490392272
          ],
          [
           1490408476
          ],
          [
           1490472414
          ],
          [
           1490443775
          ],
          [
           1490896634
          ],
          [
           1490637976
          ],
          [
           1490933509
          ],
          [
           1490950103
          ],
          [
           1491146840
          ],
          [
           1491174324
          ],
          [
           1491178332
          ],
          [
           1490510342
          ]
         ],
         "hovertemplate": "Date=2024-06-02 00:00:00<br>Sequence=%{x}<br>GMV=%{y}<br>BuyerId=%{customdata[0]}<extra></extra>",
         "legendgroup": "2024-06-02 00:00:00",
         "line": {
          "color": "#FF97FF",
          "dash": "solid"
         },
         "marker": {
          "symbol": "circle"
         },
         "mode": "lines",
         "name": "2024-06-02 00:00:00",
         "orientation": "v",
         "showlegend": true,
         "type": "scatter",
         "x": [
          183,
          184,
          185,
          186,
          187,
          188,
          189,
          190,
          191,
          192,
          193,
          194,
          195,
          196,
          197,
          198
         ],
         "xaxis": "x",
         "y": [
          6201,
          3866,
          4530,
          5274,
          4373,
          5259,
          4035,
          28626,
          4216,
          3045,
          3264,
          5551,
          5724,
          3262,
          4249,
          4910
         ],
         "yaxis": "y"
        },
        {
         "customdata": [
          [
           1490386857
          ],
          [
           1490893439
          ],
          [
           1490333600
          ],
          [
           1490968284
          ]
         ],
         "hovertemplate": "Date=2024-06-03 00:00:00<br>Sequence=%{x}<br>GMV=%{y}<br>BuyerId=%{customdata[0]}<extra></extra>",
         "legendgroup": "2024-06-03 00:00:00",
         "line": {
          "color": "#FECB52",
          "dash": "solid"
         },
         "marker": {
          "symbol": "circle"
         },
         "mode": "lines",
         "name": "2024-06-03 00:00:00",
         "orientation": "v",
         "showlegend": true,
         "type": "scatter",
         "x": [
          199,
          200,
          201,
          202
         ],
         "xaxis": "x",
         "y": [
          4033,
          2796,
          10115,
          3587
         ],
         "yaxis": "y"
        }
       ],
       "layout": {
        "legend": {
         "title": {
          "text": "Date"
         },
         "tracegroupgap": 0
        },
        "template": {
         "data": {
          "bar": [
           {
            "error_x": {
             "color": "#f2f5fa"
            },
            "error_y": {
             "color": "#f2f5fa"
            },
            "marker": {
             "line": {
              "color": "rgb(17,17,17)",
              "width": 0.5
             },
             "pattern": {
              "fillmode": "overlay",
              "size": 10,
              "solidity": 0.2
             }
            },
            "type": "bar"
           }
          ],
          "barpolar": [
           {
            "marker": {
             "line": {
              "color": "rgb(17,17,17)",
              "width": 0.5
             },
             "pattern": {
              "fillmode": "overlay",
              "size": 10,
              "solidity": 0.2
             }
            },
            "type": "barpolar"
           }
          ],
          "carpet": [
           {
            "aaxis": {
             "endlinecolor": "#A2B1C6",
             "gridcolor": "#506784",
             "linecolor": "#506784",
             "minorgridcolor": "#506784",
             "startlinecolor": "#A2B1C6"
            },
            "baxis": {
             "endlinecolor": "#A2B1C6",
             "gridcolor": "#506784",
             "linecolor": "#506784",
             "minorgridcolor": "#506784",
             "startlinecolor": "#A2B1C6"
            },
            "type": "carpet"
           }
          ],
          "choropleth": [
           {
            "colorbar": {
             "outlinewidth": 0,
             "ticks": ""
            },
            "type": "choropleth"
           }
          ],
          "contour": [
           {
            "colorbar": {
             "outlinewidth": 0,
             "ticks": ""
            },
            "colorscale": [
             [
              0,
              "#0d0887"
             ],
             [
              0.1111111111111111,
              "#46039f"
             ],
             [
              0.2222222222222222,
              "#7201a8"
             ],
             [
              0.3333333333333333,
              "#9c179e"
             ],
             [
              0.4444444444444444,
              "#bd3786"
             ],
             [
              0.5555555555555556,
              "#d8576b"
             ],
             [
              0.6666666666666666,
              "#ed7953"
             ],
             [
              0.7777777777777778,
              "#fb9f3a"
             ],
             [
              0.8888888888888888,
              "#fdca26"
             ],
             [
              1,
              "#f0f921"
             ]
            ],
            "type": "contour"
           }
          ],
          "contourcarpet": [
           {
            "colorbar": {
             "outlinewidth": 0,
             "ticks": ""
            },
            "type": "contourcarpet"
           }
          ],
          "heatmap": [
           {
            "colorbar": {
             "outlinewidth": 0,
             "ticks": ""
            },
            "colorscale": [
             [
              0,
              "#0d0887"
             ],
             [
              0.1111111111111111,
              "#46039f"
             ],
             [
              0.2222222222222222,
              "#7201a8"
             ],
             [
              0.3333333333333333,
              "#9c179e"
             ],
             [
              0.4444444444444444,
              "#bd3786"
             ],
             [
              0.5555555555555556,
              "#d8576b"
             ],
             [
              0.6666666666666666,
              "#ed7953"
             ],
             [
              0.7777777777777778,
              "#fb9f3a"
             ],
             [
              0.8888888888888888,
              "#fdca26"
             ],
             [
              1,
              "#f0f921"
             ]
            ],
            "type": "heatmap"
           }
          ],
          "heatmapgl": [
           {
            "colorbar": {
             "outlinewidth": 0,
             "ticks": ""
            },
            "colorscale": [
             [
              0,
              "#0d0887"
             ],
             [
              0.1111111111111111,
              "#46039f"
             ],
             [
              0.2222222222222222,
              "#7201a8"
             ],
             [
              0.3333333333333333,
              "#9c179e"
             ],
             [
              0.4444444444444444,
              "#bd3786"
             ],
             [
              0.5555555555555556,
              "#d8576b"
             ],
             [
              0.6666666666666666,
              "#ed7953"
             ],
             [
              0.7777777777777778,
              "#fb9f3a"
             ],
             [
              0.8888888888888888,
              "#fdca26"
             ],
             [
              1,
              "#f0f921"
             ]
            ],
            "type": "heatmapgl"
           }
          ],
          "histogram": [
           {
            "marker": {
             "pattern": {
              "fillmode": "overlay",
              "size": 10,
              "solidity": 0.2
             }
            },
            "type": "histogram"
           }
          ],
          "histogram2d": [
           {
            "colorbar": {
             "outlinewidth": 0,
             "ticks": ""
            },
            "colorscale": [
             [
              0,
              "#0d0887"
             ],
             [
              0.1111111111111111,
              "#46039f"
             ],
             [
              0.2222222222222222,
              "#7201a8"
             ],
             [
              0.3333333333333333,
              "#9c179e"
             ],
             [
              0.4444444444444444,
              "#bd3786"
             ],
             [
              0.5555555555555556,
              "#d8576b"
             ],
             [
              0.6666666666666666,
              "#ed7953"
             ],
             [
              0.7777777777777778,
              "#fb9f3a"
             ],
             [
              0.8888888888888888,
              "#fdca26"
             ],
             [
              1,
              "#f0f921"
             ]
            ],
            "type": "histogram2d"
           }
          ],
          "histogram2dcontour": [
           {
            "colorbar": {
             "outlinewidth": 0,
             "ticks": ""
            },
            "colorscale": [
             [
              0,
              "#0d0887"
             ],
             [
              0.1111111111111111,
              "#46039f"
             ],
             [
              0.2222222222222222,
              "#7201a8"
             ],
             [
              0.3333333333333333,
              "#9c179e"
             ],
             [
              0.4444444444444444,
              "#bd3786"
             ],
             [
              0.5555555555555556,
              "#d8576b"
             ],
             [
              0.6666666666666666,
              "#ed7953"
             ],
             [
              0.7777777777777778,
              "#fb9f3a"
             ],
             [
              0.8888888888888888,
              "#fdca26"
             ],
             [
              1,
              "#f0f921"
             ]
            ],
            "type": "histogram2dcontour"
           }
          ],
          "mesh3d": [
           {
            "colorbar": {
             "outlinewidth": 0,
             "ticks": ""
            },
            "type": "mesh3d"
           }
          ],
          "parcoords": [
           {
            "line": {
             "colorbar": {
              "outlinewidth": 0,
              "ticks": ""
             }
            },
            "type": "parcoords"
           }
          ],
          "pie": [
           {
            "automargin": true,
            "type": "pie"
           }
          ],
          "scatter": [
           {
            "marker": {
             "line": {
              "color": "#283442"
             }
            },
            "type": "scatter"
           }
          ],
          "scatter3d": [
           {
            "line": {
             "colorbar": {
              "outlinewidth": 0,
              "ticks": ""
             }
            },
            "marker": {
             "colorbar": {
              "outlinewidth": 0,
              "ticks": ""
             }
            },
            "type": "scatter3d"
           }
          ],
          "scattercarpet": [
           {
            "marker": {
             "colorbar": {
              "outlinewidth": 0,
              "ticks": ""
             }
            },
            "type": "scattercarpet"
           }
          ],
          "scattergeo": [
           {
            "marker": {
             "colorbar": {
              "outlinewidth": 0,
              "ticks": ""
             }
            },
            "type": "scattergeo"
           }
          ],
          "scattergl": [
           {
            "marker": {
             "line": {
              "color": "#283442"
             }
            },
            "type": "scattergl"
           }
          ],
          "scattermapbox": [
           {
            "marker": {
             "colorbar": {
              "outlinewidth": 0,
              "ticks": ""
             }
            },
            "type": "scattermapbox"
           }
          ],
          "scatterpolar": [
           {
            "marker": {
             "colorbar": {
              "outlinewidth": 0,
              "ticks": ""
             }
            },
            "type": "scatterpolar"
           }
          ],
          "scatterpolargl": [
           {
            "marker": {
             "colorbar": {
              "outlinewidth": 0,
              "ticks": ""
             }
            },
            "type": "scatterpolargl"
           }
          ],
          "scatterternary": [
           {
            "marker": {
             "colorbar": {
              "outlinewidth": 0,
              "ticks": ""
             }
            },
            "type": "scatterternary"
           }
          ],
          "surface": [
           {
            "colorbar": {
             "outlinewidth": 0,
             "ticks": ""
            },
            "colorscale": [
             [
              0,
              "#0d0887"
             ],
             [
              0.1111111111111111,
              "#46039f"
             ],
             [
              0.2222222222222222,
              "#7201a8"
             ],
             [
              0.3333333333333333,
              "#9c179e"
             ],
             [
              0.4444444444444444,
              "#bd3786"
             ],
             [
              0.5555555555555556,
              "#d8576b"
             ],
             [
              0.6666666666666666,
              "#ed7953"
             ],
             [
              0.7777777777777778,
              "#fb9f3a"
             ],
             [
              0.8888888888888888,
              "#fdca26"
             ],
             [
              1,
              "#f0f921"
             ]
            ],
            "type": "surface"
           }
          ],
          "table": [
           {
            "cells": {
             "fill": {
              "color": "#506784"
             },
             "line": {
              "color": "rgb(17,17,17)"
             }
            },
            "header": {
             "fill": {
              "color": "#2a3f5f"
             },
             "line": {
              "color": "rgb(17,17,17)"
             }
            },
            "type": "table"
           }
          ]
         },
         "layout": {
          "annotationdefaults": {
           "arrowcolor": "#f2f5fa",
           "arrowhead": 0,
           "arrowwidth": 1
          },
          "autotypenumbers": "strict",
          "coloraxis": {
           "colorbar": {
            "outlinewidth": 0,
            "ticks": ""
           }
          },
          "colorscale": {
           "diverging": [
            [
             0,
             "#8e0152"
            ],
            [
             0.1,
             "#c51b7d"
            ],
            [
             0.2,
             "#de77ae"
            ],
            [
             0.3,
             "#f1b6da"
            ],
            [
             0.4,
             "#fde0ef"
            ],
            [
             0.5,
             "#f7f7f7"
            ],
            [
             0.6,
             "#e6f5d0"
            ],
            [
             0.7,
             "#b8e186"
            ],
            [
             0.8,
             "#7fbc41"
            ],
            [
             0.9,
             "#4d9221"
            ],
            [
             1,
             "#276419"
            ]
           ],
           "sequential": [
            [
             0,
             "#0d0887"
            ],
            [
             0.1111111111111111,
             "#46039f"
            ],
            [
             0.2222222222222222,
             "#7201a8"
            ],
            [
             0.3333333333333333,
             "#9c179e"
            ],
            [
             0.4444444444444444,
             "#bd3786"
            ],
            [
             0.5555555555555556,
             "#d8576b"
            ],
            [
             0.6666666666666666,
             "#ed7953"
            ],
            [
             0.7777777777777778,
             "#fb9f3a"
            ],
            [
             0.8888888888888888,
             "#fdca26"
            ],
            [
             1,
             "#f0f921"
            ]
           ],
           "sequentialminus": [
            [
             0,
             "#0d0887"
            ],
            [
             0.1111111111111111,
             "#46039f"
            ],
            [
             0.2222222222222222,
             "#7201a8"
            ],
            [
             0.3333333333333333,
             "#9c179e"
            ],
            [
             0.4444444444444444,
             "#bd3786"
            ],
            [
             0.5555555555555556,
             "#d8576b"
            ],
            [
             0.6666666666666666,
             "#ed7953"
            ],
            [
             0.7777777777777778,
             "#fb9f3a"
            ],
            [
             0.8888888888888888,
             "#fdca26"
            ],
            [
             1,
             "#f0f921"
            ]
           ]
          },
          "colorway": [
           "#636efa",
           "#EF553B",
           "#00cc96",
           "#ab63fa",
           "#FFA15A",
           "#19d3f3",
           "#FF6692",
           "#B6E880",
           "#FF97FF",
           "#FECB52"
          ],
          "font": {
           "color": "#f2f5fa"
          },
          "geo": {
           "bgcolor": "rgb(17,17,17)",
           "lakecolor": "rgb(17,17,17)",
           "landcolor": "rgb(17,17,17)",
           "showlakes": true,
           "showland": true,
           "subunitcolor": "#506784"
          },
          "hoverlabel": {
           "align": "left"
          },
          "hovermode": "closest",
          "mapbox": {
           "style": "dark"
          },
          "paper_bgcolor": "rgb(17,17,17)",
          "plot_bgcolor": "rgb(17,17,17)",
          "polar": {
           "angularaxis": {
            "gridcolor": "#506784",
            "linecolor": "#506784",
            "ticks": ""
           },
           "bgcolor": "rgb(17,17,17)",
           "radialaxis": {
            "gridcolor": "#506784",
            "linecolor": "#506784",
            "ticks": ""
           }
          },
          "scene": {
           "xaxis": {
            "backgroundcolor": "rgb(17,17,17)",
            "gridcolor": "#506784",
            "gridwidth": 2,
            "linecolor": "#506784",
            "showbackground": true,
            "ticks": "",
            "zerolinecolor": "#C8D4E3"
           },
           "yaxis": {
            "backgroundcolor": "rgb(17,17,17)",
            "gridcolor": "#506784",
            "gridwidth": 2,
            "linecolor": "#506784",
            "showbackground": true,
            "ticks": "",
            "zerolinecolor": "#C8D4E3"
           },
           "zaxis": {
            "backgroundcolor": "rgb(17,17,17)",
            "gridcolor": "#506784",
            "gridwidth": 2,
            "linecolor": "#506784",
            "showbackground": true,
            "ticks": "",
            "zerolinecolor": "#C8D4E3"
           }
          },
          "shapedefaults": {
           "line": {
            "color": "#f2f5fa"
           }
          },
          "sliderdefaults": {
           "bgcolor": "#C8D4E3",
           "bordercolor": "rgb(17,17,17)",
           "borderwidth": 1,
           "tickwidth": 0
          },
          "ternary": {
           "aaxis": {
            "gridcolor": "#506784",
            "linecolor": "#506784",
            "ticks": ""
           },
           "baxis": {
            "gridcolor": "#506784",
            "linecolor": "#506784",
            "ticks": ""
           },
           "bgcolor": "rgb(17,17,17)",
           "caxis": {
            "gridcolor": "#506784",
            "linecolor": "#506784",
            "ticks": ""
           }
          },
          "title": {
           "x": 0.05
          },
          "updatemenudefaults": {
           "bgcolor": "#506784",
           "borderwidth": 0
          },
          "xaxis": {
           "automargin": true,
           "gridcolor": "#283442",
           "linecolor": "#506784",
           "ticks": "",
           "title": {
            "standoff": 15
           },
           "zerolinecolor": "#283442",
           "zerolinewidth": 2
          },
          "yaxis": {
           "automargin": true,
           "gridcolor": "#283442",
           "linecolor": "#506784",
           "ticks": "",
           "title": {
            "standoff": 15
           },
           "zerolinecolor": "#283442",
           "zerolinewidth": 2
          }
         }
        },
        "title": {
         "text": "GMV for Last 5 Days"
        },
        "xaxis": {
         "anchor": "y",
         "domain": [
          0,
          1
         ],
         "title": {
          "text": "Sequence"
         }
        },
        "yaxis": {
         "anchor": "x",
         "domain": [
          0,
          1
         ],
         "title": {
          "text": "GMV"
         }
        }
       }
      }
     },
     "metadata": {},
     "output_type": "display_data"
    }
   ],
   "source": [
    "\n",
    "df['Dates'] = pd.to_datetime(df['Dates'])\n",
    "df = df.sort_values('Dates')\n",
    "days_ago = pd.Timestamp.now() - pd.DateOffset(days=10)\n",
    "\n",
    "# Filter DataFrame to get data for the last 5 days\n",
    "last_n_days = df[df['Dates'] >= days_ago]\n",
    "\n",
    "# Add a sequential order column\n",
    "last_n_days['Order'] = range(1, len(last_n_days) + 1)\n",
    "\n",
    "# Plot the sequential curve graph using Plotly\n",
    "fig = px.line(last_n_days, x='Order', y='Buyer GMV', color='Dates',\n",
    "              title='GMV for Last 5 Days',\n",
    "              labels={'Order': 'Sequence', 'Buyer GMV': 'GMV', 'Dates': 'Date'},\n",
    "              hover_data={'BuyerId':True},\n",
    "              template='plotly_dark')\n",
    "fig.show()\n"
   ]
  },
  {
   "cell_type": "markdown",
   "metadata": {},
   "source": [
    "#### Data Transformation"
   ]
  },
  {
   "cell_type": "code",
   "execution_count": 4,
   "metadata": {},
   "outputs": [
    {
     "data": {
      "text/html": [
       "<div>\n",
       "<style scoped>\n",
       "    .dataframe tbody tr th:only-of-type {\n",
       "        vertical-align: middle;\n",
       "    }\n",
       "\n",
       "    .dataframe tbody tr th {\n",
       "        vertical-align: top;\n",
       "    }\n",
       "\n",
       "    .dataframe thead th {\n",
       "        text-align: right;\n",
       "    }\n",
       "</style>\n",
       "<table border=\"1\" class=\"dataframe\">\n",
       "  <thead>\n",
       "    <tr style=\"text-align: right;\">\n",
       "      <th></th>\n",
       "      <th>Dates</th>\n",
       "      <th>BuyerId</th>\n",
       "      <th>BuyerName</th>\n",
       "      <th>BuyerPhone</th>\n",
       "      <th>SellerId</th>\n",
       "      <th>SellerName</th>\n",
       "      <th>SellerPhone</th>\n",
       "      <th>Recency Bucket</th>\n",
       "      <th>Buyer GMV</th>\n",
       "      <th>mean</th>\n",
       "      <th>std</th>\n",
       "      <th>GMV</th>\n",
       "    </tr>\n",
       "  </thead>\n",
       "  <tbody>\n",
       "    <tr>\n",
       "      <th>0</th>\n",
       "      <td>2023-06-01</td>\n",
       "      <td>1490270381</td>\n",
       "      <td>s.v.traders</td>\n",
       "      <td>7899819755</td>\n",
       "      <td>1490414492</td>\n",
       "      <td>YES TRADERS</td>\n",
       "      <td>8700630916</td>\n",
       "      <td>Above 90 Days</td>\n",
       "      <td>3951</td>\n",
       "      <td>3700.3125</td>\n",
       "      <td>2034.826503</td>\n",
       "      <td>0.123198</td>\n",
       "    </tr>\n",
       "    <tr>\n",
       "      <th>1</th>\n",
       "      <td>2023-06-01</td>\n",
       "      <td>1490485595</td>\n",
       "      <td>Progressive marketing</td>\n",
       "      <td>9567139155</td>\n",
       "      <td>1490414492</td>\n",
       "      <td>YES TRADERS</td>\n",
       "      <td>8700630916</td>\n",
       "      <td>Above 90 Days</td>\n",
       "      <td>2190</td>\n",
       "      <td>3700.3125</td>\n",
       "      <td>2034.826503</td>\n",
       "      <td>-0.742232</td>\n",
       "    </tr>\n",
       "    <tr>\n",
       "      <th>2</th>\n",
       "      <td>2023-06-01</td>\n",
       "      <td>1490706971</td>\n",
       "      <td>Puja store</td>\n",
       "      <td>7859077362</td>\n",
       "      <td>1490482693</td>\n",
       "      <td>MAHESHWARI GARMENT</td>\n",
       "      <td>8502830016</td>\n",
       "      <td>Above 90 Days</td>\n",
       "      <td>3354</td>\n",
       "      <td>4248.0000</td>\n",
       "      <td>1796.468295</td>\n",
       "      <td>-0.497643</td>\n",
       "    </tr>\n",
       "    <tr>\n",
       "      <th>3</th>\n",
       "      <td>2023-06-01</td>\n",
       "      <td>1490696149</td>\n",
       "      <td>Tei 100dawr</td>\n",
       "      <td>8794786070</td>\n",
       "      <td>1490414492</td>\n",
       "      <td>YES TRADERS</td>\n",
       "      <td>8700630916</td>\n",
       "      <td>Above 90 Days</td>\n",
       "      <td>4498</td>\n",
       "      <td>3700.3125</td>\n",
       "      <td>2034.826503</td>\n",
       "      <td>0.392017</td>\n",
       "    </tr>\n",
       "    <tr>\n",
       "      <th>4</th>\n",
       "      <td>2023-06-01</td>\n",
       "      <td>1490629707</td>\n",
       "      <td>Shakir footwear</td>\n",
       "      <td>8638848970</td>\n",
       "      <td>1490414492</td>\n",
       "      <td>YES TRADERS</td>\n",
       "      <td>8700630916</td>\n",
       "      <td>61-90 Days</td>\n",
       "      <td>2680</td>\n",
       "      <td>3700.3125</td>\n",
       "      <td>2034.826503</td>\n",
       "      <td>-0.501425</td>\n",
       "    </tr>\n",
       "  </tbody>\n",
       "</table>\n",
       "</div>"
      ],
      "text/plain": [
       "       Dates     BuyerId              BuyerName  BuyerPhone    SellerId  \\\n",
       "0 2023-06-01  1490270381            s.v.traders  7899819755  1490414492   \n",
       "1 2023-06-01  1490485595  Progressive marketing  9567139155  1490414492   \n",
       "2 2023-06-01  1490706971             Puja store  7859077362  1490482693   \n",
       "3 2023-06-01  1490696149            Tei 100dawr  8794786070  1490414492   \n",
       "4 2023-06-01  1490629707        Shakir footwear  8638848970  1490414492   \n",
       "\n",
       "           SellerName  SellerPhone Recency Bucket  Buyer GMV       mean  \\\n",
       "0         YES TRADERS   8700630916  Above 90 Days       3951  3700.3125   \n",
       "1         YES TRADERS   8700630916  Above 90 Days       2190  3700.3125   \n",
       "2  MAHESHWARI GARMENT   8502830016  Above 90 Days       3354  4248.0000   \n",
       "3         YES TRADERS   8700630916  Above 90 Days       4498  3700.3125   \n",
       "4         YES TRADERS   8700630916     61-90 Days       2680  3700.3125   \n",
       "\n",
       "           std       GMV  \n",
       "0  2034.826503  0.123198  \n",
       "1  2034.826503 -0.742232  \n",
       "2  1796.468295 -0.497643  \n",
       "3  2034.826503  0.392017  \n",
       "4  2034.826503 -0.501425  "
      ]
     },
     "execution_count": 4,
     "metadata": {},
     "output_type": "execute_result"
    }
   ],
   "source": [
    "daily_stats_seller = df.groupby(['Dates', 'SellerId'])['Buyer GMV'].agg(['mean', 'std']).reset_index()\n",
    "df = df.merge(daily_stats_seller, on=['Dates', 'SellerId'], how='left', suffixes=('', '_daily'))\n",
    "df['GMV'] = (df['Buyer GMV'] - df['mean']) / df['std']\n",
    "df = df.dropna()\n",
    "df.head()\n"
   ]
  },
  {
   "cell_type": "code",
   "execution_count": 5,
   "metadata": {},
   "outputs": [],
   "source": [
    "def cluster(x):\n",
    "    if x>0:\n",
    "        return 1\n",
    "    else :\n",
    "        return 0\n",
    "df['Cluster']=df['GMV'].apply(cluster)"
   ]
  },
  {
   "cell_type": "code",
   "execution_count": 6,
   "metadata": {},
   "outputs": [
    {
     "data": {
      "text/html": [
       "<div>\n",
       "<style scoped>\n",
       "    .dataframe tbody tr th:only-of-type {\n",
       "        vertical-align: middle;\n",
       "    }\n",
       "\n",
       "    .dataframe tbody tr th {\n",
       "        vertical-align: top;\n",
       "    }\n",
       "\n",
       "    .dataframe thead th {\n",
       "        text-align: right;\n",
       "    }\n",
       "</style>\n",
       "<table border=\"1\" class=\"dataframe\">\n",
       "  <thead>\n",
       "    <tr style=\"text-align: right;\">\n",
       "      <th></th>\n",
       "      <th>Dates</th>\n",
       "      <th>BuyerId</th>\n",
       "      <th>BuyerName</th>\n",
       "      <th>BuyerPhone</th>\n",
       "      <th>SellerId</th>\n",
       "      <th>SellerName</th>\n",
       "      <th>SellerPhone</th>\n",
       "      <th>Recency Bucket</th>\n",
       "      <th>Buyer GMV</th>\n",
       "      <th>mean</th>\n",
       "      <th>std</th>\n",
       "      <th>GMV</th>\n",
       "      <th>Cluster</th>\n",
       "    </tr>\n",
       "  </thead>\n",
       "  <tbody>\n",
       "    <tr>\n",
       "      <th>0</th>\n",
       "      <td>2023-06-01</td>\n",
       "      <td>1490270381</td>\n",
       "      <td>s.v.traders</td>\n",
       "      <td>7899819755</td>\n",
       "      <td>1490414492</td>\n",
       "      <td>YES TRADERS</td>\n",
       "      <td>8700630916</td>\n",
       "      <td>Above 90 Days</td>\n",
       "      <td>3951</td>\n",
       "      <td>3700.3125</td>\n",
       "      <td>2034.826503</td>\n",
       "      <td>0.123198</td>\n",
       "      <td>1</td>\n",
       "    </tr>\n",
       "    <tr>\n",
       "      <th>1</th>\n",
       "      <td>2023-06-01</td>\n",
       "      <td>1490485595</td>\n",
       "      <td>Progressive marketing</td>\n",
       "      <td>9567139155</td>\n",
       "      <td>1490414492</td>\n",
       "      <td>YES TRADERS</td>\n",
       "      <td>8700630916</td>\n",
       "      <td>Above 90 Days</td>\n",
       "      <td>2190</td>\n",
       "      <td>3700.3125</td>\n",
       "      <td>2034.826503</td>\n",
       "      <td>-0.742232</td>\n",
       "      <td>0</td>\n",
       "    </tr>\n",
       "    <tr>\n",
       "      <th>2</th>\n",
       "      <td>2023-06-01</td>\n",
       "      <td>1490706971</td>\n",
       "      <td>Puja store</td>\n",
       "      <td>7859077362</td>\n",
       "      <td>1490482693</td>\n",
       "      <td>MAHESHWARI GARMENT</td>\n",
       "      <td>8502830016</td>\n",
       "      <td>Above 90 Days</td>\n",
       "      <td>3354</td>\n",
       "      <td>4248.0000</td>\n",
       "      <td>1796.468295</td>\n",
       "      <td>-0.497643</td>\n",
       "      <td>0</td>\n",
       "    </tr>\n",
       "    <tr>\n",
       "      <th>3</th>\n",
       "      <td>2023-06-01</td>\n",
       "      <td>1490696149</td>\n",
       "      <td>Tei 100dawr</td>\n",
       "      <td>8794786070</td>\n",
       "      <td>1490414492</td>\n",
       "      <td>YES TRADERS</td>\n",
       "      <td>8700630916</td>\n",
       "      <td>Above 90 Days</td>\n",
       "      <td>4498</td>\n",
       "      <td>3700.3125</td>\n",
       "      <td>2034.826503</td>\n",
       "      <td>0.392017</td>\n",
       "      <td>1</td>\n",
       "    </tr>\n",
       "    <tr>\n",
       "      <th>4</th>\n",
       "      <td>2023-06-01</td>\n",
       "      <td>1490629707</td>\n",
       "      <td>Shakir footwear</td>\n",
       "      <td>8638848970</td>\n",
       "      <td>1490414492</td>\n",
       "      <td>YES TRADERS</td>\n",
       "      <td>8700630916</td>\n",
       "      <td>61-90 Days</td>\n",
       "      <td>2680</td>\n",
       "      <td>3700.3125</td>\n",
       "      <td>2034.826503</td>\n",
       "      <td>-0.501425</td>\n",
       "      <td>0</td>\n",
       "    </tr>\n",
       "    <tr>\n",
       "      <th>...</th>\n",
       "      <td>...</td>\n",
       "      <td>...</td>\n",
       "      <td>...</td>\n",
       "      <td>...</td>\n",
       "      <td>...</td>\n",
       "      <td>...</td>\n",
       "      <td>...</td>\n",
       "      <td>...</td>\n",
       "      <td>...</td>\n",
       "      <td>...</td>\n",
       "      <td>...</td>\n",
       "      <td>...</td>\n",
       "      <td>...</td>\n",
       "    </tr>\n",
       "    <tr>\n",
       "      <th>9739</th>\n",
       "      <td>2024-06-02</td>\n",
       "      <td>1491174324</td>\n",
       "      <td>Tarique shoe house</td>\n",
       "      <td>7872245927</td>\n",
       "      <td>1490414492</td>\n",
       "      <td>YES TRADERS</td>\n",
       "      <td>8700630916</td>\n",
       "      <td>0-7 Days</td>\n",
       "      <td>3262</td>\n",
       "      <td>4232.1000</td>\n",
       "      <td>860.828083</td>\n",
       "      <td>-1.126938</td>\n",
       "      <td>0</td>\n",
       "    </tr>\n",
       "    <tr>\n",
       "      <th>9740</th>\n",
       "      <td>2024-06-02</td>\n",
       "      <td>1491178332</td>\n",
       "      <td>Anaya Store</td>\n",
       "      <td>8822015146</td>\n",
       "      <td>1490414492</td>\n",
       "      <td>YES TRADERS</td>\n",
       "      <td>8700630916</td>\n",
       "      <td>0-7 Days</td>\n",
       "      <td>4249</td>\n",
       "      <td>4232.1000</td>\n",
       "      <td>860.828083</td>\n",
       "      <td>0.019632</td>\n",
       "      <td>1</td>\n",
       "    </tr>\n",
       "    <tr>\n",
       "      <th>9741</th>\n",
       "      <td>2024-06-02</td>\n",
       "      <td>1490510342</td>\n",
       "      <td>Aiwa footwear</td>\n",
       "      <td>9142336633</td>\n",
       "      <td>1490414492</td>\n",
       "      <td>YES TRADERS</td>\n",
       "      <td>8700630916</td>\n",
       "      <td>0-7 Days</td>\n",
       "      <td>4910</td>\n",
       "      <td>4232.1000</td>\n",
       "      <td>860.828083</td>\n",
       "      <td>0.787498</td>\n",
       "      <td>1</td>\n",
       "    </tr>\n",
       "    <tr>\n",
       "      <th>9742</th>\n",
       "      <td>2024-06-03</td>\n",
       "      <td>1490386857</td>\n",
       "      <td>choice shoe</td>\n",
       "      <td>9007496889</td>\n",
       "      <td>1490414492</td>\n",
       "      <td>YES TRADERS</td>\n",
       "      <td>8700630916</td>\n",
       "      <td>0-7 Days</td>\n",
       "      <td>4033</td>\n",
       "      <td>3810.0000</td>\n",
       "      <td>315.369624</td>\n",
       "      <td>0.707107</td>\n",
       "      <td>1</td>\n",
       "    </tr>\n",
       "    <tr>\n",
       "      <th>9745</th>\n",
       "      <td>2024-06-03</td>\n",
       "      <td>1490968284</td>\n",
       "      <td>Aliza boot house</td>\n",
       "      <td>7677406247</td>\n",
       "      <td>1490414492</td>\n",
       "      <td>YES TRADERS</td>\n",
       "      <td>8700630916</td>\n",
       "      <td>0-7 Days</td>\n",
       "      <td>3587</td>\n",
       "      <td>3810.0000</td>\n",
       "      <td>315.369624</td>\n",
       "      <td>-0.707107</td>\n",
       "      <td>0</td>\n",
       "    </tr>\n",
       "  </tbody>\n",
       "</table>\n",
       "<p>9458 rows × 13 columns</p>\n",
       "</div>"
      ],
      "text/plain": [
       "          Dates     BuyerId              BuyerName  BuyerPhone    SellerId  \\\n",
       "0    2023-06-01  1490270381            s.v.traders  7899819755  1490414492   \n",
       "1    2023-06-01  1490485595  Progressive marketing  9567139155  1490414492   \n",
       "2    2023-06-01  1490706971             Puja store  7859077362  1490482693   \n",
       "3    2023-06-01  1490696149            Tei 100dawr  8794786070  1490414492   \n",
       "4    2023-06-01  1490629707        Shakir footwear  8638848970  1490414492   \n",
       "...         ...         ...                    ...         ...         ...   \n",
       "9739 2024-06-02  1491174324     Tarique shoe house  7872245927  1490414492   \n",
       "9740 2024-06-02  1491178332            Anaya Store  8822015146  1490414492   \n",
       "9741 2024-06-02  1490510342          Aiwa footwear  9142336633  1490414492   \n",
       "9742 2024-06-03  1490386857            choice shoe  9007496889  1490414492   \n",
       "9745 2024-06-03  1490968284       Aliza boot house  7677406247  1490414492   \n",
       "\n",
       "              SellerName  SellerPhone Recency Bucket  Buyer GMV       mean  \\\n",
       "0            YES TRADERS   8700630916  Above 90 Days       3951  3700.3125   \n",
       "1            YES TRADERS   8700630916  Above 90 Days       2190  3700.3125   \n",
       "2     MAHESHWARI GARMENT   8502830016  Above 90 Days       3354  4248.0000   \n",
       "3            YES TRADERS   8700630916  Above 90 Days       4498  3700.3125   \n",
       "4            YES TRADERS   8700630916     61-90 Days       2680  3700.3125   \n",
       "...                  ...          ...            ...        ...        ...   \n",
       "9739         YES TRADERS   8700630916       0-7 Days       3262  4232.1000   \n",
       "9740         YES TRADERS   8700630916       0-7 Days       4249  4232.1000   \n",
       "9741         YES TRADERS   8700630916       0-7 Days       4910  4232.1000   \n",
       "9742         YES TRADERS   8700630916       0-7 Days       4033  3810.0000   \n",
       "9745         YES TRADERS   8700630916       0-7 Days       3587  3810.0000   \n",
       "\n",
       "              std       GMV  Cluster  \n",
       "0     2034.826503  0.123198        1  \n",
       "1     2034.826503 -0.742232        0  \n",
       "2     1796.468295 -0.497643        0  \n",
       "3     2034.826503  0.392017        1  \n",
       "4     2034.826503 -0.501425        0  \n",
       "...           ...       ...      ...  \n",
       "9739   860.828083 -1.126938        0  \n",
       "9740   860.828083  0.019632        1  \n",
       "9741   860.828083  0.787498        1  \n",
       "9742   315.369624  0.707107        1  \n",
       "9745   315.369624 -0.707107        0  \n",
       "\n",
       "[9458 rows x 13 columns]"
      ]
     },
     "execution_count": 6,
     "metadata": {},
     "output_type": "execute_result"
    }
   ],
   "source": [
    "df"
   ]
  },
  {
   "cell_type": "code",
   "execution_count": 7,
   "metadata": {},
   "outputs": [
    {
     "data": {
      "text/html": [
       "<div>\n",
       "<style scoped>\n",
       "    .dataframe tbody tr th:only-of-type {\n",
       "        vertical-align: middle;\n",
       "    }\n",
       "\n",
       "    .dataframe tbody tr th {\n",
       "        vertical-align: top;\n",
       "    }\n",
       "\n",
       "    .dataframe thead th {\n",
       "        text-align: right;\n",
       "    }\n",
       "</style>\n",
       "<table border=\"1\" class=\"dataframe\">\n",
       "  <thead>\n",
       "    <tr style=\"text-align: right;\">\n",
       "      <th></th>\n",
       "      <th>SellerId</th>\n",
       "      <th>BuyerId</th>\n",
       "      <th>Cluster</th>\n",
       "    </tr>\n",
       "  </thead>\n",
       "  <tbody>\n",
       "    <tr>\n",
       "      <th>2503</th>\n",
       "      <td>1490414492</td>\n",
       "      <td>1491076443</td>\n",
       "      <td>19</td>\n",
       "    </tr>\n",
       "    <tr>\n",
       "      <th>3579</th>\n",
       "      <td>1490482693</td>\n",
       "      <td>1491061923</td>\n",
       "      <td>10</td>\n",
       "    </tr>\n",
       "    <tr>\n",
       "      <th>804</th>\n",
       "      <td>1490414492</td>\n",
       "      <td>1490351466</td>\n",
       "      <td>10</td>\n",
       "    </tr>\n",
       "    <tr>\n",
       "      <th>2303</th>\n",
       "      <td>1490414492</td>\n",
       "      <td>1490979809</td>\n",
       "      <td>9</td>\n",
       "    </tr>\n",
       "    <tr>\n",
       "      <th>1755</th>\n",
       "      <td>1490414492</td>\n",
       "      <td>1490696149</td>\n",
       "      <td>9</td>\n",
       "    </tr>\n",
       "    <tr>\n",
       "      <th>...</th>\n",
       "      <td>...</td>\n",
       "      <td>...</td>\n",
       "      <td>...</td>\n",
       "    </tr>\n",
       "    <tr>\n",
       "      <th>2483</th>\n",
       "      <td>1490414492</td>\n",
       "      <td>1491068330</td>\n",
       "      <td>0</td>\n",
       "    </tr>\n",
       "    <tr>\n",
       "      <th>2485</th>\n",
       "      <td>1490414492</td>\n",
       "      <td>1491069424</td>\n",
       "      <td>0</td>\n",
       "    </tr>\n",
       "    <tr>\n",
       "      <th>2486</th>\n",
       "      <td>1490414492</td>\n",
       "      <td>1491069431</td>\n",
       "      <td>0</td>\n",
       "    </tr>\n",
       "    <tr>\n",
       "      <th>2488</th>\n",
       "      <td>1490414492</td>\n",
       "      <td>1491069843</td>\n",
       "      <td>0</td>\n",
       "    </tr>\n",
       "    <tr>\n",
       "      <th>2923</th>\n",
       "      <td>1490482693</td>\n",
       "      <td>1490284584</td>\n",
       "      <td>0</td>\n",
       "    </tr>\n",
       "  </tbody>\n",
       "</table>\n",
       "<p>5847 rows × 3 columns</p>\n",
       "</div>"
      ],
      "text/plain": [
       "        SellerId     BuyerId  Cluster\n",
       "2503  1490414492  1491076443       19\n",
       "3579  1490482693  1491061923       10\n",
       "804   1490414492  1490351466       10\n",
       "2303  1490414492  1490979809        9\n",
       "1755  1490414492  1490696149        9\n",
       "...          ...         ...      ...\n",
       "2483  1490414492  1491068330        0\n",
       "2485  1490414492  1491069424        0\n",
       "2486  1490414492  1491069431        0\n",
       "2488  1490414492  1491069843        0\n",
       "2923  1490482693  1490284584        0\n",
       "\n",
       "[5847 rows x 3 columns]"
      ]
     },
     "execution_count": 7,
     "metadata": {},
     "output_type": "execute_result"
    }
   ],
   "source": [
    "pivot_df=df.groupby(['SellerId','BuyerId'])['Cluster'].sum().reset_index()\n",
    "pivot_df=pivot_df.sort_values(by='Cluster',ascending=False)\n",
    "\n",
    "pivot_df"
   ]
  },
  {
   "cell_type": "code",
   "execution_count": 8,
   "metadata": {},
   "outputs": [
    {
     "data": {
      "text/html": [
       "<div>\n",
       "<style scoped>\n",
       "    .dataframe tbody tr th:only-of-type {\n",
       "        vertical-align: middle;\n",
       "    }\n",
       "\n",
       "    .dataframe tbody tr th {\n",
       "        vertical-align: top;\n",
       "    }\n",
       "\n",
       "    .dataframe thead th {\n",
       "        text-align: right;\n",
       "    }\n",
       "</style>\n",
       "<table border=\"1\" class=\"dataframe\">\n",
       "  <thead>\n",
       "    <tr style=\"text-align: right;\">\n",
       "      <th></th>\n",
       "      <th>SellerId</th>\n",
       "      <th>BuyerId</th>\n",
       "      <th>Cluster</th>\n",
       "      <th>Rank</th>\n",
       "      <th>Priority</th>\n",
       "    </tr>\n",
       "  </thead>\n",
       "  <tbody>\n",
       "    <tr>\n",
       "      <th>2503</th>\n",
       "      <td>1490414492</td>\n",
       "      <td>1491076443</td>\n",
       "      <td>19</td>\n",
       "      <td>1</td>\n",
       "      <td>High Priority</td>\n",
       "    </tr>\n",
       "    <tr>\n",
       "      <th>3579</th>\n",
       "      <td>1490482693</td>\n",
       "      <td>1491061923</td>\n",
       "      <td>10</td>\n",
       "      <td>1</td>\n",
       "      <td>High Priority</td>\n",
       "    </tr>\n",
       "    <tr>\n",
       "      <th>804</th>\n",
       "      <td>1490414492</td>\n",
       "      <td>1490351466</td>\n",
       "      <td>10</td>\n",
       "      <td>2</td>\n",
       "      <td>High Priority</td>\n",
       "    </tr>\n",
       "    <tr>\n",
       "      <th>2303</th>\n",
       "      <td>1490414492</td>\n",
       "      <td>1490979809</td>\n",
       "      <td>9</td>\n",
       "      <td>3</td>\n",
       "      <td>High Priority</td>\n",
       "    </tr>\n",
       "    <tr>\n",
       "      <th>1755</th>\n",
       "      <td>1490414492</td>\n",
       "      <td>1490696149</td>\n",
       "      <td>9</td>\n",
       "      <td>4</td>\n",
       "      <td>High Priority</td>\n",
       "    </tr>\n",
       "    <tr>\n",
       "      <th>1430</th>\n",
       "      <td>1490414492</td>\n",
       "      <td>1490525727</td>\n",
       "      <td>9</td>\n",
       "      <td>5</td>\n",
       "      <td>High Priority</td>\n",
       "    </tr>\n",
       "    <tr>\n",
       "      <th>2449</th>\n",
       "      <td>1490414492</td>\n",
       "      <td>1491048831</td>\n",
       "      <td>8</td>\n",
       "      <td>6</td>\n",
       "      <td>High Priority</td>\n",
       "    </tr>\n",
       "    <tr>\n",
       "      <th>3771</th>\n",
       "      <td>1490482693</td>\n",
       "      <td>1491148662</td>\n",
       "      <td>8</td>\n",
       "      <td>2</td>\n",
       "      <td>High Priority</td>\n",
       "    </tr>\n",
       "    <tr>\n",
       "      <th>5214</th>\n",
       "      <td>1490485625</td>\n",
       "      <td>1490734058</td>\n",
       "      <td>8</td>\n",
       "      <td>1</td>\n",
       "      <td>High Priority</td>\n",
       "    </tr>\n",
       "    <tr>\n",
       "      <th>539</th>\n",
       "      <td>1490414492</td>\n",
       "      <td>1479646198</td>\n",
       "      <td>8</td>\n",
       "      <td>7</td>\n",
       "      <td>High Priority</td>\n",
       "    </tr>\n",
       "    <tr>\n",
       "      <th>2320</th>\n",
       "      <td>1490414492</td>\n",
       "      <td>1490988332</td>\n",
       "      <td>7</td>\n",
       "      <td>8</td>\n",
       "      <td>High Priority</td>\n",
       "    </tr>\n",
       "    <tr>\n",
       "      <th>1625</th>\n",
       "      <td>1490414492</td>\n",
       "      <td>1490616205</td>\n",
       "      <td>7</td>\n",
       "      <td>9</td>\n",
       "      <td>High Priority</td>\n",
       "    </tr>\n",
       "    <tr>\n",
       "      <th>5119</th>\n",
       "      <td>1490485625</td>\n",
       "      <td>1490622376</td>\n",
       "      <td>7</td>\n",
       "      <td>2</td>\n",
       "      <td>High Priority</td>\n",
       "    </tr>\n",
       "    <tr>\n",
       "      <th>3107</th>\n",
       "      <td>1490482693</td>\n",
       "      <td>1490665418</td>\n",
       "      <td>7</td>\n",
       "      <td>3</td>\n",
       "      <td>High Priority</td>\n",
       "    </tr>\n",
       "    <tr>\n",
       "      <th>3100</th>\n",
       "      <td>1490482693</td>\n",
       "      <td>1490651831</td>\n",
       "      <td>7</td>\n",
       "      <td>4</td>\n",
       "      <td>High Priority</td>\n",
       "    </tr>\n",
       "    <tr>\n",
       "      <th>1541</th>\n",
       "      <td>1490414492</td>\n",
       "      <td>1490554884</td>\n",
       "      <td>7</td>\n",
       "      <td>10</td>\n",
       "      <td>High Priority</td>\n",
       "    </tr>\n",
       "    <tr>\n",
       "      <th>1441</th>\n",
       "      <td>1490414492</td>\n",
       "      <td>1490530930</td>\n",
       "      <td>6</td>\n",
       "      <td>11</td>\n",
       "      <td>High Priority</td>\n",
       "    </tr>\n",
       "    <tr>\n",
       "      <th>1393</th>\n",
       "      <td>1490414492</td>\n",
       "      <td>1490510342</td>\n",
       "      <td>6</td>\n",
       "      <td>12</td>\n",
       "      <td>High Priority</td>\n",
       "    </tr>\n",
       "    <tr>\n",
       "      <th>3036</th>\n",
       "      <td>1490482693</td>\n",
       "      <td>1490557577</td>\n",
       "      <td>6</td>\n",
       "      <td>5</td>\n",
       "      <td>High Priority</td>\n",
       "    </tr>\n",
       "    <tr>\n",
       "      <th>2296</th>\n",
       "      <td>1490414492</td>\n",
       "      <td>1490976673</td>\n",
       "      <td>6</td>\n",
       "      <td>13</td>\n",
       "      <td>High Priority</td>\n",
       "    </tr>\n",
       "    <tr>\n",
       "      <th>2219</th>\n",
       "      <td>1490414492</td>\n",
       "      <td>1490945427</td>\n",
       "      <td>6</td>\n",
       "      <td>14</td>\n",
       "      <td>High Priority</td>\n",
       "    </tr>\n",
       "    <tr>\n",
       "      <th>3042</th>\n",
       "      <td>1490482693</td>\n",
       "      <td>1490565386</td>\n",
       "      <td>6</td>\n",
       "      <td>6</td>\n",
       "      <td>High Priority</td>\n",
       "    </tr>\n",
       "    <tr>\n",
       "      <th>2607</th>\n",
       "      <td>1490414492</td>\n",
       "      <td>1491111386</td>\n",
       "      <td>6</td>\n",
       "      <td>15</td>\n",
       "      <td>High Priority</td>\n",
       "    </tr>\n",
       "    <tr>\n",
       "      <th>1712</th>\n",
       "      <td>1490414492</td>\n",
       "      <td>1490675559</td>\n",
       "      <td>6</td>\n",
       "      <td>16</td>\n",
       "      <td>High Priority</td>\n",
       "    </tr>\n",
       "    <tr>\n",
       "      <th>3684</th>\n",
       "      <td>1490482693</td>\n",
       "      <td>1491116546</td>\n",
       "      <td>6</td>\n",
       "      <td>7</td>\n",
       "      <td>High Priority</td>\n",
       "    </tr>\n",
       "    <tr>\n",
       "      <th>3783</th>\n",
       "      <td>1490482693</td>\n",
       "      <td>1491150828</td>\n",
       "      <td>6</td>\n",
       "      <td>8</td>\n",
       "      <td>High Priority</td>\n",
       "    </tr>\n",
       "    <tr>\n",
       "      <th>3166</th>\n",
       "      <td>1490482693</td>\n",
       "      <td>1490721600</td>\n",
       "      <td>5</td>\n",
       "      <td>9</td>\n",
       "      <td>High Priority</td>\n",
       "    </tr>\n",
       "    <tr>\n",
       "      <th>1979</th>\n",
       "      <td>1490414492</td>\n",
       "      <td>1490798055</td>\n",
       "      <td>5</td>\n",
       "      <td>17</td>\n",
       "      <td>High Priority</td>\n",
       "    </tr>\n",
       "    <tr>\n",
       "      <th>3820</th>\n",
       "      <td>1490482693</td>\n",
       "      <td>1491156660</td>\n",
       "      <td>5</td>\n",
       "      <td>10</td>\n",
       "      <td>High Priority</td>\n",
       "    </tr>\n",
       "    <tr>\n",
       "      <th>828</th>\n",
       "      <td>1490414492</td>\n",
       "      <td>1490358899</td>\n",
       "      <td>5</td>\n",
       "      <td>18</td>\n",
       "      <td>High Priority</td>\n",
       "    </tr>\n",
       "  </tbody>\n",
       "</table>\n",
       "</div>"
      ],
      "text/plain": [
       "        SellerId     BuyerId  Cluster  Rank       Priority\n",
       "2503  1490414492  1491076443       19     1  High Priority\n",
       "3579  1490482693  1491061923       10     1  High Priority\n",
       "804   1490414492  1490351466       10     2  High Priority\n",
       "2303  1490414492  1490979809        9     3  High Priority\n",
       "1755  1490414492  1490696149        9     4  High Priority\n",
       "1430  1490414492  1490525727        9     5  High Priority\n",
       "2449  1490414492  1491048831        8     6  High Priority\n",
       "3771  1490482693  1491148662        8     2  High Priority\n",
       "5214  1490485625  1490734058        8     1  High Priority\n",
       "539   1490414492  1479646198        8     7  High Priority\n",
       "2320  1490414492  1490988332        7     8  High Priority\n",
       "1625  1490414492  1490616205        7     9  High Priority\n",
       "5119  1490485625  1490622376        7     2  High Priority\n",
       "3107  1490482693  1490665418        7     3  High Priority\n",
       "3100  1490482693  1490651831        7     4  High Priority\n",
       "1541  1490414492  1490554884        7    10  High Priority\n",
       "1441  1490414492  1490530930        6    11  High Priority\n",
       "1393  1490414492  1490510342        6    12  High Priority\n",
       "3036  1490482693  1490557577        6     5  High Priority\n",
       "2296  1490414492  1490976673        6    13  High Priority\n",
       "2219  1490414492  1490945427        6    14  High Priority\n",
       "3042  1490482693  1490565386        6     6  High Priority\n",
       "2607  1490414492  1491111386        6    15  High Priority\n",
       "1712  1490414492  1490675559        6    16  High Priority\n",
       "3684  1490482693  1491116546        6     7  High Priority\n",
       "3783  1490482693  1491150828        6     8  High Priority\n",
       "3166  1490482693  1490721600        5     9  High Priority\n",
       "1979  1490414492  1490798055        5    17  High Priority\n",
       "3820  1490482693  1491156660        5    10  High Priority\n",
       "828   1490414492  1490358899        5    18  High Priority"
      ]
     },
     "execution_count": 8,
     "metadata": {},
     "output_type": "execute_result"
    }
   ],
   "source": [
    "pivot_df['Rank']=pivot_df.groupby('SellerId')['Cluster'].rank(method='first',ascending=False).astype(int)\n",
    "def buyer_priority(x):\n",
    "    if x>0 :\n",
    "        return 'High Priority'\n",
    "    else:\n",
    "        return 'Low Priority'\n",
    "pivot_df['Priority']=pivot_df['Cluster'].apply(buyer_priority)\n",
    "pivot_df.head(30)"
   ]
  },
  {
   "cell_type": "code",
   "execution_count": 9,
   "metadata": {},
   "outputs": [],
   "source": [
    "final_df=pivot_df[pivot_df['Priority']=='High Priority']"
   ]
  },
  {
   "cell_type": "code",
   "execution_count": 10,
   "metadata": {},
   "outputs": [
    {
     "data": {
      "text/html": [
       "<div>\n",
       "<style scoped>\n",
       "    .dataframe tbody tr th:only-of-type {\n",
       "        vertical-align: middle;\n",
       "    }\n",
       "\n",
       "    .dataframe tbody tr th {\n",
       "        vertical-align: top;\n",
       "    }\n",
       "\n",
       "    .dataframe thead th {\n",
       "        text-align: right;\n",
       "    }\n",
       "</style>\n",
       "<table border=\"1\" class=\"dataframe\">\n",
       "  <thead>\n",
       "    <tr style=\"text-align: right;\">\n",
       "      <th></th>\n",
       "      <th>SellerId</th>\n",
       "      <th>BuyerId</th>\n",
       "      <th>Cluster</th>\n",
       "      <th>Rank</th>\n",
       "      <th>Priority</th>\n",
       "    </tr>\n",
       "  </thead>\n",
       "  <tbody>\n",
       "    <tr>\n",
       "      <th>2503</th>\n",
       "      <td>1490414492</td>\n",
       "      <td>1491076443</td>\n",
       "      <td>19</td>\n",
       "      <td>1</td>\n",
       "      <td>High Priority</td>\n",
       "    </tr>\n",
       "    <tr>\n",
       "      <th>3579</th>\n",
       "      <td>1490482693</td>\n",
       "      <td>1491061923</td>\n",
       "      <td>10</td>\n",
       "      <td>1</td>\n",
       "      <td>High Priority</td>\n",
       "    </tr>\n",
       "    <tr>\n",
       "      <th>804</th>\n",
       "      <td>1490414492</td>\n",
       "      <td>1490351466</td>\n",
       "      <td>10</td>\n",
       "      <td>2</td>\n",
       "      <td>High Priority</td>\n",
       "    </tr>\n",
       "    <tr>\n",
       "      <th>2303</th>\n",
       "      <td>1490414492</td>\n",
       "      <td>1490979809</td>\n",
       "      <td>9</td>\n",
       "      <td>3</td>\n",
       "      <td>High Priority</td>\n",
       "    </tr>\n",
       "    <tr>\n",
       "      <th>1755</th>\n",
       "      <td>1490414492</td>\n",
       "      <td>1490696149</td>\n",
       "      <td>9</td>\n",
       "      <td>4</td>\n",
       "      <td>High Priority</td>\n",
       "    </tr>\n",
       "  </tbody>\n",
       "</table>\n",
       "</div>"
      ],
      "text/plain": [
       "        SellerId     BuyerId  Cluster  Rank       Priority\n",
       "2503  1490414492  1491076443       19     1  High Priority\n",
       "3579  1490482693  1491061923       10     1  High Priority\n",
       "804   1490414492  1490351466       10     2  High Priority\n",
       "2303  1490414492  1490979809        9     3  High Priority\n",
       "1755  1490414492  1490696149        9     4  High Priority"
      ]
     },
     "execution_count": 10,
     "metadata": {},
     "output_type": "execute_result"
    }
   ],
   "source": [
    "final_df.head()"
   ]
  },
  {
   "cell_type": "code",
   "execution_count": 11,
   "metadata": {},
   "outputs": [
    {
     "data": {
      "text/html": [
       "<div>\n",
       "<style scoped>\n",
       "    .dataframe tbody tr th:only-of-type {\n",
       "        vertical-align: middle;\n",
       "    }\n",
       "\n",
       "    .dataframe tbody tr th {\n",
       "        vertical-align: top;\n",
       "    }\n",
       "\n",
       "    .dataframe thead th {\n",
       "        text-align: right;\n",
       "    }\n",
       "</style>\n",
       "<table border=\"1\" class=\"dataframe\">\n",
       "  <thead>\n",
       "    <tr style=\"text-align: right;\">\n",
       "      <th></th>\n",
       "      <th>SellerId</th>\n",
       "      <th>BuyerId</th>\n",
       "      <th>Cluster</th>\n",
       "      <th>Rank</th>\n",
       "      <th>Priority</th>\n",
       "      <th>Key</th>\n",
       "    </tr>\n",
       "  </thead>\n",
       "  <tbody>\n",
       "    <tr>\n",
       "      <th>2503</th>\n",
       "      <td>1490414492</td>\n",
       "      <td>1491076443</td>\n",
       "      <td>19</td>\n",
       "      <td>1</td>\n",
       "      <td>High Priority</td>\n",
       "      <td>1490414492_1491076443</td>\n",
       "    </tr>\n",
       "    <tr>\n",
       "      <th>3579</th>\n",
       "      <td>1490482693</td>\n",
       "      <td>1491061923</td>\n",
       "      <td>10</td>\n",
       "      <td>1</td>\n",
       "      <td>High Priority</td>\n",
       "      <td>1490482693_1491061923</td>\n",
       "    </tr>\n",
       "    <tr>\n",
       "      <th>804</th>\n",
       "      <td>1490414492</td>\n",
       "      <td>1490351466</td>\n",
       "      <td>10</td>\n",
       "      <td>2</td>\n",
       "      <td>High Priority</td>\n",
       "      <td>1490414492_1490351466</td>\n",
       "    </tr>\n",
       "    <tr>\n",
       "      <th>2303</th>\n",
       "      <td>1490414492</td>\n",
       "      <td>1490979809</td>\n",
       "      <td>9</td>\n",
       "      <td>3</td>\n",
       "      <td>High Priority</td>\n",
       "      <td>1490414492_1490979809</td>\n",
       "    </tr>\n",
       "    <tr>\n",
       "      <th>1755</th>\n",
       "      <td>1490414492</td>\n",
       "      <td>1490696149</td>\n",
       "      <td>9</td>\n",
       "      <td>4</td>\n",
       "      <td>High Priority</td>\n",
       "      <td>1490414492_1490696149</td>\n",
       "    </tr>\n",
       "    <tr>\n",
       "      <th>...</th>\n",
       "      <td>...</td>\n",
       "      <td>...</td>\n",
       "      <td>...</td>\n",
       "      <td>...</td>\n",
       "      <td>...</td>\n",
       "      <td>...</td>\n",
       "    </tr>\n",
       "    <tr>\n",
       "      <th>834</th>\n",
       "      <td>1490414492</td>\n",
       "      <td>1490359929</td>\n",
       "      <td>1</td>\n",
       "      <td>954</td>\n",
       "      <td>High Priority</td>\n",
       "      <td>1490414492_1490359929</td>\n",
       "    </tr>\n",
       "    <tr>\n",
       "      <th>980</th>\n",
       "      <td>1490414492</td>\n",
       "      <td>1490390332</td>\n",
       "      <td>1</td>\n",
       "      <td>955</td>\n",
       "      <td>High Priority</td>\n",
       "      <td>1490414492_1490390332</td>\n",
       "    </tr>\n",
       "    <tr>\n",
       "      <th>866</th>\n",
       "      <td>1490414492</td>\n",
       "      <td>1490366326</td>\n",
       "      <td>1</td>\n",
       "      <td>956</td>\n",
       "      <td>High Priority</td>\n",
       "      <td>1490414492_1490366326</td>\n",
       "    </tr>\n",
       "    <tr>\n",
       "      <th>3414</th>\n",
       "      <td>1490482693</td>\n",
       "      <td>1490947359</td>\n",
       "      <td>1</td>\n",
       "      <td>461</td>\n",
       "      <td>High Priority</td>\n",
       "      <td>1490482693_1490947359</td>\n",
       "    </tr>\n",
       "    <tr>\n",
       "      <th>835</th>\n",
       "      <td>1490414492</td>\n",
       "      <td>1490360057</td>\n",
       "      <td>1</td>\n",
       "      <td>957</td>\n",
       "      <td>High Priority</td>\n",
       "      <td>1490414492_1490360057</td>\n",
       "    </tr>\n",
       "  </tbody>\n",
       "</table>\n",
       "<p>2421 rows × 6 columns</p>\n",
       "</div>"
      ],
      "text/plain": [
       "        SellerId     BuyerId  Cluster  Rank       Priority  \\\n",
       "2503  1490414492  1491076443       19     1  High Priority   \n",
       "3579  1490482693  1491061923       10     1  High Priority   \n",
       "804   1490414492  1490351466       10     2  High Priority   \n",
       "2303  1490414492  1490979809        9     3  High Priority   \n",
       "1755  1490414492  1490696149        9     4  High Priority   \n",
       "...          ...         ...      ...   ...            ...   \n",
       "834   1490414492  1490359929        1   954  High Priority   \n",
       "980   1490414492  1490390332        1   955  High Priority   \n",
       "866   1490414492  1490366326        1   956  High Priority   \n",
       "3414  1490482693  1490947359        1   461  High Priority   \n",
       "835   1490414492  1490360057        1   957  High Priority   \n",
       "\n",
       "                        Key  \n",
       "2503  1490414492_1491076443  \n",
       "3579  1490482693_1491061923  \n",
       "804   1490414492_1490351466  \n",
       "2303  1490414492_1490979809  \n",
       "1755  1490414492_1490696149  \n",
       "...                     ...  \n",
       "834   1490414492_1490359929  \n",
       "980   1490414492_1490390332  \n",
       "866   1490414492_1490366326  \n",
       "3414  1490482693_1490947359  \n",
       "835   1490414492_1490360057  \n",
       "\n",
       "[2421 rows x 6 columns]"
      ]
     },
     "execution_count": 11,
     "metadata": {},
     "output_type": "execute_result"
    }
   ],
   "source": [
    "final_df['Key']=final_df['SellerId'].astype(str)+'_'+final_df['BuyerId'].astype(str)\n",
    "final_df"
   ]
  },
  {
   "cell_type": "code",
   "execution_count": 12,
   "metadata": {},
   "outputs": [
    {
     "data": {
      "text/html": [
       "<div>\n",
       "<style scoped>\n",
       "    .dataframe tbody tr th:only-of-type {\n",
       "        vertical-align: middle;\n",
       "    }\n",
       "\n",
       "    .dataframe tbody tr th {\n",
       "        vertical-align: top;\n",
       "    }\n",
       "\n",
       "    .dataframe thead th {\n",
       "        text-align: right;\n",
       "    }\n",
       "</style>\n",
       "<table border=\"1\" class=\"dataframe\">\n",
       "  <thead>\n",
       "    <tr style=\"text-align: right;\">\n",
       "      <th></th>\n",
       "      <th>Dates</th>\n",
       "      <th>BuyerId</th>\n",
       "      <th>BuyerName</th>\n",
       "      <th>BuyerPhone</th>\n",
       "      <th>SellerId</th>\n",
       "      <th>SellerName</th>\n",
       "      <th>SellerPhone</th>\n",
       "      <th>Recency Bucket</th>\n",
       "      <th>Buyer GMV</th>\n",
       "      <th>mean</th>\n",
       "      <th>std</th>\n",
       "      <th>GMV</th>\n",
       "      <th>Cluster</th>\n",
       "      <th>Key</th>\n",
       "    </tr>\n",
       "  </thead>\n",
       "  <tbody>\n",
       "    <tr>\n",
       "      <th>0</th>\n",
       "      <td>2023-06-01</td>\n",
       "      <td>1490270381</td>\n",
       "      <td>s.v.traders</td>\n",
       "      <td>7899819755</td>\n",
       "      <td>1490414492</td>\n",
       "      <td>YES TRADERS</td>\n",
       "      <td>8700630916</td>\n",
       "      <td>Above 90 Days</td>\n",
       "      <td>3951</td>\n",
       "      <td>3700.3125</td>\n",
       "      <td>2034.826503</td>\n",
       "      <td>0.123198</td>\n",
       "      <td>1</td>\n",
       "      <td>1490414492_1490270381</td>\n",
       "    </tr>\n",
       "    <tr>\n",
       "      <th>1</th>\n",
       "      <td>2023-06-01</td>\n",
       "      <td>1490485595</td>\n",
       "      <td>Progressive marketing</td>\n",
       "      <td>9567139155</td>\n",
       "      <td>1490414492</td>\n",
       "      <td>YES TRADERS</td>\n",
       "      <td>8700630916</td>\n",
       "      <td>Above 90 Days</td>\n",
       "      <td>2190</td>\n",
       "      <td>3700.3125</td>\n",
       "      <td>2034.826503</td>\n",
       "      <td>-0.742232</td>\n",
       "      <td>0</td>\n",
       "      <td>1490414492_1490485595</td>\n",
       "    </tr>\n",
       "    <tr>\n",
       "      <th>2</th>\n",
       "      <td>2023-06-01</td>\n",
       "      <td>1490706971</td>\n",
       "      <td>Puja store</td>\n",
       "      <td>7859077362</td>\n",
       "      <td>1490482693</td>\n",
       "      <td>MAHESHWARI GARMENT</td>\n",
       "      <td>8502830016</td>\n",
       "      <td>Above 90 Days</td>\n",
       "      <td>3354</td>\n",
       "      <td>4248.0000</td>\n",
       "      <td>1796.468295</td>\n",
       "      <td>-0.497643</td>\n",
       "      <td>0</td>\n",
       "      <td>1490482693_1490706971</td>\n",
       "    </tr>\n",
       "    <tr>\n",
       "      <th>3</th>\n",
       "      <td>2023-06-01</td>\n",
       "      <td>1490696149</td>\n",
       "      <td>Tei 100dawr</td>\n",
       "      <td>8794786070</td>\n",
       "      <td>1490414492</td>\n",
       "      <td>YES TRADERS</td>\n",
       "      <td>8700630916</td>\n",
       "      <td>Above 90 Days</td>\n",
       "      <td>4498</td>\n",
       "      <td>3700.3125</td>\n",
       "      <td>2034.826503</td>\n",
       "      <td>0.392017</td>\n",
       "      <td>1</td>\n",
       "      <td>1490414492_1490696149</td>\n",
       "    </tr>\n",
       "    <tr>\n",
       "      <th>4</th>\n",
       "      <td>2023-06-01</td>\n",
       "      <td>1490629707</td>\n",
       "      <td>Shakir footwear</td>\n",
       "      <td>8638848970</td>\n",
       "      <td>1490414492</td>\n",
       "      <td>YES TRADERS</td>\n",
       "      <td>8700630916</td>\n",
       "      <td>61-90 Days</td>\n",
       "      <td>2680</td>\n",
       "      <td>3700.3125</td>\n",
       "      <td>2034.826503</td>\n",
       "      <td>-0.501425</td>\n",
       "      <td>0</td>\n",
       "      <td>1490414492_1490629707</td>\n",
       "    </tr>\n",
       "    <tr>\n",
       "      <th>...</th>\n",
       "      <td>...</td>\n",
       "      <td>...</td>\n",
       "      <td>...</td>\n",
       "      <td>...</td>\n",
       "      <td>...</td>\n",
       "      <td>...</td>\n",
       "      <td>...</td>\n",
       "      <td>...</td>\n",
       "      <td>...</td>\n",
       "      <td>...</td>\n",
       "      <td>...</td>\n",
       "      <td>...</td>\n",
       "      <td>...</td>\n",
       "      <td>...</td>\n",
       "    </tr>\n",
       "    <tr>\n",
       "      <th>9739</th>\n",
       "      <td>2024-06-02</td>\n",
       "      <td>1491174324</td>\n",
       "      <td>Tarique shoe house</td>\n",
       "      <td>7872245927</td>\n",
       "      <td>1490414492</td>\n",
       "      <td>YES TRADERS</td>\n",
       "      <td>8700630916</td>\n",
       "      <td>0-7 Days</td>\n",
       "      <td>3262</td>\n",
       "      <td>4232.1000</td>\n",
       "      <td>860.828083</td>\n",
       "      <td>-1.126938</td>\n",
       "      <td>0</td>\n",
       "      <td>1490414492_1491174324</td>\n",
       "    </tr>\n",
       "    <tr>\n",
       "      <th>9740</th>\n",
       "      <td>2024-06-02</td>\n",
       "      <td>1491178332</td>\n",
       "      <td>Anaya Store</td>\n",
       "      <td>8822015146</td>\n",
       "      <td>1490414492</td>\n",
       "      <td>YES TRADERS</td>\n",
       "      <td>8700630916</td>\n",
       "      <td>0-7 Days</td>\n",
       "      <td>4249</td>\n",
       "      <td>4232.1000</td>\n",
       "      <td>860.828083</td>\n",
       "      <td>0.019632</td>\n",
       "      <td>1</td>\n",
       "      <td>1490414492_1491178332</td>\n",
       "    </tr>\n",
       "    <tr>\n",
       "      <th>9741</th>\n",
       "      <td>2024-06-02</td>\n",
       "      <td>1490510342</td>\n",
       "      <td>Aiwa footwear</td>\n",
       "      <td>9142336633</td>\n",
       "      <td>1490414492</td>\n",
       "      <td>YES TRADERS</td>\n",
       "      <td>8700630916</td>\n",
       "      <td>0-7 Days</td>\n",
       "      <td>4910</td>\n",
       "      <td>4232.1000</td>\n",
       "      <td>860.828083</td>\n",
       "      <td>0.787498</td>\n",
       "      <td>1</td>\n",
       "      <td>1490414492_1490510342</td>\n",
       "    </tr>\n",
       "    <tr>\n",
       "      <th>9742</th>\n",
       "      <td>2024-06-03</td>\n",
       "      <td>1490386857</td>\n",
       "      <td>choice shoe</td>\n",
       "      <td>9007496889</td>\n",
       "      <td>1490414492</td>\n",
       "      <td>YES TRADERS</td>\n",
       "      <td>8700630916</td>\n",
       "      <td>0-7 Days</td>\n",
       "      <td>4033</td>\n",
       "      <td>3810.0000</td>\n",
       "      <td>315.369624</td>\n",
       "      <td>0.707107</td>\n",
       "      <td>1</td>\n",
       "      <td>1490414492_1490386857</td>\n",
       "    </tr>\n",
       "    <tr>\n",
       "      <th>9745</th>\n",
       "      <td>2024-06-03</td>\n",
       "      <td>1490968284</td>\n",
       "      <td>Aliza boot house</td>\n",
       "      <td>7677406247</td>\n",
       "      <td>1490414492</td>\n",
       "      <td>YES TRADERS</td>\n",
       "      <td>8700630916</td>\n",
       "      <td>0-7 Days</td>\n",
       "      <td>3587</td>\n",
       "      <td>3810.0000</td>\n",
       "      <td>315.369624</td>\n",
       "      <td>-0.707107</td>\n",
       "      <td>0</td>\n",
       "      <td>1490414492_1490968284</td>\n",
       "    </tr>\n",
       "  </tbody>\n",
       "</table>\n",
       "<p>9458 rows × 14 columns</p>\n",
       "</div>"
      ],
      "text/plain": [
       "          Dates     BuyerId              BuyerName  BuyerPhone    SellerId  \\\n",
       "0    2023-06-01  1490270381            s.v.traders  7899819755  1490414492   \n",
       "1    2023-06-01  1490485595  Progressive marketing  9567139155  1490414492   \n",
       "2    2023-06-01  1490706971             Puja store  7859077362  1490482693   \n",
       "3    2023-06-01  1490696149            Tei 100dawr  8794786070  1490414492   \n",
       "4    2023-06-01  1490629707        Shakir footwear  8638848970  1490414492   \n",
       "...         ...         ...                    ...         ...         ...   \n",
       "9739 2024-06-02  1491174324     Tarique shoe house  7872245927  1490414492   \n",
       "9740 2024-06-02  1491178332            Anaya Store  8822015146  1490414492   \n",
       "9741 2024-06-02  1490510342          Aiwa footwear  9142336633  1490414492   \n",
       "9742 2024-06-03  1490386857            choice shoe  9007496889  1490414492   \n",
       "9745 2024-06-03  1490968284       Aliza boot house  7677406247  1490414492   \n",
       "\n",
       "              SellerName  SellerPhone Recency Bucket  Buyer GMV       mean  \\\n",
       "0            YES TRADERS   8700630916  Above 90 Days       3951  3700.3125   \n",
       "1            YES TRADERS   8700630916  Above 90 Days       2190  3700.3125   \n",
       "2     MAHESHWARI GARMENT   8502830016  Above 90 Days       3354  4248.0000   \n",
       "3            YES TRADERS   8700630916  Above 90 Days       4498  3700.3125   \n",
       "4            YES TRADERS   8700630916     61-90 Days       2680  3700.3125   \n",
       "...                  ...          ...            ...        ...        ...   \n",
       "9739         YES TRADERS   8700630916       0-7 Days       3262  4232.1000   \n",
       "9740         YES TRADERS   8700630916       0-7 Days       4249  4232.1000   \n",
       "9741         YES TRADERS   8700630916       0-7 Days       4910  4232.1000   \n",
       "9742         YES TRADERS   8700630916       0-7 Days       4033  3810.0000   \n",
       "9745         YES TRADERS   8700630916       0-7 Days       3587  3810.0000   \n",
       "\n",
       "              std       GMV  Cluster                    Key  \n",
       "0     2034.826503  0.123198        1  1490414492_1490270381  \n",
       "1     2034.826503 -0.742232        0  1490414492_1490485595  \n",
       "2     1796.468295 -0.497643        0  1490482693_1490706971  \n",
       "3     2034.826503  0.392017        1  1490414492_1490696149  \n",
       "4     2034.826503 -0.501425        0  1490414492_1490629707  \n",
       "...           ...       ...      ...                    ...  \n",
       "9739   860.828083 -1.126938        0  1490414492_1491174324  \n",
       "9740   860.828083  0.019632        1  1490414492_1491178332  \n",
       "9741   860.828083  0.787498        1  1490414492_1490510342  \n",
       "9742   315.369624  0.707107        1  1490414492_1490386857  \n",
       "9745   315.369624 -0.707107        0  1490414492_1490968284  \n",
       "\n",
       "[9458 rows x 14 columns]"
      ]
     },
     "execution_count": 12,
     "metadata": {},
     "output_type": "execute_result"
    }
   ],
   "source": [
    "df['Key']=df['SellerId'].astype(str)+'_'+df['BuyerId'].astype(str)\n",
    "df"
   ]
  },
  {
   "cell_type": "code",
   "execution_count": 13,
   "metadata": {},
   "outputs": [],
   "source": [
    "df_new=df[['Key','Recency Bucket','SellerName','BuyerName','SellerPhone','BuyerPhone']]"
   ]
  },
  {
   "cell_type": "code",
   "execution_count": 14,
   "metadata": {},
   "outputs": [
    {
     "data": {
      "text/html": [
       "<div>\n",
       "<style scoped>\n",
       "    .dataframe tbody tr th:only-of-type {\n",
       "        vertical-align: middle;\n",
       "    }\n",
       "\n",
       "    .dataframe tbody tr th {\n",
       "        vertical-align: top;\n",
       "    }\n",
       "\n",
       "    .dataframe thead th {\n",
       "        text-align: right;\n",
       "    }\n",
       "</style>\n",
       "<table border=\"1\" class=\"dataframe\">\n",
       "  <thead>\n",
       "    <tr style=\"text-align: right;\">\n",
       "      <th></th>\n",
       "      <th>SellerId</th>\n",
       "      <th>BuyerId</th>\n",
       "      <th>Cluster</th>\n",
       "      <th>Rank</th>\n",
       "      <th>Priority</th>\n",
       "      <th>Key</th>\n",
       "      <th>Recency Bucket</th>\n",
       "      <th>SellerName</th>\n",
       "      <th>BuyerName</th>\n",
       "      <th>SellerPhone</th>\n",
       "      <th>BuyerPhone</th>\n",
       "    </tr>\n",
       "  </thead>\n",
       "  <tbody>\n",
       "    <tr>\n",
       "      <th>0</th>\n",
       "      <td>1490414492</td>\n",
       "      <td>1491076443</td>\n",
       "      <td>19</td>\n",
       "      <td>1</td>\n",
       "      <td>High Priority</td>\n",
       "      <td>1490414492_1491076443</td>\n",
       "      <td>8-15 Days</td>\n",
       "      <td>YES TRADERS</td>\n",
       "      <td>Suzuki footwear</td>\n",
       "      <td>8700630916</td>\n",
       "      <td>8870981853</td>\n",
       "    </tr>\n",
       "    <tr>\n",
       "      <th>36</th>\n",
       "      <td>1490482693</td>\n",
       "      <td>1491061923</td>\n",
       "      <td>10</td>\n",
       "      <td>1</td>\n",
       "      <td>High Priority</td>\n",
       "      <td>1490482693_1491061923</td>\n",
       "      <td>16-30 Days</td>\n",
       "      <td>MAHESHWARI GARMENT</td>\n",
       "      <td>dress code</td>\n",
       "      <td>8502830016</td>\n",
       "      <td>8976147275</td>\n",
       "    </tr>\n",
       "    <tr>\n",
       "      <th>56</th>\n",
       "      <td>1490414492</td>\n",
       "      <td>1490351466</td>\n",
       "      <td>10</td>\n",
       "      <td>2</td>\n",
       "      <td>High Priority</td>\n",
       "      <td>1490414492_1490351466</td>\n",
       "      <td>31-60 Days</td>\n",
       "      <td>YES TRADERS</td>\n",
       "      <td>Kids collection</td>\n",
       "      <td>8700630916</td>\n",
       "      <td>9334408279</td>\n",
       "    </tr>\n",
       "    <tr>\n",
       "      <th>72</th>\n",
       "      <td>1490414492</td>\n",
       "      <td>1490979809</td>\n",
       "      <td>9</td>\n",
       "      <td>3</td>\n",
       "      <td>High Priority</td>\n",
       "      <td>1490414492_1490979809</td>\n",
       "      <td>8-15 Days</td>\n",
       "      <td>YES TRADERS</td>\n",
       "      <td>Sadham Foot Wear</td>\n",
       "      <td>8700630916</td>\n",
       "      <td>9080437790</td>\n",
       "    </tr>\n",
       "    <tr>\n",
       "      <th>86</th>\n",
       "      <td>1490414492</td>\n",
       "      <td>1490696149</td>\n",
       "      <td>9</td>\n",
       "      <td>4</td>\n",
       "      <td>High Priority</td>\n",
       "      <td>1490414492_1490696149</td>\n",
       "      <td>Above 90 Days</td>\n",
       "      <td>YES TRADERS</td>\n",
       "      <td>Tei 100dawr</td>\n",
       "      <td>8700630916</td>\n",
       "      <td>8794786070</td>\n",
       "    </tr>\n",
       "  </tbody>\n",
       "</table>\n",
       "</div>"
      ],
      "text/plain": [
       "      SellerId     BuyerId  Cluster  Rank       Priority  \\\n",
       "0   1490414492  1491076443       19     1  High Priority   \n",
       "36  1490482693  1491061923       10     1  High Priority   \n",
       "56  1490414492  1490351466       10     2  High Priority   \n",
       "72  1490414492  1490979809        9     3  High Priority   \n",
       "86  1490414492  1490696149        9     4  High Priority   \n",
       "\n",
       "                      Key Recency Bucket          SellerName  \\\n",
       "0   1490414492_1491076443      8-15 Days         YES TRADERS   \n",
       "36  1490482693_1491061923     16-30 Days  MAHESHWARI GARMENT   \n",
       "56  1490414492_1490351466     31-60 Days         YES TRADERS   \n",
       "72  1490414492_1490979809      8-15 Days         YES TRADERS   \n",
       "86  1490414492_1490696149  Above 90 Days         YES TRADERS   \n",
       "\n",
       "           BuyerName  SellerPhone  BuyerPhone  \n",
       "0    Suzuki footwear   8700630916  8870981853  \n",
       "36       dress code    8502830016  8976147275  \n",
       "56   Kids collection   8700630916  9334408279  \n",
       "72  Sadham Foot Wear   8700630916  9080437790  \n",
       "86       Tei 100dawr   8700630916  8794786070  "
      ]
     },
     "execution_count": 14,
     "metadata": {},
     "output_type": "execute_result"
    }
   ],
   "source": [
    "final_df=final_df.merge(df_new,how='inner',on='Key')\n",
    "final_df=final_df.drop_duplicates()\n",
    "final_df.head()"
   ]
  },
  {
   "cell_type": "code",
   "execution_count": 15,
   "metadata": {},
   "outputs": [
    {
     "data": {
      "text/html": [
       "<div>\n",
       "<style scoped>\n",
       "    .dataframe tbody tr th:only-of-type {\n",
       "        vertical-align: middle;\n",
       "    }\n",
       "\n",
       "    .dataframe tbody tr th {\n",
       "        vertical-align: top;\n",
       "    }\n",
       "\n",
       "    .dataframe thead th {\n",
       "        text-align: right;\n",
       "    }\n",
       "</style>\n",
       "<table border=\"1\" class=\"dataframe\">\n",
       "  <thead>\n",
       "    <tr style=\"text-align: right;\">\n",
       "      <th></th>\n",
       "      <th>SellerId</th>\n",
       "      <th>SellerName</th>\n",
       "      <th>BuyerId</th>\n",
       "      <th>BuyerName</th>\n",
       "      <th>BuyerPhone</th>\n",
       "      <th>Recency Bucket</th>\n",
       "    </tr>\n",
       "  </thead>\n",
       "  <tbody>\n",
       "    <tr>\n",
       "      <th>0</th>\n",
       "      <td>1490414492</td>\n",
       "      <td>YES TRADERS</td>\n",
       "      <td>1491076443</td>\n",
       "      <td>Suzuki footwear</td>\n",
       "      <td>8870981853</td>\n",
       "      <td>8-15 Days</td>\n",
       "    </tr>\n",
       "    <tr>\n",
       "      <th>36</th>\n",
       "      <td>1490482693</td>\n",
       "      <td>MAHESHWARI GARMENT</td>\n",
       "      <td>1491061923</td>\n",
       "      <td>dress code</td>\n",
       "      <td>8976147275</td>\n",
       "      <td>16-30 Days</td>\n",
       "    </tr>\n",
       "    <tr>\n",
       "      <th>56</th>\n",
       "      <td>1490414492</td>\n",
       "      <td>YES TRADERS</td>\n",
       "      <td>1490351466</td>\n",
       "      <td>Kids collection</td>\n",
       "      <td>9334408279</td>\n",
       "      <td>31-60 Days</td>\n",
       "    </tr>\n",
       "    <tr>\n",
       "      <th>72</th>\n",
       "      <td>1490414492</td>\n",
       "      <td>YES TRADERS</td>\n",
       "      <td>1490979809</td>\n",
       "      <td>Sadham Foot Wear</td>\n",
       "      <td>9080437790</td>\n",
       "      <td>8-15 Days</td>\n",
       "    </tr>\n",
       "    <tr>\n",
       "      <th>86</th>\n",
       "      <td>1490414492</td>\n",
       "      <td>YES TRADERS</td>\n",
       "      <td>1490696149</td>\n",
       "      <td>Tei 100dawr</td>\n",
       "      <td>8794786070</td>\n",
       "      <td>Above 90 Days</td>\n",
       "    </tr>\n",
       "    <tr>\n",
       "      <th>...</th>\n",
       "      <td>...</td>\n",
       "      <td>...</td>\n",
       "      <td>...</td>\n",
       "      <td>...</td>\n",
       "      <td>...</td>\n",
       "      <td>...</td>\n",
       "    </tr>\n",
       "    <tr>\n",
       "      <th>5123</th>\n",
       "      <td>1490414492</td>\n",
       "      <td>YES TRADERS</td>\n",
       "      <td>1490359929</td>\n",
       "      <td>long life footwear</td>\n",
       "      <td>9656677560</td>\n",
       "      <td>0-7 Days</td>\n",
       "    </tr>\n",
       "    <tr>\n",
       "      <th>5126</th>\n",
       "      <td>1490414492</td>\n",
       "      <td>YES TRADERS</td>\n",
       "      <td>1490390332</td>\n",
       "      <td>Tanisha Shoe Stores</td>\n",
       "      <td>9609458847</td>\n",
       "      <td>16-30 Days</td>\n",
       "    </tr>\n",
       "    <tr>\n",
       "      <th>5132</th>\n",
       "      <td>1490414492</td>\n",
       "      <td>YES TRADERS</td>\n",
       "      <td>1490366326</td>\n",
       "      <td>Hamid footwear</td>\n",
       "      <td>9608349584</td>\n",
       "      <td>Above 90 Days</td>\n",
       "    </tr>\n",
       "    <tr>\n",
       "      <th>5133</th>\n",
       "      <td>1490482693</td>\n",
       "      <td>MAHESHWARI GARMENT</td>\n",
       "      <td>1490947359</td>\n",
       "      <td>G9 collection</td>\n",
       "      <td>8619922492</td>\n",
       "      <td>Above 90 Days</td>\n",
       "    </tr>\n",
       "    <tr>\n",
       "      <th>5134</th>\n",
       "      <td>1490414492</td>\n",
       "      <td>YES TRADERS</td>\n",
       "      <td>1490360057</td>\n",
       "      <td>United Shoe Co</td>\n",
       "      <td>8961707466</td>\n",
       "      <td>Above 90 Days</td>\n",
       "    </tr>\n",
       "  </tbody>\n",
       "</table>\n",
       "<p>2421 rows × 6 columns</p>\n",
       "</div>"
      ],
      "text/plain": [
       "        SellerId          SellerName     BuyerId            BuyerName  \\\n",
       "0     1490414492         YES TRADERS  1491076443      Suzuki footwear   \n",
       "36    1490482693  MAHESHWARI GARMENT  1491061923          dress code    \n",
       "56    1490414492         YES TRADERS  1490351466      Kids collection   \n",
       "72    1490414492         YES TRADERS  1490979809     Sadham Foot Wear   \n",
       "86    1490414492         YES TRADERS  1490696149          Tei 100dawr   \n",
       "...          ...                 ...         ...                  ...   \n",
       "5123  1490414492         YES TRADERS  1490359929   long life footwear   \n",
       "5126  1490414492         YES TRADERS  1490390332  Tanisha Shoe Stores   \n",
       "5132  1490414492         YES TRADERS  1490366326       Hamid footwear   \n",
       "5133  1490482693  MAHESHWARI GARMENT  1490947359        G9 collection   \n",
       "5134  1490414492         YES TRADERS  1490360057       United Shoe Co   \n",
       "\n",
       "      BuyerPhone Recency Bucket  \n",
       "0     8870981853      8-15 Days  \n",
       "36    8976147275     16-30 Days  \n",
       "56    9334408279     31-60 Days  \n",
       "72    9080437790      8-15 Days  \n",
       "86    8794786070  Above 90 Days  \n",
       "...          ...            ...  \n",
       "5123  9656677560       0-7 Days  \n",
       "5126  9609458847     16-30 Days  \n",
       "5132  9608349584  Above 90 Days  \n",
       "5133  8619922492  Above 90 Days  \n",
       "5134  8961707466  Above 90 Days  \n",
       "\n",
       "[2421 rows x 6 columns]"
      ]
     },
     "execution_count": 15,
     "metadata": {},
     "output_type": "execute_result"
    }
   ],
   "source": [
    "final_df=final_df[['SellerId', 'SellerName', 'BuyerId','BuyerName','BuyerPhone',  'Recency Bucket']]\n",
    "final_df"
   ]
  },
  {
   "cell_type": "code",
   "execution_count": 16,
   "metadata": {},
   "outputs": [],
   "source": [
    "final_df.to_excel('1_May_Buyer_Target.xlsx',index=False)"
   ]
  },
  {
   "cell_type": "code",
   "execution_count": 17,
   "metadata": {},
   "outputs": [
    {
     "data": {
      "text/plain": [
       "(2421, 6)"
      ]
     },
     "execution_count": 17,
     "metadata": {},
     "output_type": "execute_result"
    }
   ],
   "source": [
    "final_df.shape"
   ]
  },
  {
   "cell_type": "code",
   "execution_count": 18,
   "metadata": {},
   "outputs": [
    {
     "data": {
      "text/html": [
       "<div>\n",
       "<style scoped>\n",
       "    .dataframe tbody tr th:only-of-type {\n",
       "        vertical-align: middle;\n",
       "    }\n",
       "\n",
       "    .dataframe tbody tr th {\n",
       "        vertical-align: top;\n",
       "    }\n",
       "\n",
       "    .dataframe thead th {\n",
       "        text-align: right;\n",
       "    }\n",
       "</style>\n",
       "<table border=\"1\" class=\"dataframe\">\n",
       "  <thead>\n",
       "    <tr style=\"text-align: right;\">\n",
       "      <th></th>\n",
       "      <th>SellerId</th>\n",
       "      <th>SellerName</th>\n",
       "      <th>BuyerId</th>\n",
       "      <th>BuyerName</th>\n",
       "      <th>BuyerPhone</th>\n",
       "      <th>Recency Bucket</th>\n",
       "    </tr>\n",
       "  </thead>\n",
       "  <tbody>\n",
       "    <tr>\n",
       "      <th>0</th>\n",
       "      <td>1490414492</td>\n",
       "      <td>YES TRADERS</td>\n",
       "      <td>1491076443</td>\n",
       "      <td>Suzuki footwear</td>\n",
       "      <td>8870981853</td>\n",
       "      <td>8-15 Days</td>\n",
       "    </tr>\n",
       "    <tr>\n",
       "      <th>36</th>\n",
       "      <td>1490482693</td>\n",
       "      <td>MAHESHWARI GARMENT</td>\n",
       "      <td>1491061923</td>\n",
       "      <td>dress code</td>\n",
       "      <td>8976147275</td>\n",
       "      <td>16-30 Days</td>\n",
       "    </tr>\n",
       "    <tr>\n",
       "      <th>56</th>\n",
       "      <td>1490414492</td>\n",
       "      <td>YES TRADERS</td>\n",
       "      <td>1490351466</td>\n",
       "      <td>Kids collection</td>\n",
       "      <td>9334408279</td>\n",
       "      <td>31-60 Days</td>\n",
       "    </tr>\n",
       "    <tr>\n",
       "      <th>72</th>\n",
       "      <td>1490414492</td>\n",
       "      <td>YES TRADERS</td>\n",
       "      <td>1490979809</td>\n",
       "      <td>Sadham Foot Wear</td>\n",
       "      <td>9080437790</td>\n",
       "      <td>8-15 Days</td>\n",
       "    </tr>\n",
       "    <tr>\n",
       "      <th>86</th>\n",
       "      <td>1490414492</td>\n",
       "      <td>YES TRADERS</td>\n",
       "      <td>1490696149</td>\n",
       "      <td>Tei 100dawr</td>\n",
       "      <td>8794786070</td>\n",
       "      <td>Above 90 Days</td>\n",
       "    </tr>\n",
       "    <tr>\n",
       "      <th>...</th>\n",
       "      <td>...</td>\n",
       "      <td>...</td>\n",
       "      <td>...</td>\n",
       "      <td>...</td>\n",
       "      <td>...</td>\n",
       "      <td>...</td>\n",
       "    </tr>\n",
       "    <tr>\n",
       "      <th>5123</th>\n",
       "      <td>1490414492</td>\n",
       "      <td>YES TRADERS</td>\n",
       "      <td>1490359929</td>\n",
       "      <td>long life footwear</td>\n",
       "      <td>9656677560</td>\n",
       "      <td>0-7 Days</td>\n",
       "    </tr>\n",
       "    <tr>\n",
       "      <th>5126</th>\n",
       "      <td>1490414492</td>\n",
       "      <td>YES TRADERS</td>\n",
       "      <td>1490390332</td>\n",
       "      <td>Tanisha Shoe Stores</td>\n",
       "      <td>9609458847</td>\n",
       "      <td>16-30 Days</td>\n",
       "    </tr>\n",
       "    <tr>\n",
       "      <th>5132</th>\n",
       "      <td>1490414492</td>\n",
       "      <td>YES TRADERS</td>\n",
       "      <td>1490366326</td>\n",
       "      <td>Hamid footwear</td>\n",
       "      <td>9608349584</td>\n",
       "      <td>Above 90 Days</td>\n",
       "    </tr>\n",
       "    <tr>\n",
       "      <th>5133</th>\n",
       "      <td>1490482693</td>\n",
       "      <td>MAHESHWARI GARMENT</td>\n",
       "      <td>1490947359</td>\n",
       "      <td>G9 collection</td>\n",
       "      <td>8619922492</td>\n",
       "      <td>Above 90 Days</td>\n",
       "    </tr>\n",
       "    <tr>\n",
       "      <th>5134</th>\n",
       "      <td>1490414492</td>\n",
       "      <td>YES TRADERS</td>\n",
       "      <td>1490360057</td>\n",
       "      <td>United Shoe Co</td>\n",
       "      <td>8961707466</td>\n",
       "      <td>Above 90 Days</td>\n",
       "    </tr>\n",
       "  </tbody>\n",
       "</table>\n",
       "<p>2421 rows × 6 columns</p>\n",
       "</div>"
      ],
      "text/plain": [
       "        SellerId          SellerName     BuyerId            BuyerName  \\\n",
       "0     1490414492         YES TRADERS  1491076443      Suzuki footwear   \n",
       "36    1490482693  MAHESHWARI GARMENT  1491061923          dress code    \n",
       "56    1490414492         YES TRADERS  1490351466      Kids collection   \n",
       "72    1490414492         YES TRADERS  1490979809     Sadham Foot Wear   \n",
       "86    1490414492         YES TRADERS  1490696149          Tei 100dawr   \n",
       "...          ...                 ...         ...                  ...   \n",
       "5123  1490414492         YES TRADERS  1490359929   long life footwear   \n",
       "5126  1490414492         YES TRADERS  1490390332  Tanisha Shoe Stores   \n",
       "5132  1490414492         YES TRADERS  1490366326       Hamid footwear   \n",
       "5133  1490482693  MAHESHWARI GARMENT  1490947359        G9 collection   \n",
       "5134  1490414492         YES TRADERS  1490360057       United Shoe Co   \n",
       "\n",
       "      BuyerPhone Recency Bucket  \n",
       "0     8870981853      8-15 Days  \n",
       "36    8976147275     16-30 Days  \n",
       "56    9334408279     31-60 Days  \n",
       "72    9080437790      8-15 Days  \n",
       "86    8794786070  Above 90 Days  \n",
       "...          ...            ...  \n",
       "5123  9656677560       0-7 Days  \n",
       "5126  9609458847     16-30 Days  \n",
       "5132  9608349584  Above 90 Days  \n",
       "5133  8619922492  Above 90 Days  \n",
       "5134  8961707466  Above 90 Days  \n",
       "\n",
       "[2421 rows x 6 columns]"
      ]
     },
     "execution_count": 18,
     "metadata": {},
     "output_type": "execute_result"
    }
   ],
   "source": [
    "final_df"
   ]
  },
  {
   "cell_type": "code",
   "execution_count": 19,
   "metadata": {},
   "outputs": [
    {
     "name": "stdout",
     "output_type": "stream",
     "text": [
      "Existing data cleared.\n",
      "Data written.\n",
      "Statuses updated.\n"
     ]
    }
   ],
   "source": [
    "from google.oauth2 import service_account\n",
    "import gspread\n",
    "from datetime import datetime\n",
    "\n",
    "# Set your JSON key file path\n",
    "json_key_path = 'Supply_cred.json'\n",
    "\n",
    "# Load credentials from the JSON key file\n",
    "creds = service_account.Credentials.from_service_account_file(json_key_path, scopes=['https://www.googleapis.com/auth/spreadsheets', 'https://www.googleapis.com/auth/drive'])\n",
    "\n",
    "# Authorize the client using the credentials\n",
    "client = gspread.authorize(creds)\n",
    "\n",
    "# Open the Google Sheets document by title\n",
    "source_sheet_title = 'DOD Details - Whatsapp bulk'\n",
    "source_sheet = client.open(source_sheet_title)\n",
    "\n",
    "# Select a specific worksheet within the source document\n",
    "source_worksheet = source_sheet.worksheet('Buyer Details - 3 June')  # 0 index refers to the first sheet\n",
    "\n",
    "# Read existing data from the sheet\n",
    "existing_data = source_worksheet.get_all_values()\n",
    "df = final_df\n",
    "\n",
    "# Clear existing data from the sheet\n",
    "if len(existing_data) > 0:\n",
    "    source_worksheet.delete_rows(2, len(existing_data))\n",
    "    print(\"Existing data cleared.\")\n",
    "\n",
    "# Write the entire DataFrame to the worksheet\n",
    "data_to_append = [df.columns.tolist()] + df.values.tolist()\n",
    "source_worksheet.insert_rows(data_to_append, 2)  # Insert after headers\n",
    "print(\"Data written.\")\n",
    "\n",
    "print(\"Statuses updated.\")\n"
   ]
  },
  {
   "cell_type": "code",
   "execution_count": 20,
   "metadata": {},
   "outputs": [
    {
     "data": {
      "text/plain": [
       "Index(['SellerId', 'SellerName', 'BuyerId', 'BuyerName', 'BuyerPhone',\n",
       "       'Recency Bucket'],\n",
       "      dtype='object')"
      ]
     },
     "execution_count": 20,
     "metadata": {},
     "output_type": "execute_result"
    }
   ],
   "source": [
    "final_df.columns"
   ]
  },
  {
   "cell_type": "code",
   "execution_count": 21,
   "metadata": {},
   "outputs": [
    {
     "data": {
      "text/plain": [
       "(2421, 6)"
      ]
     },
     "execution_count": 21,
     "metadata": {},
     "output_type": "execute_result"
    }
   ],
   "source": [
    "final_df.shape"
   ]
  },
  {
   "cell_type": "code",
   "execution_count": null,
   "metadata": {},
   "outputs": [],
   "source": []
  }
 ],
 "metadata": {
  "kernelspec": {
   "display_name": "Python 3",
   "language": "python",
   "name": "python3"
  },
  "language_info": {
   "codemirror_mode": {
    "name": "ipython",
    "version": 3
   },
   "file_extension": ".py",
   "mimetype": "text/x-python",
   "name": "python",
   "nbconvert_exporter": "python",
   "pygments_lexer": "ipython3",
   "version": "3.11.1"
  }
 },
 "nbformat": 4,
 "nbformat_minor": 2
}
