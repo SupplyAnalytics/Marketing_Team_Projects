{
  "nbformat": 4,
  "nbformat_minor": 0,
  "metadata": {
    "colab": {
      "provenance": [],
      "authorship_tag": "ABX9TyPDMof3B51yjwPObz6JDQ3f",
      "include_colab_link": true
    },
    "kernelspec": {
      "name": "python3",
      "display_name": "Python 3"
    },
    "language_info": {
      "name": "python"
    }
  },
  "cells": [
    {
      "cell_type": "markdown",
      "metadata": {
        "id": "view-in-github",
        "colab_type": "text"
      },
      "source": [
        "<a href=\"https://colab.research.google.com/github/SupplyAnalytics/Marketing_Team_Projects/blob/main/Combine_All_CSV_File_in_One.ipynb\" target=\"_parent\"><img src=\"https://colab.research.google.com/assets/colab-badge.svg\" alt=\"Open In Colab\"/></a>"
      ]
    },
    {
      "cell_type": "code",
      "execution_count": null,
      "metadata": {
        "id": "OlrbXyCh83Ye"
      },
      "outputs": [],
      "source": [
        "\n",
        "import pandas as pd\n",
        "import os"
      ]
    },
    {
      "cell_type": "code",
      "source": [
        "# Mount Google Drive (optional, if files are in Google Drive)\n",
        "from google.colab import drive\n",
        "drive.mount('/content/drive')"
      ],
      "metadata": {
        "colab": {
          "base_uri": "https://localhost:8080/"
        },
        "id": "aW0zXQrU9As3",
        "outputId": "72a1bf80-28c6-4522-a713-6e86d0c170dc"
      },
      "execution_count": null,
      "outputs": [
        {
          "output_type": "stream",
          "name": "stdout",
          "text": [
            "Mounted at /content/drive\n"
          ]
        }
      ]
    },
    {
      "cell_type": "code",
      "source": [
        "# Define the directory containing your CSV files\n",
        "csv_directory = '/content/drive/My Drive/PP_DP_JULY_19_Results'  # Change this path if necessary"
      ],
      "metadata": {
        "id": "6phnez809PqI"
      },
      "execution_count": null,
      "outputs": []
    },
    {
      "cell_type": "code",
      "source": [
        "# Iterate over all files in the directory\n",
        "for file in os.listdir(csv_directory):\n",
        "    if file.endswith('.csv'):\n",
        "        file_path = os.path.join(csv_directory, file)\n",
        "\n",
        "        # Check if the file is not empty\n",
        "        if os.path.getsize(file_path) > 0:\n",
        "            try:\n",
        "                # Read CSV file and add a new column with the file name\n",
        "                df = pd.read_csv(file_path)\n",
        "                df['source_file'] = file  # Add the file name as a new column\n",
        "                dataframes.append(df)\n",
        "            except pd.errors.EmptyDataError:\n",
        "                print(f\"Skipping file with no columns to parse: {file_path}\")\n",
        "        else:\n",
        "            print(f\"Skipping empty file: {file_path}\")"
      ],
      "metadata": {
        "colab": {
          "base_uri": "https://localhost:8080/"
        },
        "id": "UCqJ875c9lDr",
        "outputId": "284198bf-300c-457a-c3e5-2c8e92460d8b"
      },
      "execution_count": null,
      "outputs": [
        {
          "output_type": "stream",
          "name": "stdout",
          "text": [
            "Skipping file with no columns to parse: /content/drive/My Drive/PP_DP_JULY_19_Results/PP_DP_Task_Result_eva full moulded shoes.csv\n",
            "Skipping file with no columns to parse: /content/drive/My Drive/PP_DP_JULY_19_Results/PP_DP_Task_Result_jackets.csv\n",
            "Skipping file with no columns to parse: /content/drive/My Drive/PP_DP_JULY_19_Results/PP_DP_Task_Result_kurti.csv\n",
            "Skipping file with no columns to parse: /content/drive/My Drive/PP_DP_JULY_19_Results/PP_DP_Task_Result_kurti with bottom & dupatta.csv\n",
            "Skipping file with no columns to parse: /content/drive/My Drive/PP_DP_JULY_19_Results/PP_DP_Task_Result_leather handmade boots.csv\n",
            "Skipping file with no columns to parse: /content/drive/My Drive/PP_DP_JULY_19_Results/PP_DP_Task_Result_leather handmade safety shoes.csv\n",
            "Skipping file with no columns to parse: /content/drive/My Drive/PP_DP_JULY_19_Results/PP_DP_Task_Result_leather handmade sandals.csv\n",
            "Skipping file with no columns to parse: /content/drive/My Drive/PP_DP_JULY_19_Results/PP_DP_Task_Result_leather handmade slippers.csv\n",
            "Skipping file with no columns to parse: /content/drive/My Drive/PP_DP_JULY_19_Results/PP_DP_Task_Result_machine pasted sneakers.csv\n",
            "Skipping file with no columns to parse: /content/drive/My Drive/PP_DP_JULY_19_Results/PP_DP_Task_Result_pu moulded sandals.csv\n",
            "Skipping file with no columns to parse: /content/drive/My Drive/PP_DP_JULY_19_Results/PP_DP_Task_Result_pvc moulded sandals.csv\n",
            "Skipping file with no columns to parse: /content/drive/My Drive/PP_DP_JULY_19_Results/PP_DP_Task_Result_pvc full moulded sandals.csv\n",
            "Skipping file with no columns to parse: /content/drive/My Drive/PP_DP_JULY_19_Results/PP_DP_Task_Result_sweatshirts.csv\n",
            "Skipping file with no columns to parse: /content/drive/My Drive/PP_DP_JULY_19_Results/PP_DP_Task_Result_synthetic handmade heel bellies.csv\n",
            "Skipping file with no columns to parse: /content/drive/My Drive/PP_DP_JULY_19_Results/PP_DP_Task_Result_pvc moulded bellies.csv\n",
            "Skipping file with no columns to parse: /content/drive/My Drive/PP_DP_JULY_19_Results/PP_DP_Task_Result_shirts.csv\n"
          ]
        }
      ]
    },
    {
      "cell_type": "code",
      "source": [
        "# Concatenate all DataFrames\n",
        "if dataframes:\n",
        "    master_df = pd.concat(dataframes, ignore_index=True)\n",
        "\n",
        "    # Save the concatenated DataFrame to a master CSV file\n",
        "    master_csv_path = '/content/drive/My Drive/PP_DP_JULY_19_Results/PP_DP_Duplicacy_19July.csv'\n",
        "    master_df.to_csv(master_csv_path, index=False)\n",
        "    print(f'Master CSV file created at: {master_csv_path}')\n",
        "else:\n",
        "    print(\"No data to concatenate.\")"
      ],
      "metadata": {
        "colab": {
          "base_uri": "https://localhost:8080/"
        },
        "id": "ohErwX4D9qoN",
        "outputId": "fc1d441e-ebc9-4b84-9ccf-6043fc9af28d"
      },
      "execution_count": null,
      "outputs": [
        {
          "output_type": "stream",
          "name": "stdout",
          "text": [
            "Master CSV file created at: /content/drive/My Drive/PP_DP_JULY_19_Results/PP_DP_Duplicacy_19July.csv\n"
          ]
        }
      ]
    },
    {
      "cell_type": "code",
      "source": [],
      "metadata": {
        "id": "PrQhUgnlDMAN"
      },
      "execution_count": null,
      "outputs": []
    }
  ]
}