{
 "cells": [
  {
   "cell_type": "markdown",
   "metadata": {},
   "source": [
    "#### Similarity"
   ]
  },
  {
   "cell_type": "code",
   "execution_count": null,
   "metadata": {},
   "outputs": [],
   "source": [
    "import gspread\n",
    "import pandas as pd\n",
    "from google.auth.transport.requests import Request\n",
    "from google.oauth2 import service_account\n",
    "from google.oauth2.service_account import Credentials\n",
    "\n",
    "# Define the scope and credentials\n",
    "scopes = ['https://www.googleapis.com/auth/spreadsheets', 'https://www.googleapis.com/auth/drive']\n",
    "creds = Credentials.from_service_account_file('Supply_cred.json', scopes=scopes)\n",
    "\n",
    "# Authorize the client\n",
    "client = gspread.authorize(creds)   \n",
    "\n",
    "# Open the Google Sheet by its title\n",
    "sheet = client.open('Agra Buyer Profiling')\n",
    "\n",
    "# Read data from a specific worksheet\n",
    "worksheet = sheet.worksheet('Clothing Profiling')  # Replace 'Sheet1' with the actual sheet name\n",
    "data = worksheet.get_all_records()\n",
    "df = pd.DataFrame(data)"
   ]
  },
  {
   "cell_type": "code",
   "execution_count": 2,
   "metadata": {},
   "outputs": [],
   "source": [
    "df=df[['Buyer Number',\n",
    "       'Shirt -  Starting Purchasing Price', 'Shirt -  End Purchasing Price',\n",
    "       'Jeans -  Starting Purchasing Price', 'Jeans -  End Purchasing Price',\n",
    "       'T-Shirts -  Starting Purchasing Price',\n",
    "       'T-Shirts -  End Purchasing Price',\n",
    "       'Shorts -  Starting Purchasing Price', 'Shorts -  End Purchasing Price',\n",
    "       'Track Pants -  Starting Purchasing Price',\n",
    "       'Track Pants -  End Purchasing Price',\n",
    "       'Trousers -  Starting Purchasing Price',\n",
    "       'Trousers -  End Purchasing Price',\n",
    "       'Track Suits -  Starting Purchasing Price',\n",
    "       'Track Suits -  End Purchasing Price',\n",
    "       'Kurta -  Starting Purchasing Price', 'Kurta -  End Purchasing Price']]"
   ]
  },
  {
   "cell_type": "code",
   "execution_count": 43,
   "metadata": {},
   "outputs": [
    {
     "data": {
      "text/html": [
       "<div>\n",
       "<style scoped>\n",
       "    .dataframe tbody tr th:only-of-type {\n",
       "        vertical-align: middle;\n",
       "    }\n",
       "\n",
       "    .dataframe tbody tr th {\n",
       "        vertical-align: top;\n",
       "    }\n",
       "\n",
       "    .dataframe thead th {\n",
       "        text-align: right;\n",
       "    }\n",
       "</style>\n",
       "<table border=\"1\" class=\"dataframe\">\n",
       "  <thead>\n",
       "    <tr style=\"text-align: right;\">\n",
       "      <th></th>\n",
       "      <th>Timestamp</th>\n",
       "      <th>Email Address</th>\n",
       "      <th>Buyer Number</th>\n",
       "      <th>Shop Name</th>\n",
       "      <th>Shop Owner Name</th>\n",
       "      <th>Pincode</th>\n",
       "      <th>Market Name</th>\n",
       "      <th>Upload Shop Photo/Visiting card</th>\n",
       "      <th>Deals in -</th>\n",
       "      <th>Shirt -  Starting Purchasing Price</th>\n",
       "      <th>...</th>\n",
       "      <th>Shorts -  Starting Purchasing Price</th>\n",
       "      <th>Shorts -  End Purchasing Price</th>\n",
       "      <th>Track Pants -  Starting Purchasing Price</th>\n",
       "      <th>Track Pants -  End Purchasing Price</th>\n",
       "      <th>Trousers -  Starting Purchasing Price</th>\n",
       "      <th>Trousers -  End Purchasing Price</th>\n",
       "      <th>Track Suits -  Starting Purchasing Price</th>\n",
       "      <th>Track Suits -  End Purchasing Price</th>\n",
       "      <th>Kurta -  Starting Purchasing Price</th>\n",
       "      <th>Kurta -  End Purchasing Price</th>\n",
       "    </tr>\n",
       "  </thead>\n",
       "  <tbody>\n",
       "    <tr>\n",
       "      <th>0</th>\n",
       "      <td>6/5/2024 20:54:22</td>\n",
       "      <td>gandharv.sharma@bijnis.com</td>\n",
       "      <td>8800096381</td>\n",
       "      <td>Gandharv Garments</td>\n",
       "      <td>Gandharv</td>\n",
       "      <td>282010</td>\n",
       "      <td>Shahganj</td>\n",
       "      <td>https://drive.google.com/open?id=1AcWMFFh6t1Ln...</td>\n",
       "      <td>Men</td>\n",
       "      <td>150</td>\n",
       "      <td>...</td>\n",
       "      <td>100</td>\n",
       "      <td>250</td>\n",
       "      <td>200</td>\n",
       "      <td>600</td>\n",
       "      <td>350</td>\n",
       "      <td>700</td>\n",
       "      <td>600</td>\n",
       "      <td>850</td>\n",
       "      <td>300</td>\n",
       "      <td>550</td>\n",
       "    </tr>\n",
       "    <tr>\n",
       "      <th>1</th>\n",
       "      <td>6/6/2024 12:30:49</td>\n",
       "      <td>mohammad.sameer@bijnis.com</td>\n",
       "      <td>7060752846</td>\n",
       "      <td>Kk standard choice</td>\n",
       "      <td>Saif</td>\n",
       "      <td>282003</td>\n",
       "      <td>Sindhi Bazaar</td>\n",
       "      <td>https://drive.google.com/open?id=123Jn_gS1Uo2m...</td>\n",
       "      <td>Men</td>\n",
       "      <td>150</td>\n",
       "      <td>...</td>\n",
       "      <td>100</td>\n",
       "      <td>150</td>\n",
       "      <td>150</td>\n",
       "      <td>200</td>\n",
       "      <td>250</td>\n",
       "      <td>400</td>\n",
       "      <td>550</td>\n",
       "      <td>600</td>\n",
       "      <td>300</td>\n",
       "      <td>500</td>\n",
       "    </tr>\n",
       "    <tr>\n",
       "      <th>2</th>\n",
       "      <td>6/6/2024 13:11:42</td>\n",
       "      <td>mohammad.sameer@bijnis.com</td>\n",
       "      <td>7300766670</td>\n",
       "      <td>Utsav fashion point</td>\n",
       "      <td>Har singh</td>\n",
       "      <td>282001</td>\n",
       "      <td>Rajpur Chungi</td>\n",
       "      <td>https://drive.google.com/open?id=1mi2vS1c1RY11...</td>\n",
       "      <td>Men</td>\n",
       "      <td>250</td>\n",
       "      <td>...</td>\n",
       "      <td></td>\n",
       "      <td></td>\n",
       "      <td></td>\n",
       "      <td></td>\n",
       "      <td>400</td>\n",
       "      <td>600</td>\n",
       "      <td></td>\n",
       "      <td></td>\n",
       "      <td>450</td>\n",
       "      <td>850</td>\n",
       "    </tr>\n",
       "    <tr>\n",
       "      <th>3</th>\n",
       "      <td>6/6/2024 13:59:13</td>\n",
       "      <td>mohammad.sameer@bijnis.com</td>\n",
       "      <td>8755475838</td>\n",
       "      <td>Gujrat sales</td>\n",
       "      <td>Raj</td>\n",
       "      <td>282005</td>\n",
       "      <td>New Agra/Dayalbagh</td>\n",
       "      <td>https://drive.google.com/open?id=1BGduCy17AfjC...</td>\n",
       "      <td>Men</td>\n",
       "      <td>150</td>\n",
       "      <td>...</td>\n",
       "      <td></td>\n",
       "      <td></td>\n",
       "      <td>200</td>\n",
       "      <td>350</td>\n",
       "      <td>350</td>\n",
       "      <td>450</td>\n",
       "      <td></td>\n",
       "      <td></td>\n",
       "      <td></td>\n",
       "      <td></td>\n",
       "    </tr>\n",
       "    <tr>\n",
       "      <th>4</th>\n",
       "      <td>6/6/2024 14:03:14</td>\n",
       "      <td>gandharv.sharma@bijnis.com</td>\n",
       "      <td>9027478173</td>\n",
       "      <td>Shagun saree</td>\n",
       "      <td>Aftab</td>\n",
       "      <td>282005</td>\n",
       "      <td>Shahganj</td>\n",
       "      <td>https://drive.google.com/open?id=1o5xWomJLvfYs...</td>\n",
       "      <td>Women</td>\n",
       "      <td></td>\n",
       "      <td>...</td>\n",
       "      <td></td>\n",
       "      <td></td>\n",
       "      <td></td>\n",
       "      <td></td>\n",
       "      <td></td>\n",
       "      <td></td>\n",
       "      <td></td>\n",
       "      <td></td>\n",
       "      <td></td>\n",
       "      <td></td>\n",
       "    </tr>\n",
       "  </tbody>\n",
       "</table>\n",
       "<p>5 rows × 25 columns</p>\n",
       "</div>"
      ],
      "text/plain": [
       "           Timestamp               Email Address  Buyer Number  \\\n",
       "0  6/5/2024 20:54:22  gandharv.sharma@bijnis.com    8800096381   \n",
       "1  6/6/2024 12:30:49  mohammad.sameer@bijnis.com    7060752846   \n",
       "2  6/6/2024 13:11:42  mohammad.sameer@bijnis.com    7300766670   \n",
       "3  6/6/2024 13:59:13  mohammad.sameer@bijnis.com    8755475838   \n",
       "4  6/6/2024 14:03:14  gandharv.sharma@bijnis.com    9027478173   \n",
       "\n",
       "             Shop Name Shop Owner Name  Pincode         Market Name  \\\n",
       "0   Gandharv Garments         Gandharv   282010            Shahganj   \n",
       "1   Kk standard choice            Saif   282003       Sindhi Bazaar   \n",
       "2  Utsav fashion point       Har singh   282001       Rajpur Chungi   \n",
       "3         Gujrat sales            Raj    282005  New Agra/Dayalbagh   \n",
       "4         Shagun saree           Aftab   282005            Shahganj   \n",
       "\n",
       "                     Upload Shop Photo/Visiting card Deals in -   \\\n",
       "0  https://drive.google.com/open?id=1AcWMFFh6t1Ln...         Men   \n",
       "1  https://drive.google.com/open?id=123Jn_gS1Uo2m...         Men   \n",
       "2  https://drive.google.com/open?id=1mi2vS1c1RY11...         Men   \n",
       "3  https://drive.google.com/open?id=1BGduCy17AfjC...         Men   \n",
       "4  https://drive.google.com/open?id=1o5xWomJLvfYs...       Women   \n",
       "\n",
       "  Shirt -  Starting Purchasing Price  ... Shorts -  Starting Purchasing Price  \\\n",
       "0                                150  ...                                 100   \n",
       "1                                150  ...                                 100   \n",
       "2                                250  ...                                       \n",
       "3                                150  ...                                       \n",
       "4                                     ...                                       \n",
       "\n",
       "  Shorts -  End Purchasing Price Track Pants -  Starting Purchasing Price  \\\n",
       "0                            250                                      200   \n",
       "1                            150                                      150   \n",
       "2                                                                           \n",
       "3                                                                     200   \n",
       "4                                                                           \n",
       "\n",
       "  Track Pants -  End Purchasing Price Trousers -  Starting Purchasing Price  \\\n",
       "0                                 600                                   350   \n",
       "1                                 200                                   250   \n",
       "2                                                                       400   \n",
       "3                                 350                                   350   \n",
       "4                                                                             \n",
       "\n",
       "  Trousers -  End Purchasing Price Track Suits -  Starting Purchasing Price  \\\n",
       "0                              700                                      600   \n",
       "1                              400                                      550   \n",
       "2                              600                                            \n",
       "3                              450                                            \n",
       "4                                                                             \n",
       "\n",
       "  Track Suits -  End Purchasing Price Kurta -  Starting Purchasing Price  \\\n",
       "0                                 850                                300   \n",
       "1                                 600                                300   \n",
       "2                                                                    450   \n",
       "3                                                                          \n",
       "4                                                                          \n",
       "\n",
       "  Kurta -  End Purchasing Price  \n",
       "0                           550  \n",
       "1                           500  \n",
       "2                           850  \n",
       "3                                \n",
       "4                                \n",
       "\n",
       "[5 rows x 25 columns]"
      ]
     },
     "execution_count": 43,
     "metadata": {},
     "output_type": "execute_result"
    }
   ],
   "source": [
    "df.head()"
   ]
  },
  {
   "cell_type": "code",
   "execution_count": 3,
   "metadata": {},
   "outputs": [],
   "source": [
    "flattened_data=[]\n",
    "grouped = df.groupby('Buyer Number')\n",
    "\n",
    "# Iterate over each group\n",
    "for BuyerNumber, group_df in grouped:\n",
    "    # Iterate over each row in the group\n",
    "    for idx, row in group_df.iterrows():\n",
    "        # Iterate over each column\n",
    "        for column, value in row.items():\n",
    "            # If the column is not 'buyerId' and the value is not 0, add it to the flattened data\n",
    "            if column != 'Buyer Number' and value != 0:\n",
    "                flattened_data.append({'Buyer Number': BuyerNumber, 'Item': column, 'Value': value})\n",
    "\n",
    "# Create a new DataFrame from the flattened data\n",
    "flattened_df = pd.DataFrame(flattened_data)\n",
    "import numpy as np\n",
    "flattened_df=flattened_df.replace('',np.nan)\n",
    "flattened_df=flattened_df.fillna(0)\n",
    "flattened_df=flattened_df[flattened_df['Value'].astype(int)!=0]\n",
    "flattened_df['Item'] = flattened_df['Item'].str.replace('T-Shirts -  Starting Purchasing Price', 'TShirts -  Starting Purchasing Price')\n",
    "flattened_df['Item'] = flattened_df['Item'].str.replace('T-Shirts -  End Purchasing Price', 'TShirts -  End Purchasing Price')"
   ]
  },
  {
   "cell_type": "code",
   "execution_count": 4,
   "metadata": {},
   "outputs": [
    {
     "data": {
      "text/html": [
       "<div>\n",
       "<style scoped>\n",
       "    .dataframe tbody tr th:only-of-type {\n",
       "        vertical-align: middle;\n",
       "    }\n",
       "\n",
       "    .dataframe tbody tr th {\n",
       "        vertical-align: top;\n",
       "    }\n",
       "\n",
       "    .dataframe thead th {\n",
       "        text-align: right;\n",
       "    }\n",
       "</style>\n",
       "<table border=\"1\" class=\"dataframe\">\n",
       "  <thead>\n",
       "    <tr style=\"text-align: right;\">\n",
       "      <th></th>\n",
       "      <th>Buyer Number</th>\n",
       "      <th>Item</th>\n",
       "      <th>Value</th>\n",
       "    </tr>\n",
       "  </thead>\n",
       "  <tbody>\n",
       "    <tr>\n",
       "      <th>0</th>\n",
       "      <td>783019065</td>\n",
       "      <td>Shirt -  Starting Purchasing Price</td>\n",
       "      <td>150.0</td>\n",
       "    </tr>\n",
       "    <tr>\n",
       "      <th>1</th>\n",
       "      <td>783019065</td>\n",
       "      <td>Shirt -  End Purchasing Price</td>\n",
       "      <td>200.0</td>\n",
       "    </tr>\n",
       "    <tr>\n",
       "      <th>2</th>\n",
       "      <td>783019065</td>\n",
       "      <td>Jeans -  Starting Purchasing Price</td>\n",
       "      <td>250.0</td>\n",
       "    </tr>\n",
       "    <tr>\n",
       "      <th>3</th>\n",
       "      <td>783019065</td>\n",
       "      <td>Jeans -  End Purchasing Price</td>\n",
       "      <td>400.0</td>\n",
       "    </tr>\n",
       "    <tr>\n",
       "      <th>4</th>\n",
       "      <td>783019065</td>\n",
       "      <td>TShirts -  Starting Purchasing Price</td>\n",
       "      <td>100.0</td>\n",
       "    </tr>\n",
       "    <tr>\n",
       "      <th>5</th>\n",
       "      <td>783019065</td>\n",
       "      <td>TShirts -  End Purchasing Price</td>\n",
       "      <td>250.0</td>\n",
       "    </tr>\n",
       "    <tr>\n",
       "      <th>6</th>\n",
       "      <td>783019065</td>\n",
       "      <td>Shorts -  Starting Purchasing Price</td>\n",
       "      <td>100.0</td>\n",
       "    </tr>\n",
       "    <tr>\n",
       "      <th>7</th>\n",
       "      <td>783019065</td>\n",
       "      <td>Shorts -  End Purchasing Price</td>\n",
       "      <td>150.0</td>\n",
       "    </tr>\n",
       "    <tr>\n",
       "      <th>8</th>\n",
       "      <td>783019065</td>\n",
       "      <td>Track Pants -  Starting Purchasing Price</td>\n",
       "      <td>100.0</td>\n",
       "    </tr>\n",
       "    <tr>\n",
       "      <th>9</th>\n",
       "      <td>783019065</td>\n",
       "      <td>Track Pants -  End Purchasing Price</td>\n",
       "      <td>200.0</td>\n",
       "    </tr>\n",
       "  </tbody>\n",
       "</table>\n",
       "</div>"
      ],
      "text/plain": [
       "   Buyer Number                                      Item  Value\n",
       "0     783019065        Shirt -  Starting Purchasing Price  150.0\n",
       "1     783019065             Shirt -  End Purchasing Price  200.0\n",
       "2     783019065        Jeans -  Starting Purchasing Price  250.0\n",
       "3     783019065             Jeans -  End Purchasing Price  400.0\n",
       "4     783019065      TShirts -  Starting Purchasing Price  100.0\n",
       "5     783019065           TShirts -  End Purchasing Price  250.0\n",
       "6     783019065       Shorts -  Starting Purchasing Price  100.0\n",
       "7     783019065            Shorts -  End Purchasing Price  150.0\n",
       "8     783019065  Track Pants -  Starting Purchasing Price  100.0\n",
       "9     783019065       Track Pants -  End Purchasing Price  200.0"
      ]
     },
     "execution_count": 4,
     "metadata": {},
     "output_type": "execute_result"
    }
   ],
   "source": [
    "flattened_df[flattened_df['Buyer Number']==783019065]\n"
   ]
  },
  {
   "cell_type": "code",
   "execution_count": 5,
   "metadata": {},
   "outputs": [],
   "source": [
    "split_df = flattened_df['Item'].str.split(' - ', expand=True)\n",
    "flattened_df['Item'] = split_df[0]\n",
    "flattened_df['Description'] = split_df[1]"
   ]
  },
  {
   "cell_type": "code",
   "execution_count": 6,
   "metadata": {},
   "outputs": [
    {
     "data": {
      "text/html": [
       "<div>\n",
       "<style scoped>\n",
       "    .dataframe tbody tr th:only-of-type {\n",
       "        vertical-align: middle;\n",
       "    }\n",
       "\n",
       "    .dataframe tbody tr th {\n",
       "        vertical-align: top;\n",
       "    }\n",
       "\n",
       "    .dataframe thead th {\n",
       "        text-align: right;\n",
       "    }\n",
       "</style>\n",
       "<table border=\"1\" class=\"dataframe\">\n",
       "  <thead>\n",
       "    <tr style=\"text-align: right;\">\n",
       "      <th></th>\n",
       "      <th>Buyer Number</th>\n",
       "      <th>Item</th>\n",
       "      <th>Value</th>\n",
       "      <th>Description</th>\n",
       "    </tr>\n",
       "  </thead>\n",
       "  <tbody>\n",
       "    <tr>\n",
       "      <th>0</th>\n",
       "      <td>783019065</td>\n",
       "      <td>Shirt</td>\n",
       "      <td>150.0</td>\n",
       "      <td>Starting Purchasing Price</td>\n",
       "    </tr>\n",
       "    <tr>\n",
       "      <th>1</th>\n",
       "      <td>783019065</td>\n",
       "      <td>Shirt</td>\n",
       "      <td>200.0</td>\n",
       "      <td>End Purchasing Price</td>\n",
       "    </tr>\n",
       "    <tr>\n",
       "      <th>2</th>\n",
       "      <td>783019065</td>\n",
       "      <td>Jeans</td>\n",
       "      <td>250.0</td>\n",
       "      <td>Starting Purchasing Price</td>\n",
       "    </tr>\n",
       "    <tr>\n",
       "      <th>3</th>\n",
       "      <td>783019065</td>\n",
       "      <td>Jeans</td>\n",
       "      <td>400.0</td>\n",
       "      <td>End Purchasing Price</td>\n",
       "    </tr>\n",
       "    <tr>\n",
       "      <th>4</th>\n",
       "      <td>783019065</td>\n",
       "      <td>TShirts</td>\n",
       "      <td>100.0</td>\n",
       "      <td>Starting Purchasing Price</td>\n",
       "    </tr>\n",
       "    <tr>\n",
       "      <th>...</th>\n",
       "      <td>...</td>\n",
       "      <td>...</td>\n",
       "      <td>...</td>\n",
       "      <td>...</td>\n",
       "    </tr>\n",
       "    <tr>\n",
       "      <th>1155</th>\n",
       "      <td>9927401576</td>\n",
       "      <td>Jeans</td>\n",
       "      <td>950.0</td>\n",
       "      <td>End Purchasing Price</td>\n",
       "    </tr>\n",
       "    <tr>\n",
       "      <th>1156</th>\n",
       "      <td>9927401576</td>\n",
       "      <td>TShirts</td>\n",
       "      <td>200.0</td>\n",
       "      <td>Starting Purchasing Price</td>\n",
       "    </tr>\n",
       "    <tr>\n",
       "      <th>1157</th>\n",
       "      <td>9927401576</td>\n",
       "      <td>TShirts</td>\n",
       "      <td>400.0</td>\n",
       "      <td>End Purchasing Price</td>\n",
       "    </tr>\n",
       "    <tr>\n",
       "      <th>1166</th>\n",
       "      <td>9927401576</td>\n",
       "      <td>Kurta</td>\n",
       "      <td>400.0</td>\n",
       "      <td>Starting Purchasing Price</td>\n",
       "    </tr>\n",
       "    <tr>\n",
       "      <th>1167</th>\n",
       "      <td>9927401576</td>\n",
       "      <td>Kurta</td>\n",
       "      <td>650.0</td>\n",
       "      <td>End Purchasing Price</td>\n",
       "    </tr>\n",
       "  </tbody>\n",
       "</table>\n",
       "<p>702 rows × 4 columns</p>\n",
       "</div>"
      ],
      "text/plain": [
       "      Buyer Number     Item  Value                 Description\n",
       "0        783019065    Shirt  150.0   Starting Purchasing Price\n",
       "1        783019065    Shirt  200.0        End Purchasing Price\n",
       "2        783019065    Jeans  250.0   Starting Purchasing Price\n",
       "3        783019065    Jeans  400.0        End Purchasing Price\n",
       "4        783019065  TShirts  100.0   Starting Purchasing Price\n",
       "...            ...      ...    ...                         ...\n",
       "1155    9927401576    Jeans  950.0        End Purchasing Price\n",
       "1156    9927401576  TShirts  200.0   Starting Purchasing Price\n",
       "1157    9927401576  TShirts  400.0        End Purchasing Price\n",
       "1166    9927401576    Kurta  400.0   Starting Purchasing Price\n",
       "1167    9927401576    Kurta  650.0        End Purchasing Price\n",
       "\n",
       "[702 rows x 4 columns]"
      ]
     },
     "execution_count": 6,
     "metadata": {},
     "output_type": "execute_result"
    }
   ],
   "source": [
    "flattened_df"
   ]
  },
  {
   "cell_type": "code",
   "execution_count": 7,
   "metadata": {},
   "outputs": [
    {
     "data": {
      "text/html": [
       "<div>\n",
       "<style scoped>\n",
       "    .dataframe tbody tr th:only-of-type {\n",
       "        vertical-align: middle;\n",
       "    }\n",
       "\n",
       "    .dataframe tbody tr th {\n",
       "        vertical-align: top;\n",
       "    }\n",
       "\n",
       "    .dataframe thead th {\n",
       "        text-align: right;\n",
       "    }\n",
       "</style>\n",
       "<table border=\"1\" class=\"dataframe\">\n",
       "  <thead>\n",
       "    <tr style=\"text-align: right;\">\n",
       "      <th></th>\n",
       "      <th>Buyer Number</th>\n",
       "      <th>Item</th>\n",
       "      <th>Value</th>\n",
       "      <th>Description</th>\n",
       "    </tr>\n",
       "  </thead>\n",
       "  <tbody>\n",
       "    <tr>\n",
       "      <th>0</th>\n",
       "      <td>783019065</td>\n",
       "      <td>Shirt</td>\n",
       "      <td>150.0</td>\n",
       "      <td>Starting Purchasing Price</td>\n",
       "    </tr>\n",
       "    <tr>\n",
       "      <th>1</th>\n",
       "      <td>783019065</td>\n",
       "      <td>Shirt</td>\n",
       "      <td>200.0</td>\n",
       "      <td>End Purchasing Price</td>\n",
       "    </tr>\n",
       "    <tr>\n",
       "      <th>2</th>\n",
       "      <td>783019065</td>\n",
       "      <td>Jeans</td>\n",
       "      <td>250.0</td>\n",
       "      <td>Starting Purchasing Price</td>\n",
       "    </tr>\n",
       "    <tr>\n",
       "      <th>3</th>\n",
       "      <td>783019065</td>\n",
       "      <td>Jeans</td>\n",
       "      <td>400.0</td>\n",
       "      <td>End Purchasing Price</td>\n",
       "    </tr>\n",
       "    <tr>\n",
       "      <th>4</th>\n",
       "      <td>783019065</td>\n",
       "      <td>TShirts</td>\n",
       "      <td>100.0</td>\n",
       "      <td>Starting Purchasing Price</td>\n",
       "    </tr>\n",
       "    <tr>\n",
       "      <th>5</th>\n",
       "      <td>783019065</td>\n",
       "      <td>TShirts</td>\n",
       "      <td>250.0</td>\n",
       "      <td>End Purchasing Price</td>\n",
       "    </tr>\n",
       "    <tr>\n",
       "      <th>6</th>\n",
       "      <td>783019065</td>\n",
       "      <td>Shorts</td>\n",
       "      <td>100.0</td>\n",
       "      <td>Starting Purchasing Price</td>\n",
       "    </tr>\n",
       "    <tr>\n",
       "      <th>7</th>\n",
       "      <td>783019065</td>\n",
       "      <td>Shorts</td>\n",
       "      <td>150.0</td>\n",
       "      <td>End Purchasing Price</td>\n",
       "    </tr>\n",
       "    <tr>\n",
       "      <th>8</th>\n",
       "      <td>783019065</td>\n",
       "      <td>Track Pants</td>\n",
       "      <td>100.0</td>\n",
       "      <td>Starting Purchasing Price</td>\n",
       "    </tr>\n",
       "    <tr>\n",
       "      <th>9</th>\n",
       "      <td>783019065</td>\n",
       "      <td>Track Pants</td>\n",
       "      <td>200.0</td>\n",
       "      <td>End Purchasing Price</td>\n",
       "    </tr>\n",
       "  </tbody>\n",
       "</table>\n",
       "</div>"
      ],
      "text/plain": [
       "   Buyer Number         Item  Value                 Description\n",
       "0     783019065        Shirt  150.0   Starting Purchasing Price\n",
       "1     783019065        Shirt  200.0        End Purchasing Price\n",
       "2     783019065        Jeans  250.0   Starting Purchasing Price\n",
       "3     783019065        Jeans  400.0        End Purchasing Price\n",
       "4     783019065      TShirts  100.0   Starting Purchasing Price\n",
       "5     783019065      TShirts  250.0        End Purchasing Price\n",
       "6     783019065       Shorts  100.0   Starting Purchasing Price\n",
       "7     783019065       Shorts  150.0        End Purchasing Price\n",
       "8     783019065  Track Pants  100.0   Starting Purchasing Price\n",
       "9     783019065  Track Pants  200.0        End Purchasing Price"
      ]
     },
     "execution_count": 7,
     "metadata": {},
     "output_type": "execute_result"
    }
   ],
   "source": [
    "flattened_df[flattened_df['Buyer Number']==783019065]"
   ]
  },
  {
   "cell_type": "code",
   "execution_count": 8,
   "metadata": {},
   "outputs": [
    {
     "data": {
      "text/plain": [
       "(702, 4)"
      ]
     },
     "execution_count": 8,
     "metadata": {},
     "output_type": "execute_result"
    }
   ],
   "source": [
    "flattened_df.shape"
   ]
  },
  {
   "cell_type": "code",
   "execution_count": 9,
   "metadata": {},
   "outputs": [],
   "source": [
    "flattened_df_sp=flattened_df[flattened_df['Description']==' Starting Purchasing Price']\n",
    "flattened_df_ep=flattened_df[flattened_df['Description']==' End Purchasing Price']"
   ]
  },
  {
   "cell_type": "code",
   "execution_count": 10,
   "metadata": {},
   "outputs": [],
   "source": [
    "flattened_df_sp=flattened_df_sp.rename(columns={'Value':'Start_Price'})\n",
    "flattened_df_sp=flattened_df_sp.drop('Description',axis=1)\n",
    "flattened_df_ep=flattened_df_ep.rename(columns={'Value':'End_Price'})\n",
    "flattened_df_ep=flattened_df_ep.drop('Description',axis=1)"
   ]
  },
  {
   "cell_type": "code",
   "execution_count": 11,
   "metadata": {},
   "outputs": [
    {
     "data": {
      "text/html": [
       "<div>\n",
       "<style scoped>\n",
       "    .dataframe tbody tr th:only-of-type {\n",
       "        vertical-align: middle;\n",
       "    }\n",
       "\n",
       "    .dataframe tbody tr th {\n",
       "        vertical-align: top;\n",
       "    }\n",
       "\n",
       "    .dataframe thead th {\n",
       "        text-align: right;\n",
       "    }\n",
       "</style>\n",
       "<table border=\"1\" class=\"dataframe\">\n",
       "  <thead>\n",
       "    <tr style=\"text-align: right;\">\n",
       "      <th></th>\n",
       "      <th>Buyer Number</th>\n",
       "      <th>Item</th>\n",
       "      <th>End_Price</th>\n",
       "    </tr>\n",
       "  </thead>\n",
       "  <tbody>\n",
       "    <tr>\n",
       "      <th>1</th>\n",
       "      <td>783019065</td>\n",
       "      <td>Shirt</td>\n",
       "      <td>200.0</td>\n",
       "    </tr>\n",
       "    <tr>\n",
       "      <th>3</th>\n",
       "      <td>783019065</td>\n",
       "      <td>Jeans</td>\n",
       "      <td>400.0</td>\n",
       "    </tr>\n",
       "    <tr>\n",
       "      <th>5</th>\n",
       "      <td>783019065</td>\n",
       "      <td>TShirts</td>\n",
       "      <td>250.0</td>\n",
       "    </tr>\n",
       "    <tr>\n",
       "      <th>7</th>\n",
       "      <td>783019065</td>\n",
       "      <td>Shorts</td>\n",
       "      <td>150.0</td>\n",
       "    </tr>\n",
       "    <tr>\n",
       "      <th>9</th>\n",
       "      <td>783019065</td>\n",
       "      <td>Track Pants</td>\n",
       "      <td>200.0</td>\n",
       "    </tr>\n",
       "    <tr>\n",
       "      <th>...</th>\n",
       "      <td>...</td>\n",
       "      <td>...</td>\n",
       "      <td>...</td>\n",
       "    </tr>\n",
       "    <tr>\n",
       "      <th>1135</th>\n",
       "      <td>9897361592</td>\n",
       "      <td>Kurta</td>\n",
       "      <td>850.0</td>\n",
       "    </tr>\n",
       "    <tr>\n",
       "      <th>1153</th>\n",
       "      <td>9927401576</td>\n",
       "      <td>Shirt</td>\n",
       "      <td>350.0</td>\n",
       "    </tr>\n",
       "    <tr>\n",
       "      <th>1155</th>\n",
       "      <td>9927401576</td>\n",
       "      <td>Jeans</td>\n",
       "      <td>950.0</td>\n",
       "    </tr>\n",
       "    <tr>\n",
       "      <th>1157</th>\n",
       "      <td>9927401576</td>\n",
       "      <td>TShirts</td>\n",
       "      <td>400.0</td>\n",
       "    </tr>\n",
       "    <tr>\n",
       "      <th>1167</th>\n",
       "      <td>9927401576</td>\n",
       "      <td>Kurta</td>\n",
       "      <td>650.0</td>\n",
       "    </tr>\n",
       "  </tbody>\n",
       "</table>\n",
       "<p>351 rows × 3 columns</p>\n",
       "</div>"
      ],
      "text/plain": [
       "      Buyer Number         Item  End_Price\n",
       "1        783019065        Shirt      200.0\n",
       "3        783019065        Jeans      400.0\n",
       "5        783019065      TShirts      250.0\n",
       "7        783019065       Shorts      150.0\n",
       "9        783019065  Track Pants      200.0\n",
       "...            ...          ...        ...\n",
       "1135    9897361592        Kurta      850.0\n",
       "1153    9927401576        Shirt      350.0\n",
       "1155    9927401576        Jeans      950.0\n",
       "1157    9927401576      TShirts      400.0\n",
       "1167    9927401576        Kurta      650.0\n",
       "\n",
       "[351 rows x 3 columns]"
      ]
     },
     "execution_count": 11,
     "metadata": {},
     "output_type": "execute_result"
    }
   ],
   "source": [
    "flattened_df_ep"
   ]
  },
  {
   "cell_type": "code",
   "execution_count": 12,
   "metadata": {},
   "outputs": [
    {
     "data": {
      "text/html": [
       "<div>\n",
       "<style scoped>\n",
       "    .dataframe tbody tr th:only-of-type {\n",
       "        vertical-align: middle;\n",
       "    }\n",
       "\n",
       "    .dataframe tbody tr th {\n",
       "        vertical-align: top;\n",
       "    }\n",
       "\n",
       "    .dataframe thead th {\n",
       "        text-align: right;\n",
       "    }\n",
       "</style>\n",
       "<table border=\"1\" class=\"dataframe\">\n",
       "  <thead>\n",
       "    <tr style=\"text-align: right;\">\n",
       "      <th></th>\n",
       "      <th>Buyer Number</th>\n",
       "      <th>Item</th>\n",
       "      <th>Start_Price</th>\n",
       "      <th>End_Price</th>\n",
       "    </tr>\n",
       "  </thead>\n",
       "  <tbody>\n",
       "    <tr>\n",
       "      <th>0</th>\n",
       "      <td>783019065</td>\n",
       "      <td>Shirt</td>\n",
       "      <td>150.0</td>\n",
       "      <td>200.0</td>\n",
       "    </tr>\n",
       "    <tr>\n",
       "      <th>1</th>\n",
       "      <td>783019065</td>\n",
       "      <td>Jeans</td>\n",
       "      <td>250.0</td>\n",
       "      <td>400.0</td>\n",
       "    </tr>\n",
       "    <tr>\n",
       "      <th>2</th>\n",
       "      <td>783019065</td>\n",
       "      <td>TShirts</td>\n",
       "      <td>100.0</td>\n",
       "      <td>250.0</td>\n",
       "    </tr>\n",
       "    <tr>\n",
       "      <th>3</th>\n",
       "      <td>783019065</td>\n",
       "      <td>Shorts</td>\n",
       "      <td>100.0</td>\n",
       "      <td>150.0</td>\n",
       "    </tr>\n",
       "    <tr>\n",
       "      <th>4</th>\n",
       "      <td>783019065</td>\n",
       "      <td>Track Pants</td>\n",
       "      <td>100.0</td>\n",
       "      <td>200.0</td>\n",
       "    </tr>\n",
       "    <tr>\n",
       "      <th>...</th>\n",
       "      <td>...</td>\n",
       "      <td>...</td>\n",
       "      <td>...</td>\n",
       "      <td>...</td>\n",
       "    </tr>\n",
       "    <tr>\n",
       "      <th>346</th>\n",
       "      <td>9897361592</td>\n",
       "      <td>Kurta</td>\n",
       "      <td>500.0</td>\n",
       "      <td>850.0</td>\n",
       "    </tr>\n",
       "    <tr>\n",
       "      <th>347</th>\n",
       "      <td>9927401576</td>\n",
       "      <td>Shirt</td>\n",
       "      <td>250.0</td>\n",
       "      <td>350.0</td>\n",
       "    </tr>\n",
       "    <tr>\n",
       "      <th>348</th>\n",
       "      <td>9927401576</td>\n",
       "      <td>Jeans</td>\n",
       "      <td>650.0</td>\n",
       "      <td>950.0</td>\n",
       "    </tr>\n",
       "    <tr>\n",
       "      <th>349</th>\n",
       "      <td>9927401576</td>\n",
       "      <td>TShirts</td>\n",
       "      <td>200.0</td>\n",
       "      <td>400.0</td>\n",
       "    </tr>\n",
       "    <tr>\n",
       "      <th>350</th>\n",
       "      <td>9927401576</td>\n",
       "      <td>Kurta</td>\n",
       "      <td>400.0</td>\n",
       "      <td>650.0</td>\n",
       "    </tr>\n",
       "  </tbody>\n",
       "</table>\n",
       "<p>351 rows × 4 columns</p>\n",
       "</div>"
      ],
      "text/plain": [
       "     Buyer Number         Item  Start_Price  End_Price\n",
       "0       783019065        Shirt        150.0      200.0\n",
       "1       783019065        Jeans        250.0      400.0\n",
       "2       783019065      TShirts        100.0      250.0\n",
       "3       783019065       Shorts        100.0      150.0\n",
       "4       783019065  Track Pants        100.0      200.0\n",
       "..            ...          ...          ...        ...\n",
       "346    9897361592        Kurta        500.0      850.0\n",
       "347    9927401576        Shirt        250.0      350.0\n",
       "348    9927401576        Jeans        650.0      950.0\n",
       "349    9927401576      TShirts        200.0      400.0\n",
       "350    9927401576        Kurta        400.0      650.0\n",
       "\n",
       "[351 rows x 4 columns]"
      ]
     },
     "execution_count": 12,
     "metadata": {},
     "output_type": "execute_result"
    }
   ],
   "source": [
    "flattened_final=pd.merge(flattened_df_sp,flattened_df_ep,on=['Buyer Number','Item'])\n",
    "flattened_final"
   ]
  },
  {
   "cell_type": "code",
   "execution_count": 13,
   "metadata": {},
   "outputs": [
    {
     "data": {
      "text/plain": [
       "array([150., 250., 100., 450., 500., 300., 350., 400., 750., 200., 550.,\n",
       "        50., 600., 700., 650.])"
      ]
     },
     "execution_count": 13,
     "metadata": {},
     "output_type": "execute_result"
    }
   ],
   "source": [
    "flattened_final.Start_Price.unique()"
   ]
  },
  {
   "cell_type": "code",
   "execution_count": 14,
   "metadata": {},
   "outputs": [],
   "source": [
    "def pricebucket(x):\n",
    "    if x>=0 and x<=200:\n",
    "        return '0-200'\n",
    "    elif x>=201 and x<=300:\n",
    "        return '201-300'\n",
    "    elif x>=301 and x<=400:\n",
    "        return '301-400'\n",
    "    elif x>=401 and x<=500:\n",
    "        return '401-500'\n",
    "    else :\n",
    "        return '500 +'\n",
    "flattened_final[['start_price_bucket', 'end_price_bucket']] = flattened_final[['Start_Price', 'End_Price']].applymap(pricebucket)"
   ]
  },
  {
   "cell_type": "code",
   "execution_count": 15,
   "metadata": {},
   "outputs": [
    {
     "data": {
      "text/html": [
       "<div>\n",
       "<style scoped>\n",
       "    .dataframe tbody tr th:only-of-type {\n",
       "        vertical-align: middle;\n",
       "    }\n",
       "\n",
       "    .dataframe tbody tr th {\n",
       "        vertical-align: top;\n",
       "    }\n",
       "\n",
       "    .dataframe thead th {\n",
       "        text-align: right;\n",
       "    }\n",
       "</style>\n",
       "<table border=\"1\" class=\"dataframe\">\n",
       "  <thead>\n",
       "    <tr style=\"text-align: right;\">\n",
       "      <th></th>\n",
       "      <th>Buyer Number</th>\n",
       "      <th>Item</th>\n",
       "      <th>Start_Price</th>\n",
       "      <th>End_Price</th>\n",
       "      <th>start_price_bucket</th>\n",
       "      <th>end_price_bucket</th>\n",
       "    </tr>\n",
       "  </thead>\n",
       "  <tbody>\n",
       "    <tr>\n",
       "      <th>0</th>\n",
       "      <td>783019065</td>\n",
       "      <td>Shirt</td>\n",
       "      <td>150.0</td>\n",
       "      <td>200.0</td>\n",
       "      <td>0-200</td>\n",
       "      <td>0-200</td>\n",
       "    </tr>\n",
       "    <tr>\n",
       "      <th>1</th>\n",
       "      <td>783019065</td>\n",
       "      <td>Jeans</td>\n",
       "      <td>250.0</td>\n",
       "      <td>400.0</td>\n",
       "      <td>201-300</td>\n",
       "      <td>301-400</td>\n",
       "    </tr>\n",
       "    <tr>\n",
       "      <th>2</th>\n",
       "      <td>783019065</td>\n",
       "      <td>TShirts</td>\n",
       "      <td>100.0</td>\n",
       "      <td>250.0</td>\n",
       "      <td>0-200</td>\n",
       "      <td>201-300</td>\n",
       "    </tr>\n",
       "    <tr>\n",
       "      <th>3</th>\n",
       "      <td>783019065</td>\n",
       "      <td>Shorts</td>\n",
       "      <td>100.0</td>\n",
       "      <td>150.0</td>\n",
       "      <td>0-200</td>\n",
       "      <td>0-200</td>\n",
       "    </tr>\n",
       "    <tr>\n",
       "      <th>4</th>\n",
       "      <td>783019065</td>\n",
       "      <td>Track Pants</td>\n",
       "      <td>100.0</td>\n",
       "      <td>200.0</td>\n",
       "      <td>0-200</td>\n",
       "      <td>0-200</td>\n",
       "    </tr>\n",
       "    <tr>\n",
       "      <th>...</th>\n",
       "      <td>...</td>\n",
       "      <td>...</td>\n",
       "      <td>...</td>\n",
       "      <td>...</td>\n",
       "      <td>...</td>\n",
       "      <td>...</td>\n",
       "    </tr>\n",
       "    <tr>\n",
       "      <th>346</th>\n",
       "      <td>9897361592</td>\n",
       "      <td>Kurta</td>\n",
       "      <td>500.0</td>\n",
       "      <td>850.0</td>\n",
       "      <td>401-500</td>\n",
       "      <td>500 +</td>\n",
       "    </tr>\n",
       "    <tr>\n",
       "      <th>347</th>\n",
       "      <td>9927401576</td>\n",
       "      <td>Shirt</td>\n",
       "      <td>250.0</td>\n",
       "      <td>350.0</td>\n",
       "      <td>201-300</td>\n",
       "      <td>301-400</td>\n",
       "    </tr>\n",
       "    <tr>\n",
       "      <th>348</th>\n",
       "      <td>9927401576</td>\n",
       "      <td>Jeans</td>\n",
       "      <td>650.0</td>\n",
       "      <td>950.0</td>\n",
       "      <td>500 +</td>\n",
       "      <td>500 +</td>\n",
       "    </tr>\n",
       "    <tr>\n",
       "      <th>349</th>\n",
       "      <td>9927401576</td>\n",
       "      <td>TShirts</td>\n",
       "      <td>200.0</td>\n",
       "      <td>400.0</td>\n",
       "      <td>0-200</td>\n",
       "      <td>301-400</td>\n",
       "    </tr>\n",
       "    <tr>\n",
       "      <th>350</th>\n",
       "      <td>9927401576</td>\n",
       "      <td>Kurta</td>\n",
       "      <td>400.0</td>\n",
       "      <td>650.0</td>\n",
       "      <td>301-400</td>\n",
       "      <td>500 +</td>\n",
       "    </tr>\n",
       "  </tbody>\n",
       "</table>\n",
       "<p>351 rows × 6 columns</p>\n",
       "</div>"
      ],
      "text/plain": [
       "     Buyer Number         Item  Start_Price  End_Price start_price_bucket  \\\n",
       "0       783019065        Shirt        150.0      200.0              0-200   \n",
       "1       783019065        Jeans        250.0      400.0            201-300   \n",
       "2       783019065      TShirts        100.0      250.0              0-200   \n",
       "3       783019065       Shorts        100.0      150.0              0-200   \n",
       "4       783019065  Track Pants        100.0      200.0              0-200   \n",
       "..            ...          ...          ...        ...                ...   \n",
       "346    9897361592        Kurta        500.0      850.0            401-500   \n",
       "347    9927401576        Shirt        250.0      350.0            201-300   \n",
       "348    9927401576        Jeans        650.0      950.0              500 +   \n",
       "349    9927401576      TShirts        200.0      400.0              0-200   \n",
       "350    9927401576        Kurta        400.0      650.0            301-400   \n",
       "\n",
       "    end_price_bucket  \n",
       "0              0-200  \n",
       "1            301-400  \n",
       "2            201-300  \n",
       "3              0-200  \n",
       "4              0-200  \n",
       "..               ...  \n",
       "346            500 +  \n",
       "347          301-400  \n",
       "348            500 +  \n",
       "349          301-400  \n",
       "350            500 +  \n",
       "\n",
       "[351 rows x 6 columns]"
      ]
     },
     "execution_count": 15,
     "metadata": {},
     "output_type": "execute_result"
    }
   ],
   "source": [
    "flattened_final"
   ]
  },
  {
   "cell_type": "code",
   "execution_count": 16,
   "metadata": {},
   "outputs": [
    {
     "data": {
      "text/html": [
       "<div>\n",
       "<style scoped>\n",
       "    .dataframe tbody tr th:only-of-type {\n",
       "        vertical-align: middle;\n",
       "    }\n",
       "\n",
       "    .dataframe tbody tr th {\n",
       "        vertical-align: top;\n",
       "    }\n",
       "\n",
       "    .dataframe thead th {\n",
       "        text-align: right;\n",
       "    }\n",
       "</style>\n",
       "<table border=\"1\" class=\"dataframe\">\n",
       "  <thead>\n",
       "    <tr style=\"text-align: right;\">\n",
       "      <th></th>\n",
       "      <th>Buyer Number</th>\n",
       "      <th>Item</th>\n",
       "      <th>Start_Price</th>\n",
       "      <th>End_Price</th>\n",
       "      <th>start_price_bucket</th>\n",
       "      <th>end_price_bucket</th>\n",
       "    </tr>\n",
       "  </thead>\n",
       "  <tbody>\n",
       "    <tr>\n",
       "      <th>0</th>\n",
       "      <td>783019065</td>\n",
       "      <td>Shirt</td>\n",
       "      <td>150.0</td>\n",
       "      <td>200.0</td>\n",
       "      <td>0-200</td>\n",
       "      <td>0-200</td>\n",
       "    </tr>\n",
       "    <tr>\n",
       "      <th>1</th>\n",
       "      <td>783019065</td>\n",
       "      <td>Jeans</td>\n",
       "      <td>250.0</td>\n",
       "      <td>400.0</td>\n",
       "      <td>201-300</td>\n",
       "      <td>301-400</td>\n",
       "    </tr>\n",
       "    <tr>\n",
       "      <th>2</th>\n",
       "      <td>783019065</td>\n",
       "      <td>TShirts</td>\n",
       "      <td>100.0</td>\n",
       "      <td>250.0</td>\n",
       "      <td>0-200</td>\n",
       "      <td>201-300</td>\n",
       "    </tr>\n",
       "    <tr>\n",
       "      <th>3</th>\n",
       "      <td>783019065</td>\n",
       "      <td>Shorts</td>\n",
       "      <td>100.0</td>\n",
       "      <td>150.0</td>\n",
       "      <td>0-200</td>\n",
       "      <td>0-200</td>\n",
       "    </tr>\n",
       "    <tr>\n",
       "      <th>4</th>\n",
       "      <td>783019065</td>\n",
       "      <td>Track Pants</td>\n",
       "      <td>100.0</td>\n",
       "      <td>200.0</td>\n",
       "      <td>0-200</td>\n",
       "      <td>0-200</td>\n",
       "    </tr>\n",
       "  </tbody>\n",
       "</table>\n",
       "</div>"
      ],
      "text/plain": [
       "   Buyer Number         Item  Start_Price  End_Price start_price_bucket  \\\n",
       "0     783019065        Shirt        150.0      200.0              0-200   \n",
       "1     783019065        Jeans        250.0      400.0            201-300   \n",
       "2     783019065      TShirts        100.0      250.0              0-200   \n",
       "3     783019065       Shorts        100.0      150.0              0-200   \n",
       "4     783019065  Track Pants        100.0      200.0              0-200   \n",
       "\n",
       "  end_price_bucket  \n",
       "0            0-200  \n",
       "1          301-400  \n",
       "2          201-300  \n",
       "3            0-200  \n",
       "4            0-200  "
      ]
     },
     "execution_count": 16,
     "metadata": {},
     "output_type": "execute_result"
    }
   ],
   "source": [
    "flattened_final[flattened_final['Buyer Number']==783019065]"
   ]
  },
  {
   "cell_type": "code",
   "execution_count": 17,
   "metadata": {},
   "outputs": [
    {
     "data": {
      "text/html": [
       "<div>\n",
       "<style scoped>\n",
       "    .dataframe tbody tr th:only-of-type {\n",
       "        vertical-align: middle;\n",
       "    }\n",
       "\n",
       "    .dataframe tbody tr th {\n",
       "        vertical-align: top;\n",
       "    }\n",
       "\n",
       "    .dataframe thead th {\n",
       "        text-align: right;\n",
       "    }\n",
       "</style>\n",
       "<table border=\"1\" class=\"dataframe\">\n",
       "  <thead>\n",
       "    <tr style=\"text-align: right;\">\n",
       "      <th></th>\n",
       "      <th>Buyer Number</th>\n",
       "      <th>Item</th>\n",
       "      <th>Start_Price</th>\n",
       "      <th>End_Price</th>\n",
       "      <th>start_price_bucket</th>\n",
       "      <th>end_price_bucket</th>\n",
       "      <th>SimilarityColumn</th>\n",
       "    </tr>\n",
       "  </thead>\n",
       "  <tbody>\n",
       "    <tr>\n",
       "      <th>0</th>\n",
       "      <td>783019065</td>\n",
       "      <td>Shirt</td>\n",
       "      <td>150.0</td>\n",
       "      <td>200.0</td>\n",
       "      <td>0-200</td>\n",
       "      <td>0-200</td>\n",
       "      <td>Shirt_0-200_0-200</td>\n",
       "    </tr>\n",
       "    <tr>\n",
       "      <th>1</th>\n",
       "      <td>783019065</td>\n",
       "      <td>Jeans</td>\n",
       "      <td>250.0</td>\n",
       "      <td>400.0</td>\n",
       "      <td>201-300</td>\n",
       "      <td>301-400</td>\n",
       "      <td>Jeans_201-300_301-400</td>\n",
       "    </tr>\n",
       "    <tr>\n",
       "      <th>2</th>\n",
       "      <td>783019065</td>\n",
       "      <td>TShirts</td>\n",
       "      <td>100.0</td>\n",
       "      <td>250.0</td>\n",
       "      <td>0-200</td>\n",
       "      <td>201-300</td>\n",
       "      <td>TShirts_0-200_201-300</td>\n",
       "    </tr>\n",
       "    <tr>\n",
       "      <th>3</th>\n",
       "      <td>783019065</td>\n",
       "      <td>Shorts</td>\n",
       "      <td>100.0</td>\n",
       "      <td>150.0</td>\n",
       "      <td>0-200</td>\n",
       "      <td>0-200</td>\n",
       "      <td>Shorts_0-200_0-200</td>\n",
       "    </tr>\n",
       "    <tr>\n",
       "      <th>4</th>\n",
       "      <td>783019065</td>\n",
       "      <td>Track Pants</td>\n",
       "      <td>100.0</td>\n",
       "      <td>200.0</td>\n",
       "      <td>0-200</td>\n",
       "      <td>0-200</td>\n",
       "      <td>Track Pants_0-200_0-200</td>\n",
       "    </tr>\n",
       "    <tr>\n",
       "      <th>...</th>\n",
       "      <td>...</td>\n",
       "      <td>...</td>\n",
       "      <td>...</td>\n",
       "      <td>...</td>\n",
       "      <td>...</td>\n",
       "      <td>...</td>\n",
       "      <td>...</td>\n",
       "    </tr>\n",
       "    <tr>\n",
       "      <th>346</th>\n",
       "      <td>9897361592</td>\n",
       "      <td>Kurta</td>\n",
       "      <td>500.0</td>\n",
       "      <td>850.0</td>\n",
       "      <td>401-500</td>\n",
       "      <td>500 +</td>\n",
       "      <td>Kurta_401-500_500 +</td>\n",
       "    </tr>\n",
       "    <tr>\n",
       "      <th>347</th>\n",
       "      <td>9927401576</td>\n",
       "      <td>Shirt</td>\n",
       "      <td>250.0</td>\n",
       "      <td>350.0</td>\n",
       "      <td>201-300</td>\n",
       "      <td>301-400</td>\n",
       "      <td>Shirt_201-300_301-400</td>\n",
       "    </tr>\n",
       "    <tr>\n",
       "      <th>348</th>\n",
       "      <td>9927401576</td>\n",
       "      <td>Jeans</td>\n",
       "      <td>650.0</td>\n",
       "      <td>950.0</td>\n",
       "      <td>500 +</td>\n",
       "      <td>500 +</td>\n",
       "      <td>Jeans_500 +_500 +</td>\n",
       "    </tr>\n",
       "    <tr>\n",
       "      <th>349</th>\n",
       "      <td>9927401576</td>\n",
       "      <td>TShirts</td>\n",
       "      <td>200.0</td>\n",
       "      <td>400.0</td>\n",
       "      <td>0-200</td>\n",
       "      <td>301-400</td>\n",
       "      <td>TShirts_0-200_301-400</td>\n",
       "    </tr>\n",
       "    <tr>\n",
       "      <th>350</th>\n",
       "      <td>9927401576</td>\n",
       "      <td>Kurta</td>\n",
       "      <td>400.0</td>\n",
       "      <td>650.0</td>\n",
       "      <td>301-400</td>\n",
       "      <td>500 +</td>\n",
       "      <td>Kurta_301-400_500 +</td>\n",
       "    </tr>\n",
       "  </tbody>\n",
       "</table>\n",
       "<p>351 rows × 7 columns</p>\n",
       "</div>"
      ],
      "text/plain": [
       "     Buyer Number         Item  Start_Price  End_Price start_price_bucket  \\\n",
       "0       783019065        Shirt        150.0      200.0              0-200   \n",
       "1       783019065        Jeans        250.0      400.0            201-300   \n",
       "2       783019065      TShirts        100.0      250.0              0-200   \n",
       "3       783019065       Shorts        100.0      150.0              0-200   \n",
       "4       783019065  Track Pants        100.0      200.0              0-200   \n",
       "..            ...          ...          ...        ...                ...   \n",
       "346    9897361592        Kurta        500.0      850.0            401-500   \n",
       "347    9927401576        Shirt        250.0      350.0            201-300   \n",
       "348    9927401576        Jeans        650.0      950.0              500 +   \n",
       "349    9927401576      TShirts        200.0      400.0              0-200   \n",
       "350    9927401576        Kurta        400.0      650.0            301-400   \n",
       "\n",
       "    end_price_bucket         SimilarityColumn  \n",
       "0              0-200        Shirt_0-200_0-200  \n",
       "1            301-400    Jeans_201-300_301-400  \n",
       "2            201-300    TShirts_0-200_201-300  \n",
       "3              0-200       Shorts_0-200_0-200  \n",
       "4              0-200  Track Pants_0-200_0-200  \n",
       "..               ...                      ...  \n",
       "346            500 +      Kurta_401-500_500 +  \n",
       "347          301-400    Shirt_201-300_301-400  \n",
       "348            500 +        Jeans_500 +_500 +  \n",
       "349          301-400    TShirts_0-200_301-400  \n",
       "350            500 +      Kurta_301-400_500 +  \n",
       "\n",
       "[351 rows x 7 columns]"
      ]
     },
     "execution_count": 17,
     "metadata": {},
     "output_type": "execute_result"
    }
   ],
   "source": [
    "flattened_final['SimilarityColumn']=flattened_final['Item']+'_'+flattened_final['start_price_bucket']+'_'+flattened_final['end_price_bucket']\n",
    "flattened_final"
   ]
  },
  {
   "cell_type": "code",
   "execution_count": 18,
   "metadata": {},
   "outputs": [
    {
     "data": {
      "text/html": [
       "<div>\n",
       "<style scoped>\n",
       "    .dataframe tbody tr th:only-of-type {\n",
       "        vertical-align: middle;\n",
       "    }\n",
       "\n",
       "    .dataframe tbody tr th {\n",
       "        vertical-align: top;\n",
       "    }\n",
       "\n",
       "    .dataframe thead th {\n",
       "        text-align: right;\n",
       "    }\n",
       "</style>\n",
       "<table border=\"1\" class=\"dataframe\">\n",
       "  <thead>\n",
       "    <tr style=\"text-align: right;\">\n",
       "      <th></th>\n",
       "      <th>Buyer Number</th>\n",
       "      <th>SimilarityColumn</th>\n",
       "    </tr>\n",
       "  </thead>\n",
       "  <tbody>\n",
       "    <tr>\n",
       "      <th>0</th>\n",
       "      <td>783019065</td>\n",
       "      <td>Shirt_0-200_0-200</td>\n",
       "    </tr>\n",
       "    <tr>\n",
       "      <th>1</th>\n",
       "      <td>783019065</td>\n",
       "      <td>Jeans_201-300_301-400</td>\n",
       "    </tr>\n",
       "    <tr>\n",
       "      <th>2</th>\n",
       "      <td>783019065</td>\n",
       "      <td>TShirts_0-200_201-300</td>\n",
       "    </tr>\n",
       "    <tr>\n",
       "      <th>3</th>\n",
       "      <td>783019065</td>\n",
       "      <td>Shorts_0-200_0-200</td>\n",
       "    </tr>\n",
       "    <tr>\n",
       "      <th>4</th>\n",
       "      <td>783019065</td>\n",
       "      <td>Track Pants_0-200_0-200</td>\n",
       "    </tr>\n",
       "    <tr>\n",
       "      <th>...</th>\n",
       "      <td>...</td>\n",
       "      <td>...</td>\n",
       "    </tr>\n",
       "    <tr>\n",
       "      <th>346</th>\n",
       "      <td>9897361592</td>\n",
       "      <td>Kurta_401-500_500 +</td>\n",
       "    </tr>\n",
       "    <tr>\n",
       "      <th>347</th>\n",
       "      <td>9927401576</td>\n",
       "      <td>Shirt_201-300_301-400</td>\n",
       "    </tr>\n",
       "    <tr>\n",
       "      <th>348</th>\n",
       "      <td>9927401576</td>\n",
       "      <td>Jeans_500 +_500 +</td>\n",
       "    </tr>\n",
       "    <tr>\n",
       "      <th>349</th>\n",
       "      <td>9927401576</td>\n",
       "      <td>TShirts_0-200_301-400</td>\n",
       "    </tr>\n",
       "    <tr>\n",
       "      <th>350</th>\n",
       "      <td>9927401576</td>\n",
       "      <td>Kurta_301-400_500 +</td>\n",
       "    </tr>\n",
       "  </tbody>\n",
       "</table>\n",
       "<p>351 rows × 2 columns</p>\n",
       "</div>"
      ],
      "text/plain": [
       "     Buyer Number         SimilarityColumn\n",
       "0       783019065        Shirt_0-200_0-200\n",
       "1       783019065    Jeans_201-300_301-400\n",
       "2       783019065    TShirts_0-200_201-300\n",
       "3       783019065       Shorts_0-200_0-200\n",
       "4       783019065  Track Pants_0-200_0-200\n",
       "..            ...                      ...\n",
       "346    9897361592      Kurta_401-500_500 +\n",
       "347    9927401576    Shirt_201-300_301-400\n",
       "348    9927401576        Jeans_500 +_500 +\n",
       "349    9927401576    TShirts_0-200_301-400\n",
       "350    9927401576      Kurta_301-400_500 +\n",
       "\n",
       "[351 rows x 2 columns]"
      ]
     },
     "execution_count": 18,
     "metadata": {},
     "output_type": "execute_result"
    }
   ],
   "source": [
    "database=flattened_final[['Buyer Number','SimilarityColumn']]\n",
    "database"
   ]
  },
  {
   "cell_type": "code",
   "execution_count": 19,
   "metadata": {},
   "outputs": [
    {
     "data": {
      "text/html": [
       "<div>\n",
       "<style scoped>\n",
       "    .dataframe tbody tr th:only-of-type {\n",
       "        vertical-align: middle;\n",
       "    }\n",
       "\n",
       "    .dataframe tbody tr th {\n",
       "        vertical-align: top;\n",
       "    }\n",
       "\n",
       "    .dataframe thead th {\n",
       "        text-align: right;\n",
       "    }\n",
       "</style>\n",
       "<table border=\"1\" class=\"dataframe\">\n",
       "  <thead>\n",
       "    <tr style=\"text-align: right;\">\n",
       "      <th></th>\n",
       "      <th>Buyer Number</th>\n",
       "      <th>SimilarityColumn</th>\n",
       "    </tr>\n",
       "  </thead>\n",
       "  <tbody>\n",
       "    <tr>\n",
       "      <th>0</th>\n",
       "      <td>783019065</td>\n",
       "      <td>Shirt_0-200_0-200, Jeans_201-300_301-400, TShi...</td>\n",
       "    </tr>\n",
       "    <tr>\n",
       "      <th>1</th>\n",
       "      <td>6395903414</td>\n",
       "      <td>Shirt_401-500_500 +, Jeans_401-500_500 +, TShi...</td>\n",
       "    </tr>\n",
       "    <tr>\n",
       "      <th>2</th>\n",
       "      <td>6396923813</td>\n",
       "      <td>Shirt_0-200_301-400, Jeans_301-400_500 +, TShi...</td>\n",
       "    </tr>\n",
       "    <tr>\n",
       "      <th>3</th>\n",
       "      <td>6397223944</td>\n",
       "      <td>Shirt_0-200_201-300, Jeans_301-400_401-500, TS...</td>\n",
       "    </tr>\n",
       "    <tr>\n",
       "      <th>4</th>\n",
       "      <td>6397826848</td>\n",
       "      <td>Shirt_0-200_201-300, Jeans_301-400_401-500, TS...</td>\n",
       "    </tr>\n",
       "    <tr>\n",
       "      <th>...</th>\n",
       "      <td>...</td>\n",
       "      <td>...</td>\n",
       "    </tr>\n",
       "    <tr>\n",
       "      <th>58</th>\n",
       "      <td>9870658614</td>\n",
       "      <td>Shirt_0-200_201-300, Jeans_301-400_500 +, TShi...</td>\n",
       "    </tr>\n",
       "    <tr>\n",
       "      <th>59</th>\n",
       "      <td>9897121462</td>\n",
       "      <td>Shirt_0-200_301-400, Jeans_401-500_500 +, TShi...</td>\n",
       "    </tr>\n",
       "    <tr>\n",
       "      <th>60</th>\n",
       "      <td>9897280640</td>\n",
       "      <td>Shirt_0-200_301-400, Jeans_301-400_401-500, TS...</td>\n",
       "    </tr>\n",
       "    <tr>\n",
       "      <th>61</th>\n",
       "      <td>9897361592</td>\n",
       "      <td>Shirt_301-400_500 +, Jeans_500 +_500 +, TShirt...</td>\n",
       "    </tr>\n",
       "    <tr>\n",
       "      <th>62</th>\n",
       "      <td>9927401576</td>\n",
       "      <td>Shirt_201-300_301-400, Jeans_500 +_500 +, TShi...</td>\n",
       "    </tr>\n",
       "  </tbody>\n",
       "</table>\n",
       "<p>63 rows × 2 columns</p>\n",
       "</div>"
      ],
      "text/plain": [
       "    Buyer Number                                   SimilarityColumn\n",
       "0      783019065  Shirt_0-200_0-200, Jeans_201-300_301-400, TShi...\n",
       "1     6395903414  Shirt_401-500_500 +, Jeans_401-500_500 +, TShi...\n",
       "2     6396923813  Shirt_0-200_301-400, Jeans_301-400_500 +, TShi...\n",
       "3     6397223944  Shirt_0-200_201-300, Jeans_301-400_401-500, TS...\n",
       "4     6397826848  Shirt_0-200_201-300, Jeans_301-400_401-500, TS...\n",
       "..           ...                                                ...\n",
       "58    9870658614  Shirt_0-200_201-300, Jeans_301-400_500 +, TShi...\n",
       "59    9897121462  Shirt_0-200_301-400, Jeans_401-500_500 +, TShi...\n",
       "60    9897280640  Shirt_0-200_301-400, Jeans_301-400_401-500, TS...\n",
       "61    9897361592  Shirt_301-400_500 +, Jeans_500 +_500 +, TShirt...\n",
       "62    9927401576  Shirt_201-300_301-400, Jeans_500 +_500 +, TShi...\n",
       "\n",
       "[63 rows x 2 columns]"
      ]
     },
     "execution_count": 19,
     "metadata": {},
     "output_type": "execute_result"
    }
   ],
   "source": [
    "buyer_grouped = database.groupby('Buyer Number')['SimilarityColumn'].apply(lambda x: ', '.join(x)).reset_index()\n",
    "buyer_grouped"
   ]
  },
  {
   "cell_type": "code",
   "execution_count": 20,
   "metadata": {},
   "outputs": [],
   "source": [
    "from sklearn.feature_extraction.text import TfidfVectorizer\n",
    "from sklearn.metrics.pairwise import cosine_similarity\n",
    "vectorizer = TfidfVectorizer()\n",
    "X = vectorizer.fit_transform(database['SimilarityColumn'])"
   ]
  },
  {
   "cell_type": "code",
   "execution_count": 21,
   "metadata": {},
   "outputs": [],
   "source": [
    "similarity_matrix = cosine_similarity(X)"
   ]
  },
  {
   "cell_type": "code",
   "execution_count": 22,
   "metadata": {},
   "outputs": [
    {
     "name": "stdout",
     "output_type": "stream",
     "text": [
      "Similarity scores between each pair of buyers:\n",
      "          Buyer1      Buyer2  Similarity\n",
      "0      783019065  6395903414    0.039386\n",
      "1      783019065  6396923813    0.167262\n",
      "2      783019065  6397223944    0.597473\n",
      "3      783019065  6397826848    0.517630\n",
      "4      783019065  6398930169    1.000000\n",
      "...          ...         ...         ...\n",
      "1948  9897121462  9897361592    0.434654\n",
      "1949  9897121462  9927401576    0.276767\n",
      "1950  9897280640  9897361592    0.123898\n",
      "1951  9897280640  9927401576    0.320159\n",
      "1952  9897361592  9927401576    0.373975\n",
      "\n",
      "[1953 rows x 3 columns]\n"
     ]
    }
   ],
   "source": [
    "import pandas as pd\n",
    "from sklearn.feature_extraction.text import TfidfVectorizer\n",
    "from sklearn.metrics.pairwise import cosine_similarity\n",
    "\n",
    "# Function to calculate similarity score between two buyers\n",
    "def calculate_similarity(buyer1, buyer2, database):\n",
    "    # Get the items purchased by each buyer\n",
    "    items1 = database[database['Buyer Number'] == buyer1]['SimilarityColumn'].tolist()\n",
    "    items2 = database[database['Buyer Number'] == buyer2]['SimilarityColumn'].tolist()\n",
    "    text1 = ' '.join(items1)\n",
    "    text2 = ' '.join(items2)\n",
    "    \n",
    "    # Create TF-IDF vectorizer\n",
    "    vectorizer = TfidfVectorizer()\n",
    "    X = vectorizer.fit_transform([text1, text2])\n",
    "    \n",
    "    # Calculate cosine similarity\n",
    "    similarity_score = cosine_similarity(X)[0][1]\n",
    "    \n",
    "    return similarity_score\n",
    "\n",
    "# Calculate similarity score for each buyer with every other buyer\n",
    "buyer_numbers = database['Buyer Number'].unique()\n",
    "similarity_data = []\n",
    "\n",
    "for i in range(len(buyer_numbers)):\n",
    "    for j in range(i+1, len(buyer_numbers)):\n",
    "        buyer1 = buyer_numbers[i]\n",
    "        buyer2 = buyer_numbers[j]\n",
    "        similarity_score = calculate_similarity(buyer1, buyer2, database)\n",
    "        similarity_data.append({'Buyer1': buyer1, 'Buyer2': buyer2, 'Similarity': similarity_score})\n",
    "\n",
    "# Create DataFrame from similarity data\n",
    "similarity_df = pd.DataFrame(similarity_data)\n",
    "\n",
    "print(\"Similarity scores between each pair of buyers:\")\n",
    "print(similarity_df)\n"
   ]
  },
  {
   "cell_type": "code",
   "execution_count": 23,
   "metadata": {},
   "outputs": [],
   "source": [
    "similarity_df=pd.merge(similarity_df,buyer_grouped,left_on='Buyer1',right_on='Buyer Number')\n",
    "similarity_df=similarity_df.rename(columns={'SimilarityColumn':'Buyer1Group'})\n",
    "similarity_df=pd.merge(similarity_df,buyer_grouped,left_on='Buyer2',right_on='Buyer Number')\n",
    "similarity_df=similarity_df.rename(columns={'SimilarityColumn':'Buyer2Group'})\n",
    "similarity_df=similarity_df.drop(['Buyer Number_y','Buyer Number_x'],axis=1)"
   ]
  },
  {
   "cell_type": "code",
   "execution_count": 24,
   "metadata": {},
   "outputs": [
    {
     "data": {
      "text/html": [
       "<div>\n",
       "<style scoped>\n",
       "    .dataframe tbody tr th:only-of-type {\n",
       "        vertical-align: middle;\n",
       "    }\n",
       "\n",
       "    .dataframe tbody tr th {\n",
       "        vertical-align: top;\n",
       "    }\n",
       "\n",
       "    .dataframe thead th {\n",
       "        text-align: right;\n",
       "    }\n",
       "</style>\n",
       "<table border=\"1\" class=\"dataframe\">\n",
       "  <thead>\n",
       "    <tr style=\"text-align: right;\">\n",
       "      <th></th>\n",
       "      <th>Buyer Number</th>\n",
       "      <th>Item</th>\n",
       "      <th>Start_Price</th>\n",
       "      <th>End_Price</th>\n",
       "      <th>start_price_bucket</th>\n",
       "      <th>end_price_bucket</th>\n",
       "      <th>SimilarityColumn</th>\n",
       "    </tr>\n",
       "  </thead>\n",
       "  <tbody>\n",
       "    <tr>\n",
       "      <th>0</th>\n",
       "      <td>783019065</td>\n",
       "      <td>Shirt</td>\n",
       "      <td>150.0</td>\n",
       "      <td>200.0</td>\n",
       "      <td>0-200</td>\n",
       "      <td>0-200</td>\n",
       "      <td>Shirt_0-200_0-200</td>\n",
       "    </tr>\n",
       "    <tr>\n",
       "      <th>1</th>\n",
       "      <td>783019065</td>\n",
       "      <td>Jeans</td>\n",
       "      <td>250.0</td>\n",
       "      <td>400.0</td>\n",
       "      <td>201-300</td>\n",
       "      <td>301-400</td>\n",
       "      <td>Jeans_201-300_301-400</td>\n",
       "    </tr>\n",
       "    <tr>\n",
       "      <th>2</th>\n",
       "      <td>783019065</td>\n",
       "      <td>TShirts</td>\n",
       "      <td>100.0</td>\n",
       "      <td>250.0</td>\n",
       "      <td>0-200</td>\n",
       "      <td>201-300</td>\n",
       "      <td>TShirts_0-200_201-300</td>\n",
       "    </tr>\n",
       "    <tr>\n",
       "      <th>3</th>\n",
       "      <td>783019065</td>\n",
       "      <td>Shorts</td>\n",
       "      <td>100.0</td>\n",
       "      <td>150.0</td>\n",
       "      <td>0-200</td>\n",
       "      <td>0-200</td>\n",
       "      <td>Shorts_0-200_0-200</td>\n",
       "    </tr>\n",
       "    <tr>\n",
       "      <th>4</th>\n",
       "      <td>783019065</td>\n",
       "      <td>Track Pants</td>\n",
       "      <td>100.0</td>\n",
       "      <td>200.0</td>\n",
       "      <td>0-200</td>\n",
       "      <td>0-200</td>\n",
       "      <td>Track Pants_0-200_0-200</td>\n",
       "    </tr>\n",
       "  </tbody>\n",
       "</table>\n",
       "</div>"
      ],
      "text/plain": [
       "   Buyer Number         Item  Start_Price  End_Price start_price_bucket  \\\n",
       "0     783019065        Shirt        150.0      200.0              0-200   \n",
       "1     783019065        Jeans        250.0      400.0            201-300   \n",
       "2     783019065      TShirts        100.0      250.0              0-200   \n",
       "3     783019065       Shorts        100.0      150.0              0-200   \n",
       "4     783019065  Track Pants        100.0      200.0              0-200   \n",
       "\n",
       "  end_price_bucket         SimilarityColumn  \n",
       "0            0-200        Shirt_0-200_0-200  \n",
       "1          301-400    Jeans_201-300_301-400  \n",
       "2          201-300    TShirts_0-200_201-300  \n",
       "3            0-200       Shorts_0-200_0-200  \n",
       "4            0-200  Track Pants_0-200_0-200  "
      ]
     },
     "execution_count": 24,
     "metadata": {},
     "output_type": "execute_result"
    }
   ],
   "source": [
    "flattened_final[flattened_final['Buyer Number']==783019065]"
   ]
  },
  {
   "cell_type": "code",
   "execution_count": 25,
   "metadata": {},
   "outputs": [
    {
     "data": {
      "text/html": [
       "<div>\n",
       "<style scoped>\n",
       "    .dataframe tbody tr th:only-of-type {\n",
       "        vertical-align: middle;\n",
       "    }\n",
       "\n",
       "    .dataframe tbody tr th {\n",
       "        vertical-align: top;\n",
       "    }\n",
       "\n",
       "    .dataframe thead th {\n",
       "        text-align: right;\n",
       "    }\n",
       "</style>\n",
       "<table border=\"1\" class=\"dataframe\">\n",
       "  <thead>\n",
       "    <tr style=\"text-align: right;\">\n",
       "      <th></th>\n",
       "      <th>Buyer Number</th>\n",
       "      <th>Item</th>\n",
       "      <th>Start_Price</th>\n",
       "      <th>End_Price</th>\n",
       "      <th>start_price_bucket</th>\n",
       "      <th>end_price_bucket</th>\n",
       "      <th>SimilarityColumn</th>\n",
       "    </tr>\n",
       "  </thead>\n",
       "  <tbody>\n",
       "    <tr>\n",
       "      <th>28</th>\n",
       "      <td>6398930169</td>\n",
       "      <td>Shirt</td>\n",
       "      <td>150.0</td>\n",
       "      <td>250.0</td>\n",
       "      <td>0-200</td>\n",
       "      <td>201-300</td>\n",
       "      <td>Shirt_0-200_201-300</td>\n",
       "    </tr>\n",
       "    <tr>\n",
       "      <th>29</th>\n",
       "      <td>6398930169</td>\n",
       "      <td>Jeans</td>\n",
       "      <td>300.0</td>\n",
       "      <td>400.0</td>\n",
       "      <td>201-300</td>\n",
       "      <td>301-400</td>\n",
       "      <td>Jeans_201-300_301-400</td>\n",
       "    </tr>\n",
       "    <tr>\n",
       "      <th>30</th>\n",
       "      <td>6398930169</td>\n",
       "      <td>TShirts</td>\n",
       "      <td>100.0</td>\n",
       "      <td>200.0</td>\n",
       "      <td>0-200</td>\n",
       "      <td>0-200</td>\n",
       "      <td>TShirts_0-200_0-200</td>\n",
       "    </tr>\n",
       "    <tr>\n",
       "      <th>31</th>\n",
       "      <td>6398930169</td>\n",
       "      <td>Shorts</td>\n",
       "      <td>100.0</td>\n",
       "      <td>150.0</td>\n",
       "      <td>0-200</td>\n",
       "      <td>0-200</td>\n",
       "      <td>Shorts_0-200_0-200</td>\n",
       "    </tr>\n",
       "    <tr>\n",
       "      <th>32</th>\n",
       "      <td>6398930169</td>\n",
       "      <td>Track Pants</td>\n",
       "      <td>100.0</td>\n",
       "      <td>150.0</td>\n",
       "      <td>0-200</td>\n",
       "      <td>0-200</td>\n",
       "      <td>Track Pants_0-200_0-200</td>\n",
       "    </tr>\n",
       "  </tbody>\n",
       "</table>\n",
       "</div>"
      ],
      "text/plain": [
       "    Buyer Number         Item  Start_Price  End_Price start_price_bucket  \\\n",
       "28    6398930169        Shirt        150.0      250.0              0-200   \n",
       "29    6398930169        Jeans        300.0      400.0            201-300   \n",
       "30    6398930169      TShirts        100.0      200.0              0-200   \n",
       "31    6398930169       Shorts        100.0      150.0              0-200   \n",
       "32    6398930169  Track Pants        100.0      150.0              0-200   \n",
       "\n",
       "   end_price_bucket         SimilarityColumn  \n",
       "28          201-300      Shirt_0-200_201-300  \n",
       "29          301-400    Jeans_201-300_301-400  \n",
       "30            0-200      TShirts_0-200_0-200  \n",
       "31            0-200       Shorts_0-200_0-200  \n",
       "32            0-200  Track Pants_0-200_0-200  "
      ]
     },
     "execution_count": 25,
     "metadata": {},
     "output_type": "execute_result"
    }
   ],
   "source": [
    "flattened_final[flattened_final['Buyer Number']==6398930169]"
   ]
  },
  {
   "cell_type": "code",
   "execution_count": 26,
   "metadata": {},
   "outputs": [
    {
     "data": {
      "text/html": [
       "<div>\n",
       "<style scoped>\n",
       "    .dataframe tbody tr th:only-of-type {\n",
       "        vertical-align: middle;\n",
       "    }\n",
       "\n",
       "    .dataframe tbody tr th {\n",
       "        vertical-align: top;\n",
       "    }\n",
       "\n",
       "    .dataframe thead th {\n",
       "        text-align: right;\n",
       "    }\n",
       "</style>\n",
       "<table border=\"1\" class=\"dataframe\">\n",
       "  <thead>\n",
       "    <tr style=\"text-align: right;\">\n",
       "      <th></th>\n",
       "      <th>Buyer1</th>\n",
       "      <th>Buyer2</th>\n",
       "      <th>Similarity</th>\n",
       "      <th>Buyer1Group</th>\n",
       "      <th>Buyer2Group</th>\n",
       "    </tr>\n",
       "  </thead>\n",
       "  <tbody>\n",
       "    <tr>\n",
       "      <th>10</th>\n",
       "      <td>783019065</td>\n",
       "      <td>6398930169</td>\n",
       "      <td>1.000000</td>\n",
       "      <td>Shirt_0-200_0-200, Jeans_201-300_301-400, TShi...</td>\n",
       "      <td>Shirt_0-200_201-300, Jeans_201-300_301-400, TS...</td>\n",
       "    </tr>\n",
       "    <tr>\n",
       "      <th>78</th>\n",
       "      <td>783019065</td>\n",
       "      <td>7906333316</td>\n",
       "      <td>0.945235</td>\n",
       "      <td>Shirt_0-200_0-200, Jeans_201-300_301-400, TShi...</td>\n",
       "      <td>Shirt_0-200_201-300, Jeans_201-300_301-400, TS...</td>\n",
       "    </tr>\n",
       "    <tr>\n",
       "      <th>83</th>\n",
       "      <td>6398930169</td>\n",
       "      <td>7906333316</td>\n",
       "      <td>0.945235</td>\n",
       "      <td>Shirt_0-200_201-300, Jeans_201-300_301-400, TS...</td>\n",
       "      <td>Shirt_0-200_201-300, Jeans_201-300_301-400, TS...</td>\n",
       "    </tr>\n",
       "    <tr>\n",
       "      <th>105</th>\n",
       "      <td>783019065</td>\n",
       "      <td>7906873695</td>\n",
       "      <td>0.927025</td>\n",
       "      <td>Shirt_0-200_0-200, Jeans_201-300_301-400, TShi...</td>\n",
       "      <td>Shirt_0-200_0-200, Jeans_201-300_301-400, TShi...</td>\n",
       "    </tr>\n",
       "    <tr>\n",
       "      <th>110</th>\n",
       "      <td>6398930169</td>\n",
       "      <td>7906873695</td>\n",
       "      <td>0.927025</td>\n",
       "      <td>Shirt_0-200_201-300, Jeans_201-300_301-400, TS...</td>\n",
       "      <td>Shirt_0-200_0-200, Jeans_201-300_301-400, TShi...</td>\n",
       "    </tr>\n",
       "    <tr>\n",
       "      <th>118</th>\n",
       "      <td>7906333316</td>\n",
       "      <td>7906873695</td>\n",
       "      <td>0.902443</td>\n",
       "      <td>Shirt_0-200_201-300, Jeans_201-300_301-400, TS...</td>\n",
       "      <td>Shirt_0-200_0-200, Jeans_201-300_301-400, TShi...</td>\n",
       "    </tr>\n",
       "    <tr>\n",
       "      <th>256</th>\n",
       "      <td>6397223944</td>\n",
       "      <td>8266919237</td>\n",
       "      <td>0.949376</td>\n",
       "      <td>Shirt_0-200_201-300, Jeans_301-400_401-500, TS...</td>\n",
       "      <td>Shirt_0-200_201-300, Jeans_301-400_401-500, TS...</td>\n",
       "    </tr>\n",
       "    <tr>\n",
       "      <th>351</th>\n",
       "      <td>783019065</td>\n",
       "      <td>8307779773</td>\n",
       "      <td>0.906813</td>\n",
       "      <td>Shirt_0-200_0-200, Jeans_201-300_301-400, TShi...</td>\n",
       "      <td>Shirt_0-200_301-400, Jeans_201-300_301-400, TS...</td>\n",
       "    </tr>\n",
       "    <tr>\n",
       "      <th>356</th>\n",
       "      <td>6398930169</td>\n",
       "      <td>8307779773</td>\n",
       "      <td>0.906813</td>\n",
       "      <td>Shirt_0-200_201-300, Jeans_201-300_301-400, TS...</td>\n",
       "      <td>Shirt_0-200_301-400, Jeans_201-300_301-400, TS...</td>\n",
       "    </tr>\n",
       "    <tr>\n",
       "      <th>364</th>\n",
       "      <td>7906333316</td>\n",
       "      <td>8307779773</td>\n",
       "      <td>0.904357</td>\n",
       "      <td>Shirt_0-200_201-300, Jeans_201-300_301-400, TS...</td>\n",
       "      <td>Shirt_0-200_301-400, Jeans_201-300_301-400, TS...</td>\n",
       "    </tr>\n",
       "    <tr>\n",
       "      <th>366</th>\n",
       "      <td>7906873695</td>\n",
       "      <td>8307779773</td>\n",
       "      <td>0.950999</td>\n",
       "      <td>Shirt_0-200_0-200, Jeans_201-300_301-400, TShi...</td>\n",
       "      <td>Shirt_0-200_301-400, Jeans_201-300_301-400, TS...</td>\n",
       "    </tr>\n",
       "    <tr>\n",
       "      <th>703</th>\n",
       "      <td>783019065</td>\n",
       "      <td>8909629623</td>\n",
       "      <td>0.946195</td>\n",
       "      <td>Shirt_0-200_0-200, Jeans_201-300_301-400, TShi...</td>\n",
       "      <td>Shirt_0-200_201-300, Jeans_201-300_301-400, TS...</td>\n",
       "    </tr>\n",
       "    <tr>\n",
       "      <th>708</th>\n",
       "      <td>6398930169</td>\n",
       "      <td>8909629623</td>\n",
       "      <td>0.946195</td>\n",
       "      <td>Shirt_0-200_201-300, Jeans_201-300_301-400, TS...</td>\n",
       "      <td>Shirt_0-200_201-300, Jeans_201-300_301-400, TS...</td>\n",
       "    </tr>\n",
       "    <tr>\n",
       "      <th>716</th>\n",
       "      <td>7906333316</td>\n",
       "      <td>8909629623</td>\n",
       "      <td>0.917682</td>\n",
       "      <td>Shirt_0-200_201-300, Jeans_201-300_301-400, TS...</td>\n",
       "      <td>Shirt_0-200_201-300, Jeans_201-300_301-400, TS...</td>\n",
       "    </tr>\n",
       "    <tr>\n",
       "      <th>741</th>\n",
       "      <td>783019065</td>\n",
       "      <td>9027707094</td>\n",
       "      <td>1.000000</td>\n",
       "      <td>Shirt_0-200_0-200, Jeans_201-300_301-400, TShi...</td>\n",
       "      <td>Shirt_0-200_201-300, Jeans_201-300_301-400, TS...</td>\n",
       "    </tr>\n",
       "    <tr>\n",
       "      <th>746</th>\n",
       "      <td>6398930169</td>\n",
       "      <td>9027707094</td>\n",
       "      <td>1.000000</td>\n",
       "      <td>Shirt_0-200_201-300, Jeans_201-300_301-400, TS...</td>\n",
       "      <td>Shirt_0-200_201-300, Jeans_201-300_301-400, TS...</td>\n",
       "    </tr>\n",
       "    <tr>\n",
       "      <th>754</th>\n",
       "      <td>7906333316</td>\n",
       "      <td>9027707094</td>\n",
       "      <td>0.945235</td>\n",
       "      <td>Shirt_0-200_201-300, Jeans_201-300_301-400, TS...</td>\n",
       "      <td>Shirt_0-200_201-300, Jeans_201-300_301-400, TS...</td>\n",
       "    </tr>\n",
       "    <tr>\n",
       "      <th>756</th>\n",
       "      <td>7906873695</td>\n",
       "      <td>9027707094</td>\n",
       "      <td>0.927025</td>\n",
       "      <td>Shirt_0-200_0-200, Jeans_201-300_301-400, TShi...</td>\n",
       "      <td>Shirt_0-200_201-300, Jeans_201-300_301-400, TS...</td>\n",
       "    </tr>\n",
       "    <tr>\n",
       "      <th>768</th>\n",
       "      <td>8307779773</td>\n",
       "      <td>9027707094</td>\n",
       "      <td>0.906813</td>\n",
       "      <td>Shirt_0-200_301-400, Jeans_201-300_301-400, TS...</td>\n",
       "      <td>Shirt_0-200_201-300, Jeans_201-300_301-400, TS...</td>\n",
       "    </tr>\n",
       "    <tr>\n",
       "      <th>779</th>\n",
       "      <td>8909629623</td>\n",
       "      <td>9027707094</td>\n",
       "      <td>0.946195</td>\n",
       "      <td>Shirt_0-200_201-300, Jeans_201-300_301-400, TS...</td>\n",
       "      <td>Shirt_0-200_201-300, Jeans_201-300_301-400, TS...</td>\n",
       "    </tr>\n",
       "    <tr>\n",
       "      <th>893</th>\n",
       "      <td>8630669609</td>\n",
       "      <td>9259546402</td>\n",
       "      <td>0.904523</td>\n",
       "      <td>Shirt_0-200_301-400, Jeans_301-400_401-500, TS...</td>\n",
       "      <td>Shirt_0-200_301-400, Jeans_301-400_401-500, TS...</td>\n",
       "    </tr>\n",
       "    <tr>\n",
       "      <th>927</th>\n",
       "      <td>8273705596</td>\n",
       "      <td>9368350588</td>\n",
       "      <td>0.946195</td>\n",
       "      <td>Shirt_0-200_201-300, Jeans_201-300_301-400, TS...</td>\n",
       "      <td>Shirt_0-200_201-300, Jeans_201-300_301-400, TS...</td>\n",
       "    </tr>\n",
       "    <tr>\n",
       "      <th>1113</th>\n",
       "      <td>8630669609</td>\n",
       "      <td>9520829127</td>\n",
       "      <td>0.920000</td>\n",
       "      <td>Shirt_0-200_301-400, Jeans_301-400_401-500, TS...</td>\n",
       "      <td>Shirt_0-200_301-400, Jeans_301-400_401-500, TS...</td>\n",
       "    </tr>\n",
       "    <tr>\n",
       "      <th>1127</th>\n",
       "      <td>9457815362</td>\n",
       "      <td>9520829127</td>\n",
       "      <td>0.904523</td>\n",
       "      <td>Shirt_0-200_301-400, Jeans_301-400_401-500, TS...</td>\n",
       "      <td>Shirt_0-200_301-400, Jeans_301-400_401-500, TS...</td>\n",
       "    </tr>\n",
       "    <tr>\n",
       "      <th>1182</th>\n",
       "      <td>7017374232</td>\n",
       "      <td>9634620859</td>\n",
       "      <td>0.906252</td>\n",
       "      <td>Shirt_0-200_201-300, Jeans_201-300_401-500, TS...</td>\n",
       "      <td>Shirt_0-200_201-300, Jeans_201-300_401-500, TS...</td>\n",
       "    </tr>\n",
       "    <tr>\n",
       "      <th>1257</th>\n",
       "      <td>8630669609</td>\n",
       "      <td>9719637443</td>\n",
       "      <td>0.919948</td>\n",
       "      <td>Shirt_0-200_301-400, Jeans_301-400_401-500, TS...</td>\n",
       "      <td>Shirt_0-200_301-400, Jeans_301-400_401-500, TS...</td>\n",
       "    </tr>\n",
       "    <tr>\n",
       "      <th>1617</th>\n",
       "      <td>8218708656</td>\n",
       "      <td>9837976638</td>\n",
       "      <td>0.929267</td>\n",
       "      <td>Shirt_0-200_301-400, Jeans_301-400_401-500, TS...</td>\n",
       "      <td>Shirt_0-200_301-400, Jeans_301-400_401-500, TS...</td>\n",
       "    </tr>\n",
       "    <tr>\n",
       "      <th>1628</th>\n",
       "      <td>8630669609</td>\n",
       "      <td>9837976638</td>\n",
       "      <td>0.920000</td>\n",
       "      <td>Shirt_0-200_301-400, Jeans_301-400_401-500, TS...</td>\n",
       "      <td>Shirt_0-200_301-400, Jeans_301-400_401-500, TS...</td>\n",
       "    </tr>\n",
       "    <tr>\n",
       "      <th>1643</th>\n",
       "      <td>9520829127</td>\n",
       "      <td>9837976638</td>\n",
       "      <td>0.920000</td>\n",
       "      <td>Shirt_0-200_301-400, Jeans_301-400_401-500, TS...</td>\n",
       "      <td>Shirt_0-200_301-400, Jeans_301-400_401-500, TS...</td>\n",
       "    </tr>\n",
       "  </tbody>\n",
       "</table>\n",
       "</div>"
      ],
      "text/plain": [
       "          Buyer1      Buyer2  Similarity  \\\n",
       "10     783019065  6398930169    1.000000   \n",
       "78     783019065  7906333316    0.945235   \n",
       "83    6398930169  7906333316    0.945235   \n",
       "105    783019065  7906873695    0.927025   \n",
       "110   6398930169  7906873695    0.927025   \n",
       "118   7906333316  7906873695    0.902443   \n",
       "256   6397223944  8266919237    0.949376   \n",
       "351    783019065  8307779773    0.906813   \n",
       "356   6398930169  8307779773    0.906813   \n",
       "364   7906333316  8307779773    0.904357   \n",
       "366   7906873695  8307779773    0.950999   \n",
       "703    783019065  8909629623    0.946195   \n",
       "708   6398930169  8909629623    0.946195   \n",
       "716   7906333316  8909629623    0.917682   \n",
       "741    783019065  9027707094    1.000000   \n",
       "746   6398930169  9027707094    1.000000   \n",
       "754   7906333316  9027707094    0.945235   \n",
       "756   7906873695  9027707094    0.927025   \n",
       "768   8307779773  9027707094    0.906813   \n",
       "779   8909629623  9027707094    0.946195   \n",
       "893   8630669609  9259546402    0.904523   \n",
       "927   8273705596  9368350588    0.946195   \n",
       "1113  8630669609  9520829127    0.920000   \n",
       "1127  9457815362  9520829127    0.904523   \n",
       "1182  7017374232  9634620859    0.906252   \n",
       "1257  8630669609  9719637443    0.919948   \n",
       "1617  8218708656  9837976638    0.929267   \n",
       "1628  8630669609  9837976638    0.920000   \n",
       "1643  9520829127  9837976638    0.920000   \n",
       "\n",
       "                                            Buyer1Group  \\\n",
       "10    Shirt_0-200_0-200, Jeans_201-300_301-400, TShi...   \n",
       "78    Shirt_0-200_0-200, Jeans_201-300_301-400, TShi...   \n",
       "83    Shirt_0-200_201-300, Jeans_201-300_301-400, TS...   \n",
       "105   Shirt_0-200_0-200, Jeans_201-300_301-400, TShi...   \n",
       "110   Shirt_0-200_201-300, Jeans_201-300_301-400, TS...   \n",
       "118   Shirt_0-200_201-300, Jeans_201-300_301-400, TS...   \n",
       "256   Shirt_0-200_201-300, Jeans_301-400_401-500, TS...   \n",
       "351   Shirt_0-200_0-200, Jeans_201-300_301-400, TShi...   \n",
       "356   Shirt_0-200_201-300, Jeans_201-300_301-400, TS...   \n",
       "364   Shirt_0-200_201-300, Jeans_201-300_301-400, TS...   \n",
       "366   Shirt_0-200_0-200, Jeans_201-300_301-400, TShi...   \n",
       "703   Shirt_0-200_0-200, Jeans_201-300_301-400, TShi...   \n",
       "708   Shirt_0-200_201-300, Jeans_201-300_301-400, TS...   \n",
       "716   Shirt_0-200_201-300, Jeans_201-300_301-400, TS...   \n",
       "741   Shirt_0-200_0-200, Jeans_201-300_301-400, TShi...   \n",
       "746   Shirt_0-200_201-300, Jeans_201-300_301-400, TS...   \n",
       "754   Shirt_0-200_201-300, Jeans_201-300_301-400, TS...   \n",
       "756   Shirt_0-200_0-200, Jeans_201-300_301-400, TShi...   \n",
       "768   Shirt_0-200_301-400, Jeans_201-300_301-400, TS...   \n",
       "779   Shirt_0-200_201-300, Jeans_201-300_301-400, TS...   \n",
       "893   Shirt_0-200_301-400, Jeans_301-400_401-500, TS...   \n",
       "927   Shirt_0-200_201-300, Jeans_201-300_301-400, TS...   \n",
       "1113  Shirt_0-200_301-400, Jeans_301-400_401-500, TS...   \n",
       "1127  Shirt_0-200_301-400, Jeans_301-400_401-500, TS...   \n",
       "1182  Shirt_0-200_201-300, Jeans_201-300_401-500, TS...   \n",
       "1257  Shirt_0-200_301-400, Jeans_301-400_401-500, TS...   \n",
       "1617  Shirt_0-200_301-400, Jeans_301-400_401-500, TS...   \n",
       "1628  Shirt_0-200_301-400, Jeans_301-400_401-500, TS...   \n",
       "1643  Shirt_0-200_301-400, Jeans_301-400_401-500, TS...   \n",
       "\n",
       "                                            Buyer2Group  \n",
       "10    Shirt_0-200_201-300, Jeans_201-300_301-400, TS...  \n",
       "78    Shirt_0-200_201-300, Jeans_201-300_301-400, TS...  \n",
       "83    Shirt_0-200_201-300, Jeans_201-300_301-400, TS...  \n",
       "105   Shirt_0-200_0-200, Jeans_201-300_301-400, TShi...  \n",
       "110   Shirt_0-200_0-200, Jeans_201-300_301-400, TShi...  \n",
       "118   Shirt_0-200_0-200, Jeans_201-300_301-400, TShi...  \n",
       "256   Shirt_0-200_201-300, Jeans_301-400_401-500, TS...  \n",
       "351   Shirt_0-200_301-400, Jeans_201-300_301-400, TS...  \n",
       "356   Shirt_0-200_301-400, Jeans_201-300_301-400, TS...  \n",
       "364   Shirt_0-200_301-400, Jeans_201-300_301-400, TS...  \n",
       "366   Shirt_0-200_301-400, Jeans_201-300_301-400, TS...  \n",
       "703   Shirt_0-200_201-300, Jeans_201-300_301-400, TS...  \n",
       "708   Shirt_0-200_201-300, Jeans_201-300_301-400, TS...  \n",
       "716   Shirt_0-200_201-300, Jeans_201-300_301-400, TS...  \n",
       "741   Shirt_0-200_201-300, Jeans_201-300_301-400, TS...  \n",
       "746   Shirt_0-200_201-300, Jeans_201-300_301-400, TS...  \n",
       "754   Shirt_0-200_201-300, Jeans_201-300_301-400, TS...  \n",
       "756   Shirt_0-200_201-300, Jeans_201-300_301-400, TS...  \n",
       "768   Shirt_0-200_201-300, Jeans_201-300_301-400, TS...  \n",
       "779   Shirt_0-200_201-300, Jeans_201-300_301-400, TS...  \n",
       "893   Shirt_0-200_301-400, Jeans_301-400_401-500, TS...  \n",
       "927   Shirt_0-200_201-300, Jeans_201-300_301-400, TS...  \n",
       "1113  Shirt_0-200_301-400, Jeans_301-400_401-500, TS...  \n",
       "1127  Shirt_0-200_301-400, Jeans_301-400_401-500, TS...  \n",
       "1182  Shirt_0-200_201-300, Jeans_201-300_401-500, TS...  \n",
       "1257  Shirt_0-200_301-400, Jeans_301-400_401-500, TS...  \n",
       "1617  Shirt_0-200_301-400, Jeans_301-400_401-500, TS...  \n",
       "1628  Shirt_0-200_301-400, Jeans_301-400_401-500, TS...  \n",
       "1643  Shirt_0-200_301-400, Jeans_301-400_401-500, TS...  "
      ]
     },
     "execution_count": 26,
     "metadata": {},
     "output_type": "execute_result"
    }
   ],
   "source": [
    "similarity_df[similarity_df['Similarity']>=0.90]"
   ]
  },
  {
   "cell_type": "code",
   "execution_count": 27,
   "metadata": {},
   "outputs": [],
   "source": [
    "similarity_df.to_excel('Buyer_SImilarity_data.xlsx',index=False)"
   ]
  },
  {
   "cell_type": "code",
   "execution_count": 31,
   "metadata": {},
   "outputs": [
    {
     "data": {
      "text/plain": [
       "'Shirt_0-200_0-200, Jeans_201-300_301-400, TShirts_0-200_201-300, Shorts_0-200_0-200, Track Pants_0-200_0-200'"
      ]
     },
     "execution_count": 31,
     "metadata": {},
     "output_type": "execute_result"
    }
   ],
   "source": [
    "similarity_df[similarity_df['Buyer1']==783019065]['Buyer1Group'][0]"
   ]
  },
  {
   "cell_type": "code",
   "execution_count": 33,
   "metadata": {},
   "outputs": [
    {
     "data": {
      "text/html": [
       "<div>\n",
       "<style scoped>\n",
       "    .dataframe tbody tr th:only-of-type {\n",
       "        vertical-align: middle;\n",
       "    }\n",
       "\n",
       "    .dataframe tbody tr th {\n",
       "        vertical-align: top;\n",
       "    }\n",
       "\n",
       "    .dataframe thead th {\n",
       "        text-align: right;\n",
       "    }\n",
       "</style>\n",
       "<table border=\"1\" class=\"dataframe\">\n",
       "  <thead>\n",
       "    <tr style=\"text-align: right;\">\n",
       "      <th></th>\n",
       "      <th>Buyer1</th>\n",
       "      <th>Buyer2</th>\n",
       "      <th>Similarity</th>\n",
       "      <th>Buyer1Group</th>\n",
       "      <th>Buyer2Group</th>\n",
       "    </tr>\n",
       "  </thead>\n",
       "  <tbody>\n",
       "    <tr>\n",
       "      <th>10</th>\n",
       "      <td>783019065</td>\n",
       "      <td>6398930169</td>\n",
       "      <td>1.0</td>\n",
       "      <td>Shirt_0-200_0-200, Jeans_201-300_301-400, TShi...</td>\n",
       "      <td>Shirt_0-200_201-300, Jeans_201-300_301-400, TS...</td>\n",
       "    </tr>\n",
       "    <tr>\n",
       "      <th>741</th>\n",
       "      <td>783019065</td>\n",
       "      <td>9027707094</td>\n",
       "      <td>1.0</td>\n",
       "      <td>Shirt_0-200_0-200, Jeans_201-300_301-400, TShi...</td>\n",
       "      <td>Shirt_0-200_201-300, Jeans_201-300_301-400, TS...</td>\n",
       "    </tr>\n",
       "    <tr>\n",
       "      <th>746</th>\n",
       "      <td>6398930169</td>\n",
       "      <td>9027707094</td>\n",
       "      <td>1.0</td>\n",
       "      <td>Shirt_0-200_201-300, Jeans_201-300_301-400, TS...</td>\n",
       "      <td>Shirt_0-200_201-300, Jeans_201-300_301-400, TS...</td>\n",
       "    </tr>\n",
       "  </tbody>\n",
       "</table>\n",
       "</div>"
      ],
      "text/plain": [
       "         Buyer1      Buyer2  Similarity  \\\n",
       "10    783019065  6398930169         1.0   \n",
       "741   783019065  9027707094         1.0   \n",
       "746  6398930169  9027707094         1.0   \n",
       "\n",
       "                                           Buyer1Group  \\\n",
       "10   Shirt_0-200_0-200, Jeans_201-300_301-400, TShi...   \n",
       "741  Shirt_0-200_0-200, Jeans_201-300_301-400, TShi...   \n",
       "746  Shirt_0-200_201-300, Jeans_201-300_301-400, TS...   \n",
       "\n",
       "                                           Buyer2Group  \n",
       "10   Shirt_0-200_201-300, Jeans_201-300_301-400, TS...  \n",
       "741  Shirt_0-200_201-300, Jeans_201-300_301-400, TS...  \n",
       "746  Shirt_0-200_201-300, Jeans_201-300_301-400, TS...  "
      ]
     },
     "execution_count": 33,
     "metadata": {},
     "output_type": "execute_result"
    }
   ],
   "source": [
    "similarity_df[similarity_df['Similarity']>=0.98]"
   ]
  },
  {
   "cell_type": "code",
   "execution_count": 34,
   "metadata": {},
   "outputs": [
    {
     "data": {
      "text/html": [
       "<div>\n",
       "<style scoped>\n",
       "    .dataframe tbody tr th:only-of-type {\n",
       "        vertical-align: middle;\n",
       "    }\n",
       "\n",
       "    .dataframe tbody tr th {\n",
       "        vertical-align: top;\n",
       "    }\n",
       "\n",
       "    .dataframe thead th {\n",
       "        text-align: right;\n",
       "    }\n",
       "</style>\n",
       "<table border=\"1\" class=\"dataframe\">\n",
       "  <thead>\n",
       "    <tr style=\"text-align: right;\">\n",
       "      <th></th>\n",
       "      <th>Buyer Number</th>\n",
       "      <th>Item</th>\n",
       "    </tr>\n",
       "  </thead>\n",
       "  <tbody>\n",
       "    <tr>\n",
       "      <th>0</th>\n",
       "      <td>783019065</td>\n",
       "      <td>Shirt, Jeans, TShirts, Shorts, Track Pants</td>\n",
       "    </tr>\n",
       "    <tr>\n",
       "      <th>1</th>\n",
       "      <td>6395903414</td>\n",
       "      <td>Shirt, Jeans, TShirts, Shorts, Track Pants, Tr...</td>\n",
       "    </tr>\n",
       "    <tr>\n",
       "      <th>2</th>\n",
       "      <td>6396923813</td>\n",
       "      <td>Shirt, Jeans, TShirts, Track Pants</td>\n",
       "    </tr>\n",
       "    <tr>\n",
       "      <th>3</th>\n",
       "      <td>6397223944</td>\n",
       "      <td>Shirt, Jeans, TShirts, Shorts, Track Pants, Tr...</td>\n",
       "    </tr>\n",
       "    <tr>\n",
       "      <th>4</th>\n",
       "      <td>6397826848</td>\n",
       "      <td>Shirt, Jeans, TShirts, Shorts, Track Pants, Tr...</td>\n",
       "    </tr>\n",
       "  </tbody>\n",
       "</table>\n",
       "</div>"
      ],
      "text/plain": [
       "   Buyer Number                                               Item\n",
       "0     783019065         Shirt, Jeans, TShirts, Shorts, Track Pants\n",
       "1    6395903414  Shirt, Jeans, TShirts, Shorts, Track Pants, Tr...\n",
       "2    6396923813                 Shirt, Jeans, TShirts, Track Pants\n",
       "3    6397223944  Shirt, Jeans, TShirts, Shorts, Track Pants, Tr...\n",
       "4    6397826848  Shirt, Jeans, TShirts, Shorts, Track Pants, Tr..."
      ]
     },
     "execution_count": 34,
     "metadata": {},
     "output_type": "execute_result"
    }
   ],
   "source": [
    "final = flattened_final.groupby('Buyer Number')['Item'].apply(lambda x: ', '.join(x)).reset_index()\n",
    "final.head()"
   ]
  },
  {
   "cell_type": "code",
   "execution_count": 36,
   "metadata": {},
   "outputs": [
    {
     "data": {
      "text/html": [
       "<div>\n",
       "<style scoped>\n",
       "    .dataframe tbody tr th:only-of-type {\n",
       "        vertical-align: middle;\n",
       "    }\n",
       "\n",
       "    .dataframe tbody tr th {\n",
       "        vertical-align: top;\n",
       "    }\n",
       "\n",
       "    .dataframe thead th {\n",
       "        text-align: right;\n",
       "    }\n",
       "</style>\n",
       "<table border=\"1\" class=\"dataframe\">\n",
       "  <thead>\n",
       "    <tr style=\"text-align: right;\">\n",
       "      <th></th>\n",
       "      <th>Item</th>\n",
       "      <th>Buyer Number</th>\n",
       "    </tr>\n",
       "  </thead>\n",
       "  <tbody>\n",
       "    <tr>\n",
       "      <th>0</th>\n",
       "      <td>Shirt, Jeans, TShirts</td>\n",
       "      <td>3</td>\n",
       "    </tr>\n",
       "    <tr>\n",
       "      <th>1</th>\n",
       "      <td>Shirt, Jeans, TShirts, Kurta</td>\n",
       "      <td>2</td>\n",
       "    </tr>\n",
       "    <tr>\n",
       "      <th>2</th>\n",
       "      <td>Shirt, Jeans, TShirts, Shorts, Track Pants</td>\n",
       "      <td>12</td>\n",
       "    </tr>\n",
       "    <tr>\n",
       "      <th>3</th>\n",
       "      <td>Shirt, Jeans, TShirts, Shorts, Track Pants, Tr...</td>\n",
       "      <td>15</td>\n",
       "    </tr>\n",
       "    <tr>\n",
       "      <th>4</th>\n",
       "      <td>Shirt, Jeans, TShirts, Shorts, Track Pants, Tr...</td>\n",
       "      <td>5</td>\n",
       "    </tr>\n",
       "    <tr>\n",
       "      <th>5</th>\n",
       "      <td>Shirt, Jeans, TShirts, Shorts, Track Pants, Tr...</td>\n",
       "      <td>3</td>\n",
       "    </tr>\n",
       "    <tr>\n",
       "      <th>6</th>\n",
       "      <td>Shirt, Jeans, TShirts, Shorts, Track Pants, Tr...</td>\n",
       "      <td>8</td>\n",
       "    </tr>\n",
       "    <tr>\n",
       "      <th>7</th>\n",
       "      <td>Shirt, Jeans, TShirts, Track Pants</td>\n",
       "      <td>7</td>\n",
       "    </tr>\n",
       "    <tr>\n",
       "      <th>8</th>\n",
       "      <td>Shirt, Jeans, TShirts, Track Pants, Kurta</td>\n",
       "      <td>1</td>\n",
       "    </tr>\n",
       "    <tr>\n",
       "      <th>9</th>\n",
       "      <td>Shirt, Jeans, TShirts, Track Pants, Trousers</td>\n",
       "      <td>4</td>\n",
       "    </tr>\n",
       "    <tr>\n",
       "      <th>10</th>\n",
       "      <td>Shirt, Jeans, TShirts, Trousers</td>\n",
       "      <td>1</td>\n",
       "    </tr>\n",
       "    <tr>\n",
       "      <th>11</th>\n",
       "      <td>Shirt, Jeans, TShirts, Trousers, Kurta</td>\n",
       "      <td>1</td>\n",
       "    </tr>\n",
       "    <tr>\n",
       "      <th>12</th>\n",
       "      <td>Shorts, Track Pants</td>\n",
       "      <td>1</td>\n",
       "    </tr>\n",
       "  </tbody>\n",
       "</table>\n",
       "</div>"
      ],
      "text/plain": [
       "                                                 Item  Buyer Number\n",
       "0                               Shirt, Jeans, TShirts             3\n",
       "1                        Shirt, Jeans, TShirts, Kurta             2\n",
       "2          Shirt, Jeans, TShirts, Shorts, Track Pants            12\n",
       "3   Shirt, Jeans, TShirts, Shorts, Track Pants, Tr...            15\n",
       "4   Shirt, Jeans, TShirts, Shorts, Track Pants, Tr...             5\n",
       "5   Shirt, Jeans, TShirts, Shorts, Track Pants, Tr...             3\n",
       "6   Shirt, Jeans, TShirts, Shorts, Track Pants, Tr...             8\n",
       "7                  Shirt, Jeans, TShirts, Track Pants             7\n",
       "8           Shirt, Jeans, TShirts, Track Pants, Kurta             1\n",
       "9        Shirt, Jeans, TShirts, Track Pants, Trousers             4\n",
       "10                    Shirt, Jeans, TShirts, Trousers             1\n",
       "11             Shirt, Jeans, TShirts, Trousers, Kurta             1\n",
       "12                                Shorts, Track Pants             1"
      ]
     },
     "execution_count": 36,
     "metadata": {},
     "output_type": "execute_result"
    }
   ],
   "source": [
    "final_df_new=final.groupby('Item')['Buyer Number'].count().reset_index()\n",
    "final_df_new\n"
   ]
  },
  {
   "cell_type": "code",
   "execution_count": 39,
   "metadata": {},
   "outputs": [
    {
     "data": {
      "image/png": "[encoded data removed]",
      "text/plain": [
       "<Figure size 640x480 with 1 Axes>"
      ]
     },
     "metadata": {},
     "output_type": "display_data"
    }
   ],
   "source": [
    "import matplotlib.pyplot as plt\n",
    "import mplcursors\n",
    "\n",
    "plt.plot(final_df_new['Item'], final_df_new['Buyer Number'], marker='o') \n",
    "plt.xticks(rotation=45, ha='right') \n",
    "plt.tight_layout()  # Automatically adjust the layout to fit everything\n",
    "\n",
    "# Adding interactive cursor\n",
    "cursor = mplcursors.cursor(hover=True)\n",
    "cursor.connect(\"add\", lambda sel: sel.annotation.set_text(\n",
    "    f'Item: {final_df_new[\"Item\"][sel.target.index]}\\nBuyer Number: {final_df_new[\"Buyer Number\"][sel.target.index]}'))\n",
    "\n",
    "plt.show()\n"
   ]
  },
  {
   "cell_type": "code",
   "execution_count": 41,
   "metadata": {},
   "outputs": [
    {
     "data": {
      "application/vnd.plotly.v1+json": {
       "config": {
        "plotlyServerURL": "https://plot.ly"
       },
       "data": [
        {
         "hovertemplate": "Item=%{x}<br>Buyer Number=%{y}<extra></extra>",
         "legendgroup": "",
         "line": {
          "color": "#636efa",
          "dash": "solid"
         },
         "marker": {
          "symbol": "circle"
         },
         "mode": "lines+markers",
         "name": "",
         "orientation": "v",
         "showlegend": false,
         "type": "scatter",
         "x": [
          "A",
          "B",
          "C",
          "D",
          "E"
         ],
         "xaxis": "x",
         "y": [
          10,
          20,
          30,
          40,
          50
         ],
         "yaxis": "y"
        }
       ],
       "layout": {
        "legend": {
         "tracegroupgap": 0
        },
        "template": {
         "data": {
          "bar": [
           {
            "error_x": {
             "color": "#2a3f5f"
            },
            "error_y": {
             "color": "#2a3f5f"
            },
            "marker": {
             "line": {
              "color": "#E5ECF6",
              "width": 0.5
             },
             "pattern": {
              "fillmode": "overlay",
              "size": 10,
              "solidity": 0.2
             }
            },
            "type": "bar"
           }
          ],
          "barpolar": [
           {
            "marker": {
             "line": {
              "color": "#E5ECF6",
              "width": 0.5
             },
             "pattern": {
              "fillmode": "overlay",
              "size": 10,
              "solidity": 0.2
             }
            },
            "type": "barpolar"
           }
          ],
          "carpet": [
           {
            "aaxis": {
             "endlinecolor": "#2a3f5f",
             "gridcolor": "white",
             "linecolor": "white",
             "minorgridcolor": "white",
             "startlinecolor": "#2a3f5f"
            },
            "baxis": {
             "endlinecolor": "#2a3f5f",
             "gridcolor": "white",
             "linecolor": "white",
             "minorgridcolor": "white",
             "startlinecolor": "#2a3f5f"
            },
            "type": "carpet"
           }
          ],
          "choropleth": [
           {
            "colorbar": {
             "outlinewidth": 0,
             "ticks": ""
            },
            "type": "choropleth"
           }
          ],
          "contour": [
           {
            "colorbar": {
             "outlinewidth": 0,
             "ticks": ""
            },
            "colorscale": [
             [
              0,
              "#0d0887"
             ],
             [
              0.1111111111111111,
              "#46039f"
             ],
             [
              0.2222222222222222,
              "#7201a8"
             ],
             [
              0.3333333333333333,
              "#9c179e"
             ],
             [
              0.4444444444444444,
              "#bd3786"
             ],
             [
              0.5555555555555556,
              "#d8576b"
             ],
             [
              0.6666666666666666,
              "#ed7953"
             ],
             [
              0.7777777777777778,
              "#fb9f3a"
             ],
             [
              0.8888888888888888,
              "#fdca26"
             ],
             [
              1,
              "#f0f921"
             ]
            ],
            "type": "contour"
           }
          ],
          "contourcarpet": [
           {
            "colorbar": {
             "outlinewidth": 0,
             "ticks": ""
            },
            "type": "contourcarpet"
           }
          ],
          "heatmap": [
           {
            "colorbar": {
             "outlinewidth": 0,
             "ticks": ""
            },
            "colorscale": [
             [
              0,
              "#0d0887"
             ],
             [
              0.1111111111111111,
              "#46039f"
             ],
             [
              0.2222222222222222,
              "#7201a8"
             ],
             [
              0.3333333333333333,
              "#9c179e"
             ],
             [
              0.4444444444444444,
              "#bd3786"
             ],
             [
              0.5555555555555556,
              "#d8576b"
             ],
             [
              0.6666666666666666,
              "#ed7953"
             ],
             [
              0.7777777777777778,
              "#fb9f3a"
             ],
             [
              0.8888888888888888,
              "#fdca26"
             ],
             [
              1,
              "#f0f921"
             ]
            ],
            "type": "heatmap"
           }
          ],
          "heatmapgl": [
           {
            "colorbar": {
             "outlinewidth": 0,
             "ticks": ""
            },
            "colorscale": [
             [
              0,
              "#0d0887"
             ],
             [
              0.1111111111111111,
              "#46039f"
             ],
             [
              0.2222222222222222,
              "#7201a8"
             ],
             [
              0.3333333333333333,
              "#9c179e"
             ],
             [
              0.4444444444444444,
              "#bd3786"
             ],
             [
              0.5555555555555556,
              "#d8576b"
             ],
             [
              0.6666666666666666,
              "#ed7953"
             ],
             [
              0.7777777777777778,
              "#fb9f3a"
             ],
             [
              0.8888888888888888,
              "#fdca26"
             ],
             [
              1,
              "#f0f921"
             ]
            ],
            "type": "heatmapgl"
           }
          ],
          "histogram": [
           {
            "marker": {
             "pattern": {
              "fillmode": "overlay",
              "size": 10,
              "solidity": 0.2
             }
            },
            "type": "histogram"
           }
          ],
          "histogram2d": [
           {
            "colorbar": {
             "outlinewidth": 0,
             "ticks": ""
            },
            "colorscale": [
             [
              0,
              "#0d0887"
             ],
             [
              0.1111111111111111,
              "#46039f"
             ],
             [
              0.2222222222222222,
              "#7201a8"
             ],
             [
              0.3333333333333333,
              "#9c179e"
             ],
             [
              0.4444444444444444,
              "#bd3786"
             ],
             [
              0.5555555555555556,
              "#d8576b"
             ],
             [
              0.6666666666666666,
              "#ed7953"
             ],
             [
              0.7777777777777778,
              "#fb9f3a"
             ],
             [
              0.8888888888888888,
              "#fdca26"
             ],
             [
              1,
              "#f0f921"
             ]
            ],
            "type": "histogram2d"
           }
          ],
          "histogram2dcontour": [
           {
            "colorbar": {
             "outlinewidth": 0,
             "ticks": ""
            },
            "colorscale": [
             [
              0,
              "#0d0887"
             ],
             [
              0.1111111111111111,
              "#46039f"
             ],
             [
              0.2222222222222222,
              "#7201a8"
             ],
             [
              0.3333333333333333,
              "#9c179e"
             ],
             [
              0.4444444444444444,
              "#bd3786"
             ],
             [
              0.5555555555555556,
              "#d8576b"
             ],
             [
              0.6666666666666666,
              "#ed7953"
             ],
             [
              0.7777777777777778,
              "#fb9f3a"
             ],
             [
              0.8888888888888888,
              "#fdca26"
             ],
             [
              1,
              "#f0f921"
             ]
            ],
            "type": "histogram2dcontour"
           }
          ],
          "mesh3d": [
           {
            "colorbar": {
             "outlinewidth": 0,
             "ticks": ""
            },
            "type": "mesh3d"
           }
          ],
          "parcoords": [
           {
            "line": {
             "colorbar": {
              "outlinewidth": 0,
              "ticks": ""
             }
            },
            "type": "parcoords"
           }
          ],
          "pie": [
           {
            "automargin": true,
            "type": "pie"
           }
          ],
          "scatter": [
           {
            "fillpattern": {
             "fillmode": "overlay",
             "size": 10,
             "solidity": 0.2
            },
            "type": "scatter"
           }
          ],
          "scatter3d": [
           {
            "line": {
             "colorbar": {
              "outlinewidth": 0,
              "ticks": ""
             }
            },
            "marker": {
             "colorbar": {
              "outlinewidth": 0,
              "ticks": ""
             }
            },
            "type": "scatter3d"
           }
          ],
          "scattercarpet": [
           {
            "marker": {
             "colorbar": {
              "outlinewidth": 0,
              "ticks": ""
             }
            },
            "type": "scattercarpet"
           }
          ],
          "scattergeo": [
           {
            "marker": {
             "colorbar": {
              "outlinewidth": 0,
              "ticks": ""
             }
            },
            "type": "scattergeo"
           }
          ],
          "scattergl": [
           {
            "marker": {
             "colorbar": {
              "outlinewidth": 0,
              "ticks": ""
             }
            },
            "type": "scattergl"
           }
          ],
          "scattermapbox": [
           {
            "marker": {
             "colorbar": {
              "outlinewidth": 0,
              "ticks": ""
             }
            },
            "type": "scattermapbox"
           }
          ],
          "scatterpolar": [
           {
            "marker": {
             "colorbar": {
              "outlinewidth": 0,
              "ticks": ""
             }
            },
            "type": "scatterpolar"
           }
          ],
          "scatterpolargl": [
           {
            "marker": {
             "colorbar": {
              "outlinewidth": 0,
              "ticks": ""
             }
            },
            "type": "scatterpolargl"
           }
          ],
          "scatterternary": [
           {
            "marker": {
             "colorbar": {
              "outlinewidth": 0,
              "ticks": ""
             }
            },
            "type": "scatterternary"
           }
          ],
          "surface": [
           {
            "colorbar": {
             "outlinewidth": 0,
             "ticks": ""
            },
            "colorscale": [
             [
              0,
              "#0d0887"
             ],
             [
              0.1111111111111111,
              "#46039f"
             ],
             [
              0.2222222222222222,
              "#7201a8"
             ],
             [
              0.3333333333333333,
              "#9c179e"
             ],
             [
              0.4444444444444444,
              "#bd3786"
             ],
             [
              0.5555555555555556,
              "#d8576b"
             ],
             [
              0.6666666666666666,
              "#ed7953"
             ],
             [
              0.7777777777777778,
              "#fb9f3a"
             ],
             [
              0.8888888888888888,
              "#fdca26"
             ],
             [
              1,
              "#f0f921"
             ]
            ],
            "type": "surface"
           }
          ],
          "table": [
           {
            "cells": {
             "fill": {
              "color": "#EBF0F8"
             },
             "line": {
              "color": "white"
             }
            },
            "header": {
             "fill": {
              "color": "#C8D4E3"
             },
             "line": {
              "color": "white"
             }
            },
            "type": "table"
           }
          ]
         },
         "layout": {
          "annotationdefaults": {
           "arrowcolor": "#2a3f5f",
           "arrowhead": 0,
           "arrowwidth": 1
          },
          "autotypenumbers": "strict",
          "coloraxis": {
           "colorbar": {
            "outlinewidth": 0,
            "ticks": ""
           }
          },
          "colorscale": {
           "diverging": [
            [
             0,
             "#8e0152"
            ],
            [
             0.1,
             "#c51b7d"
            ],
            [
             0.2,
             "#de77ae"
            ],
            [
             0.3,
             "#f1b6da"
            ],
            [
             0.4,
             "#fde0ef"
            ],
            [
             0.5,
             "#f7f7f7"
            ],
            [
             0.6,
             "#e6f5d0"
            ],
            [
             0.7,
             "#b8e186"
            ],
            [
             0.8,
             "#7fbc41"
            ],
            [
             0.9,
             "#4d9221"
            ],
            [
             1,
             "#276419"
            ]
           ],
           "sequential": [
            [
             0,
             "#0d0887"
            ],
            [
             0.1111111111111111,
             "#46039f"
            ],
            [
             0.2222222222222222,
             "#7201a8"
            ],
            [
             0.3333333333333333,
             "#9c179e"
            ],
            [
             0.4444444444444444,
             "#bd3786"
            ],
            [
             0.5555555555555556,
             "#d8576b"
            ],
            [
             0.6666666666666666,
             "#ed7953"
            ],
            [
             0.7777777777777778,
             "#fb9f3a"
            ],
            [
             0.8888888888888888,
             "#fdca26"
            ],
            [
             1,
             "#f0f921"
            ]
           ],
           "sequentialminus": [
            [
             0,
             "#0d0887"
            ],
            [
             0.1111111111111111,
             "#46039f"
            ],
            [
             0.2222222222222222,
             "#7201a8"
            ],
            [
             0.3333333333333333,
             "#9c179e"
            ],
            [
             0.4444444444444444,
             "#bd3786"
            ],
            [
             0.5555555555555556,
             "#d8576b"
            ],
            [
             0.6666666666666666,
             "#ed7953"
            ],
            [
             0.7777777777777778,
             "#fb9f3a"
            ],
            [
             0.8888888888888888,
             "#fdca26"
            ],
            [
             1,
             "#f0f921"
            ]
           ]
          },
          "colorway": [
           "#636efa",
           "#EF553B",
           "#00cc96",
           "#ab63fa",
           "#FFA15A",
           "#19d3f3",
           "#FF6692",
           "#B6E880",
           "#FF97FF",
           "#FECB52"
          ],
          "font": {
           "color": "#2a3f5f"
          },
          "geo": {
           "bgcolor": "white",
           "lakecolor": "white",
           "landcolor": "#E5ECF6",
           "showlakes": true,
           "showland": true,
           "subunitcolor": "white"
          },
          "hoverlabel": {
           "align": "left"
          },
          "hovermode": "closest",
          "mapbox": {
           "style": "light"
          },
          "paper_bgcolor": "white",
          "plot_bgcolor": "#E5ECF6",
          "polar": {
           "angularaxis": {
            "gridcolor": "white",
            "linecolor": "white",
            "ticks": ""
           },
           "bgcolor": "#E5ECF6",
           "radialaxis": {
            "gridcolor": "white",
            "linecolor": "white",
            "ticks": ""
           }
          },
          "scene": {
           "xaxis": {
            "backgroundcolor": "#E5ECF6",
            "gridcolor": "white",
            "gridwidth": 2,
            "linecolor": "white",
            "showbackground": true,
            "ticks": "",
            "zerolinecolor": "white"
           },
           "yaxis": {
            "backgroundcolor": "#E5ECF6",
            "gridcolor": "white",
            "gridwidth": 2,
            "linecolor": "white",
            "showbackground": true,
            "ticks": "",
            "zerolinecolor": "white"
           },
           "zaxis": {
            "backgroundcolor": "#E5ECF6",
            "gridcolor": "white",
            "gridwidth": 2,
            "linecolor": "white",
            "showbackground": true,
            "ticks": "",
            "zerolinecolor": "white"
           }
          },
          "shapedefaults": {
           "line": {
            "color": "#2a3f5f"
           }
          },
          "ternary": {
           "aaxis": {
            "gridcolor": "white",
            "linecolor": "white",
            "ticks": ""
           },
           "baxis": {
            "gridcolor": "white",
            "linecolor": "white",
            "ticks": ""
           },
           "bgcolor": "#E5ECF6",
           "caxis": {
            "gridcolor": "white",
            "linecolor": "white",
            "ticks": ""
           }
          },
          "title": {
           "x": 0.05
          },
          "xaxis": {
           "automargin": true,
           "gridcolor": "white",
           "linecolor": "white",
           "ticks": "",
           "title": {
            "standoff": 15
           },
           "zerolinecolor": "white",
           "zerolinewidth": 2
          },
          "yaxis": {
           "automargin": true,
           "gridcolor": "white",
           "linecolor": "white",
           "ticks": "",
           "title": {
            "standoff": 15
           },
           "zerolinecolor": "white",
           "zerolinewidth": 2
          }
         }
        },
        "title": {
         "text": "Item vs Buyer Number"
        },
        "xaxis": {
         "anchor": "y",
         "domain": [
          0,
          1
         ],
         "title": {
          "text": "Item"
         }
        },
        "yaxis": {
         "anchor": "x",
         "domain": [
          0,
          1
         ],
         "title": {
          "text": "Buyer Number"
         }
        }
       }
      }
     },
     "metadata": {},
     "output_type": "display_data"
    }
   ],
   "source": [
    "import plotly.express as px\n",
    "fig = px.line(final_df_new, x='Item', y='Buyer Number', markers=True, title='Item vs Buyer Number')\n",
    "\n",
    "# Show the figure\n",
    "fig.show()"
   ]
  },
  {
   "cell_type": "markdown",
   "metadata": {},
   "source": [
    "#### Clustering"
   ]
  },
  {
   "cell_type": "code",
   "execution_count": 80,
   "metadata": {},
   "outputs": [],
   "source": [
    "import gspread\n",
    "import pandas as pd\n",
    "from google.auth.transport.requests import Request\n",
    "from google.oauth2 import service_account\n",
    "from google.oauth2.service_account import Credentials\n",
    "\n",
    "# Define the scope and credentials\n",
    "scopes = ['https://www.googleapis.com/auth/spreadsheets', 'https://www.googleapis.com/auth/drive']\n",
    "creds = Credentials.from_service_account_file('Supply_cred.json', scopes=scopes)\n",
    "\n",
    "# Authorize the client\n",
    "client = gspread.authorize(creds)   \n",
    "\n",
    "# Open the Google Sheet by its title\n",
    "sheet = client.open('Agra Buyer Profiling')\n",
    "\n",
    "# Read data from a specific worksheet\n",
    "worksheet = sheet.worksheet('Clothing Profiling')  # Replace 'Sheet1' with the actual sheet name\n",
    "data = worksheet.get_all_records()\n",
    "df = pd.DataFrame(data)"
   ]
  },
  {
   "cell_type": "code",
   "execution_count": 81,
   "metadata": {},
   "outputs": [],
   "source": [
    "## shollow copy\n",
    "df1=df.copy()"
   ]
  },
  {
   "cell_type": "code",
   "execution_count": 82,
   "metadata": {},
   "outputs": [
    {
     "data": {
      "text/html": [
       "<div>\n",
       "<style scoped>\n",
       "    .dataframe tbody tr th:only-of-type {\n",
       "        vertical-align: middle;\n",
       "    }\n",
       "\n",
       "    .dataframe tbody tr th {\n",
       "        vertical-align: top;\n",
       "    }\n",
       "\n",
       "    .dataframe thead th {\n",
       "        text-align: right;\n",
       "    }\n",
       "</style>\n",
       "<table border=\"1\" class=\"dataframe\">\n",
       "  <thead>\n",
       "    <tr style=\"text-align: right;\">\n",
       "      <th></th>\n",
       "      <th>Timestamp</th>\n",
       "      <th>Email Address</th>\n",
       "      <th>Buyer Number</th>\n",
       "      <th>Shop Name</th>\n",
       "      <th>Shop Owner Name</th>\n",
       "      <th>Pincode</th>\n",
       "      <th>Market Name</th>\n",
       "      <th>Upload Shop Photo/Visiting card</th>\n",
       "      <th>Deals in -</th>\n",
       "      <th>Shirt -  Starting Purchasing Price</th>\n",
       "      <th>...</th>\n",
       "      <th>Shorts -  Starting Purchasing Price</th>\n",
       "      <th>Shorts -  End Purchasing Price</th>\n",
       "      <th>Track Pants -  Starting Purchasing Price</th>\n",
       "      <th>Track Pants -  End Purchasing Price</th>\n",
       "      <th>Trousers -  Starting Purchasing Price</th>\n",
       "      <th>Trousers -  End Purchasing Price</th>\n",
       "      <th>Track Suits -  Starting Purchasing Price</th>\n",
       "      <th>Track Suits -  End Purchasing Price</th>\n",
       "      <th>Kurta -  Starting Purchasing Price</th>\n",
       "      <th>Kurta -  End Purchasing Price</th>\n",
       "    </tr>\n",
       "  </thead>\n",
       "  <tbody>\n",
       "    <tr>\n",
       "      <th>0</th>\n",
       "      <td>6/5/2024 20:54:22</td>\n",
       "      <td>gandharv.sharma@bijnis.com</td>\n",
       "      <td>8800096381</td>\n",
       "      <td>Gandharv Garments</td>\n",
       "      <td>Gandharv</td>\n",
       "      <td>282010</td>\n",
       "      <td>Shahganj</td>\n",
       "      <td>https://drive.google.com/open?id=1AcWMFFh6t1Ln...</td>\n",
       "      <td>Men</td>\n",
       "      <td>150</td>\n",
       "      <td>...</td>\n",
       "      <td>100</td>\n",
       "      <td>250</td>\n",
       "      <td>200</td>\n",
       "      <td>600</td>\n",
       "      <td>350</td>\n",
       "      <td>700</td>\n",
       "      <td>600</td>\n",
       "      <td>850</td>\n",
       "      <td>300</td>\n",
       "      <td>550</td>\n",
       "    </tr>\n",
       "    <tr>\n",
       "      <th>1</th>\n",
       "      <td>6/6/2024 12:30:49</td>\n",
       "      <td>mohammad.sameer@bijnis.com</td>\n",
       "      <td>7060752846</td>\n",
       "      <td>Kk standard choice</td>\n",
       "      <td>Saif</td>\n",
       "      <td>282003</td>\n",
       "      <td>Sindhi Bazaar</td>\n",
       "      <td>https://drive.google.com/open?id=123Jn_gS1Uo2m...</td>\n",
       "      <td>Men</td>\n",
       "      <td>150</td>\n",
       "      <td>...</td>\n",
       "      <td>100</td>\n",
       "      <td>150</td>\n",
       "      <td>150</td>\n",
       "      <td>200</td>\n",
       "      <td>250</td>\n",
       "      <td>400</td>\n",
       "      <td>550</td>\n",
       "      <td>600</td>\n",
       "      <td>300</td>\n",
       "      <td>500</td>\n",
       "    </tr>\n",
       "    <tr>\n",
       "      <th>2</th>\n",
       "      <td>6/6/2024 13:11:42</td>\n",
       "      <td>mohammad.sameer@bijnis.com</td>\n",
       "      <td>7300766670</td>\n",
       "      <td>Utsav fashion point</td>\n",
       "      <td>Har singh</td>\n",
       "      <td>282001</td>\n",
       "      <td>Rajpur Chungi</td>\n",
       "      <td>https://drive.google.com/open?id=1mi2vS1c1RY11...</td>\n",
       "      <td>Men</td>\n",
       "      <td>250</td>\n",
       "      <td>...</td>\n",
       "      <td></td>\n",
       "      <td></td>\n",
       "      <td></td>\n",
       "      <td></td>\n",
       "      <td>400</td>\n",
       "      <td>600</td>\n",
       "      <td></td>\n",
       "      <td></td>\n",
       "      <td>450</td>\n",
       "      <td>850</td>\n",
       "    </tr>\n",
       "    <tr>\n",
       "      <th>3</th>\n",
       "      <td>6/6/2024 13:59:13</td>\n",
       "      <td>mohammad.sameer@bijnis.com</td>\n",
       "      <td>8755475838</td>\n",
       "      <td>Gujrat sales</td>\n",
       "      <td>Raj</td>\n",
       "      <td>282005</td>\n",
       "      <td>New Agra/Dayalbagh</td>\n",
       "      <td>https://drive.google.com/open?id=1BGduCy17AfjC...</td>\n",
       "      <td>Men</td>\n",
       "      <td>150</td>\n",
       "      <td>...</td>\n",
       "      <td></td>\n",
       "      <td></td>\n",
       "      <td>200</td>\n",
       "      <td>350</td>\n",
       "      <td>350</td>\n",
       "      <td>450</td>\n",
       "      <td></td>\n",
       "      <td></td>\n",
       "      <td></td>\n",
       "      <td></td>\n",
       "    </tr>\n",
       "    <tr>\n",
       "      <th>4</th>\n",
       "      <td>6/6/2024 14:03:14</td>\n",
       "      <td>gandharv.sharma@bijnis.com</td>\n",
       "      <td>9027478173</td>\n",
       "      <td>Shagun saree</td>\n",
       "      <td>Aftab</td>\n",
       "      <td>282005</td>\n",
       "      <td>Shahganj</td>\n",
       "      <td>https://drive.google.com/open?id=1o5xWomJLvfYs...</td>\n",
       "      <td>Women</td>\n",
       "      <td></td>\n",
       "      <td>...</td>\n",
       "      <td></td>\n",
       "      <td></td>\n",
       "      <td></td>\n",
       "      <td></td>\n",
       "      <td></td>\n",
       "      <td></td>\n",
       "      <td></td>\n",
       "      <td></td>\n",
       "      <td></td>\n",
       "      <td></td>\n",
       "    </tr>\n",
       "  </tbody>\n",
       "</table>\n",
       "<p>5 rows × 25 columns</p>\n",
       "</div>"
      ],
      "text/plain": [
       "           Timestamp               Email Address  Buyer Number  \\\n",
       "0  6/5/2024 20:54:22  gandharv.sharma@bijnis.com    8800096381   \n",
       "1  6/6/2024 12:30:49  mohammad.sameer@bijnis.com    7060752846   \n",
       "2  6/6/2024 13:11:42  mohammad.sameer@bijnis.com    7300766670   \n",
       "3  6/6/2024 13:59:13  mohammad.sameer@bijnis.com    8755475838   \n",
       "4  6/6/2024 14:03:14  gandharv.sharma@bijnis.com    9027478173   \n",
       "\n",
       "             Shop Name Shop Owner Name  Pincode         Market Name  \\\n",
       "0   Gandharv Garments         Gandharv   282010            Shahganj   \n",
       "1   Kk standard choice            Saif   282003       Sindhi Bazaar   \n",
       "2  Utsav fashion point       Har singh   282001       Rajpur Chungi   \n",
       "3         Gujrat sales            Raj    282005  New Agra/Dayalbagh   \n",
       "4         Shagun saree           Aftab   282005            Shahganj   \n",
       "\n",
       "                     Upload Shop Photo/Visiting card Deals in -   \\\n",
       "0  https://drive.google.com/open?id=1AcWMFFh6t1Ln...         Men   \n",
       "1  https://drive.google.com/open?id=123Jn_gS1Uo2m...         Men   \n",
       "2  https://drive.google.com/open?id=1mi2vS1c1RY11...         Men   \n",
       "3  https://drive.google.com/open?id=1BGduCy17AfjC...         Men   \n",
       "4  https://drive.google.com/open?id=1o5xWomJLvfYs...       Women   \n",
       "\n",
       "  Shirt -  Starting Purchasing Price  ... Shorts -  Starting Purchasing Price  \\\n",
       "0                                150  ...                                 100   \n",
       "1                                150  ...                                 100   \n",
       "2                                250  ...                                       \n",
       "3                                150  ...                                       \n",
       "4                                     ...                                       \n",
       "\n",
       "  Shorts -  End Purchasing Price Track Pants -  Starting Purchasing Price  \\\n",
       "0                            250                                      200   \n",
       "1                            150                                      150   \n",
       "2                                                                           \n",
       "3                                                                     200   \n",
       "4                                                                           \n",
       "\n",
       "  Track Pants -  End Purchasing Price Trousers -  Starting Purchasing Price  \\\n",
       "0                                 600                                   350   \n",
       "1                                 200                                   250   \n",
       "2                                                                       400   \n",
       "3                                 350                                   350   \n",
       "4                                                                             \n",
       "\n",
       "  Trousers -  End Purchasing Price Track Suits -  Starting Purchasing Price  \\\n",
       "0                              700                                      600   \n",
       "1                              400                                      550   \n",
       "2                              600                                            \n",
       "3                              450                                            \n",
       "4                                                                             \n",
       "\n",
       "  Track Suits -  End Purchasing Price Kurta -  Starting Purchasing Price  \\\n",
       "0                                 850                                300   \n",
       "1                                 600                                300   \n",
       "2                                                                    450   \n",
       "3                                                                          \n",
       "4                                                                          \n",
       "\n",
       "  Kurta -  End Purchasing Price  \n",
       "0                           550  \n",
       "1                           500  \n",
       "2                           850  \n",
       "3                                \n",
       "4                                \n",
       "\n",
       "[5 rows x 25 columns]"
      ]
     },
     "execution_count": 82,
     "metadata": {},
     "output_type": "execute_result"
    }
   ],
   "source": [
    "df.head()"
   ]
  },
  {
   "cell_type": "code",
   "execution_count": null,
   "metadata": {},
   "outputs": [],
   "source": []
  },
  {
   "cell_type": "code",
   "execution_count": 83,
   "metadata": {},
   "outputs": [],
   "source": [
    "df=df[['Buyer Number',\n",
    "       'Shirt -  Starting Purchasing Price', 'Shirt -  End Purchasing Price',\n",
    "       'Jeans -  Starting Purchasing Price', 'Jeans -  End Purchasing Price',\n",
    "       'T-Shirts -  Starting Purchasing Price',\n",
    "       'T-Shirts -  End Purchasing Price',\n",
    "       'Shorts -  Starting Purchasing Price', 'Shorts -  End Purchasing Price',\n",
    "       'Track Pants -  Starting Purchasing Price',\n",
    "       'Track Pants -  End Purchasing Price',\n",
    "       'Trousers -  Starting Purchasing Price',\n",
    "       'Trousers -  End Purchasing Price',\n",
    "       'Track Suits -  Starting Purchasing Price',\n",
    "       'Track Suits -  End Purchasing Price',\n",
    "       'Kurta -  Starting Purchasing Price', 'Kurta -  End Purchasing Price']]"
   ]
  },
  {
   "cell_type": "code",
   "execution_count": 84,
   "metadata": {},
   "outputs": [
    {
     "data": {
      "text/html": [
       "<div>\n",
       "<style scoped>\n",
       "    .dataframe tbody tr th:only-of-type {\n",
       "        vertical-align: middle;\n",
       "    }\n",
       "\n",
       "    .dataframe tbody tr th {\n",
       "        vertical-align: top;\n",
       "    }\n",
       "\n",
       "    .dataframe thead th {\n",
       "        text-align: right;\n",
       "    }\n",
       "</style>\n",
       "<table border=\"1\" class=\"dataframe\">\n",
       "  <thead>\n",
       "    <tr style=\"text-align: right;\">\n",
       "      <th></th>\n",
       "      <th>Buyer Number</th>\n",
       "      <th>Shirt -  Starting Purchasing Price</th>\n",
       "      <th>Shirt -  End Purchasing Price</th>\n",
       "      <th>Jeans -  Starting Purchasing Price</th>\n",
       "      <th>Jeans -  End Purchasing Price</th>\n",
       "      <th>T-Shirts -  Starting Purchasing Price</th>\n",
       "      <th>T-Shirts -  End Purchasing Price</th>\n",
       "      <th>Shorts -  Starting Purchasing Price</th>\n",
       "      <th>Shorts -  End Purchasing Price</th>\n",
       "      <th>Track Pants -  Starting Purchasing Price</th>\n",
       "      <th>Track Pants -  End Purchasing Price</th>\n",
       "      <th>Trousers -  Starting Purchasing Price</th>\n",
       "      <th>Trousers -  End Purchasing Price</th>\n",
       "      <th>Track Suits -  Starting Purchasing Price</th>\n",
       "      <th>Track Suits -  End Purchasing Price</th>\n",
       "      <th>Kurta -  Starting Purchasing Price</th>\n",
       "      <th>Kurta -  End Purchasing Price</th>\n",
       "    </tr>\n",
       "  </thead>\n",
       "  <tbody>\n",
       "    <tr>\n",
       "      <th>0</th>\n",
       "      <td>8800096381</td>\n",
       "      <td>150</td>\n",
       "      <td>250</td>\n",
       "      <td>300</td>\n",
       "      <td>550</td>\n",
       "      <td>150</td>\n",
       "      <td>400</td>\n",
       "      <td>100</td>\n",
       "      <td>250</td>\n",
       "      <td>200</td>\n",
       "      <td>600</td>\n",
       "      <td>350</td>\n",
       "      <td>700</td>\n",
       "      <td>600</td>\n",
       "      <td>850</td>\n",
       "      <td>300</td>\n",
       "      <td>550</td>\n",
       "    </tr>\n",
       "    <tr>\n",
       "      <th>1</th>\n",
       "      <td>7060752846</td>\n",
       "      <td>150</td>\n",
       "      <td>500</td>\n",
       "      <td>350</td>\n",
       "      <td>500</td>\n",
       "      <td>150</td>\n",
       "      <td>250</td>\n",
       "      <td>100</td>\n",
       "      <td>150</td>\n",
       "      <td>150</td>\n",
       "      <td>200</td>\n",
       "      <td>250</td>\n",
       "      <td>400</td>\n",
       "      <td>550</td>\n",
       "      <td>600</td>\n",
       "      <td>300</td>\n",
       "      <td>500</td>\n",
       "    </tr>\n",
       "    <tr>\n",
       "      <th>2</th>\n",
       "      <td>7300766670</td>\n",
       "      <td>250</td>\n",
       "      <td>450</td>\n",
       "      <td>400</td>\n",
       "      <td>550</td>\n",
       "      <td>200</td>\n",
       "      <td>400</td>\n",
       "      <td>0</td>\n",
       "      <td>0</td>\n",
       "      <td>0</td>\n",
       "      <td>0</td>\n",
       "      <td>400</td>\n",
       "      <td>600</td>\n",
       "      <td>0</td>\n",
       "      <td>0</td>\n",
       "      <td>450</td>\n",
       "      <td>850</td>\n",
       "    </tr>\n",
       "    <tr>\n",
       "      <th>3</th>\n",
       "      <td>8755475838</td>\n",
       "      <td>150</td>\n",
       "      <td>350</td>\n",
       "      <td>400</td>\n",
       "      <td>500</td>\n",
       "      <td>200</td>\n",
       "      <td>350</td>\n",
       "      <td>0</td>\n",
       "      <td>0</td>\n",
       "      <td>200</td>\n",
       "      <td>350</td>\n",
       "      <td>350</td>\n",
       "      <td>450</td>\n",
       "      <td>0</td>\n",
       "      <td>0</td>\n",
       "      <td>0</td>\n",
       "      <td>0</td>\n",
       "    </tr>\n",
       "    <tr>\n",
       "      <th>4</th>\n",
       "      <td>9027478173</td>\n",
       "      <td>0</td>\n",
       "      <td>0</td>\n",
       "      <td>0</td>\n",
       "      <td>0</td>\n",
       "      <td>0</td>\n",
       "      <td>0</td>\n",
       "      <td>0</td>\n",
       "      <td>0</td>\n",
       "      <td>0</td>\n",
       "      <td>0</td>\n",
       "      <td>0</td>\n",
       "      <td>0</td>\n",
       "      <td>0</td>\n",
       "      <td>0</td>\n",
       "      <td>0</td>\n",
       "      <td>0</td>\n",
       "    </tr>\n",
       "  </tbody>\n",
       "</table>\n",
       "</div>"
      ],
      "text/plain": [
       "   Buyer Number  Shirt -  Starting Purchasing Price  \\\n",
       "0    8800096381                                 150   \n",
       "1    7060752846                                 150   \n",
       "2    7300766670                                 250   \n",
       "3    8755475838                                 150   \n",
       "4    9027478173                                   0   \n",
       "\n",
       "   Shirt -  End Purchasing Price  Jeans -  Starting Purchasing Price  \\\n",
       "0                            250                                 300   \n",
       "1                            500                                 350   \n",
       "2                            450                                 400   \n",
       "3                            350                                 400   \n",
       "4                              0                                   0   \n",
       "\n",
       "   Jeans -  End Purchasing Price  T-Shirts -  Starting Purchasing Price  \\\n",
       "0                            550                                    150   \n",
       "1                            500                                    150   \n",
       "2                            550                                    200   \n",
       "3                            500                                    200   \n",
       "4                              0                                      0   \n",
       "\n",
       "   T-Shirts -  End Purchasing Price  Shorts -  Starting Purchasing Price  \\\n",
       "0                               400                                  100   \n",
       "1                               250                                  100   \n",
       "2                               400                                    0   \n",
       "3                               350                                    0   \n",
       "4                                 0                                    0   \n",
       "\n",
       "   Shorts -  End Purchasing Price  Track Pants -  Starting Purchasing Price  \\\n",
       "0                             250                                       200   \n",
       "1                             150                                       150   \n",
       "2                               0                                         0   \n",
       "3                               0                                       200   \n",
       "4                               0                                         0   \n",
       "\n",
       "   Track Pants -  End Purchasing Price  Trousers -  Starting Purchasing Price  \\\n",
       "0                                  600                                    350   \n",
       "1                                  200                                    250   \n",
       "2                                    0                                    400   \n",
       "3                                  350                                    350   \n",
       "4                                    0                                      0   \n",
       "\n",
       "   Trousers -  End Purchasing Price  Track Suits -  Starting Purchasing Price  \\\n",
       "0                               700                                       600   \n",
       "1                               400                                       550   \n",
       "2                               600                                         0   \n",
       "3                               450                                         0   \n",
       "4                                 0                                         0   \n",
       "\n",
       "   Track Suits -  End Purchasing Price  Kurta -  Starting Purchasing Price  \\\n",
       "0                                  850                                 300   \n",
       "1                                  600                                 300   \n",
       "2                                    0                                 450   \n",
       "3                                    0                                   0   \n",
       "4                                    0                                   0   \n",
       "\n",
       "   Kurta -  End Purchasing Price  \n",
       "0                            550  \n",
       "1                            500  \n",
       "2                            850  \n",
       "3                              0  \n",
       "4                              0  "
      ]
     },
     "execution_count": 84,
     "metadata": {},
     "output_type": "execute_result"
    }
   ],
   "source": [
    "df=df.fillna(0)\n",
    "df=df.replace('',0)\n",
    "df.head()"
   ]
  },
  {
   "cell_type": "code",
   "execution_count": 85,
   "metadata": {},
   "outputs": [
    {
     "data": {
      "text/html": [
       "<div>\n",
       "<style scoped>\n",
       "    .dataframe tbody tr th:only-of-type {\n",
       "        vertical-align: middle;\n",
       "    }\n",
       "\n",
       "    .dataframe tbody tr th {\n",
       "        vertical-align: top;\n",
       "    }\n",
       "\n",
       "    .dataframe thead th {\n",
       "        text-align: right;\n",
       "    }\n",
       "</style>\n",
       "<table border=\"1\" class=\"dataframe\">\n",
       "  <thead>\n",
       "    <tr style=\"text-align: right;\">\n",
       "      <th></th>\n",
       "      <th>Buyer Number</th>\n",
       "      <th>Shirt -  Starting Purchasing Price</th>\n",
       "      <th>Shirt -  End Purchasing Price</th>\n",
       "      <th>Jeans -  Starting Purchasing Price</th>\n",
       "      <th>Jeans -  End Purchasing Price</th>\n",
       "      <th>T-Shirts -  Starting Purchasing Price</th>\n",
       "      <th>T-Shirts -  End Purchasing Price</th>\n",
       "      <th>Shorts -  Starting Purchasing Price</th>\n",
       "      <th>Shorts -  End Purchasing Price</th>\n",
       "      <th>Track Pants -  Starting Purchasing Price</th>\n",
       "      <th>Track Pants -  End Purchasing Price</th>\n",
       "      <th>Trousers -  Starting Purchasing Price</th>\n",
       "      <th>Trousers -  End Purchasing Price</th>\n",
       "      <th>Track Suits -  Starting Purchasing Price</th>\n",
       "      <th>Track Suits -  End Purchasing Price</th>\n",
       "      <th>Kurta -  Starting Purchasing Price</th>\n",
       "      <th>Kurta -  End Purchasing Price</th>\n",
       "    </tr>\n",
       "  </thead>\n",
       "  <tbody>\n",
       "    <tr>\n",
       "      <th>0</th>\n",
       "      <td>8800096381</td>\n",
       "      <td>-0.308750</td>\n",
       "      <td>-0.295939</td>\n",
       "      <td>-0.109429</td>\n",
       "      <td>0.262225</td>\n",
       "      <td>0.257397</td>\n",
       "      <td>0.584985</td>\n",
       "      <td>0.404573</td>\n",
       "      <td>0.887586</td>\n",
       "      <td>0.861164</td>\n",
       "      <td>2.113519</td>\n",
       "      <td>1.025751</td>\n",
       "      <td>1.451512</td>\n",
       "      <td>2.265205</td>\n",
       "      <td>2.154180</td>\n",
       "      <td>1.434505</td>\n",
       "      <td>1.408342</td>\n",
       "    </tr>\n",
       "    <tr>\n",
       "      <th>1</th>\n",
       "      <td>7060752846</td>\n",
       "      <td>-0.308750</td>\n",
       "      <td>1.072780</td>\n",
       "      <td>0.202023</td>\n",
       "      <td>0.079162</td>\n",
       "      <td>0.257397</td>\n",
       "      <td>-0.202086</td>\n",
       "      <td>0.404573</td>\n",
       "      <td>0.169757</td>\n",
       "      <td>0.281835</td>\n",
       "      <td>-0.144971</td>\n",
       "      <td>0.467622</td>\n",
       "      <td>0.449224</td>\n",
       "      <td>2.042002</td>\n",
       "      <td>1.401539</td>\n",
       "      <td>1.434505</td>\n",
       "      <td>1.232892</td>\n",
       "    </tr>\n",
       "    <tr>\n",
       "      <th>2</th>\n",
       "      <td>7300766670</td>\n",
       "      <td>0.663484</td>\n",
       "      <td>0.799036</td>\n",
       "      <td>0.513476</td>\n",
       "      <td>0.262225</td>\n",
       "      <td>0.871827</td>\n",
       "      <td>0.584985</td>\n",
       "      <td>-0.956264</td>\n",
       "      <td>-0.906987</td>\n",
       "      <td>-1.456150</td>\n",
       "      <td>-1.274215</td>\n",
       "      <td>1.304815</td>\n",
       "      <td>1.117416</td>\n",
       "      <td>-0.413226</td>\n",
       "      <td>-0.404799</td>\n",
       "      <td>2.414382</td>\n",
       "      <td>2.461043</td>\n",
       "    </tr>\n",
       "    <tr>\n",
       "      <th>3</th>\n",
       "      <td>8755475838</td>\n",
       "      <td>-0.308750</td>\n",
       "      <td>0.251548</td>\n",
       "      <td>0.513476</td>\n",
       "      <td>0.079162</td>\n",
       "      <td>0.871827</td>\n",
       "      <td>0.322628</td>\n",
       "      <td>-0.956264</td>\n",
       "      <td>-0.906987</td>\n",
       "      <td>0.861164</td>\n",
       "      <td>0.701963</td>\n",
       "      <td>1.025751</td>\n",
       "      <td>0.616272</td>\n",
       "      <td>-0.413226</td>\n",
       "      <td>-0.404799</td>\n",
       "      <td>-0.525249</td>\n",
       "      <td>-0.521608</td>\n",
       "    </tr>\n",
       "    <tr>\n",
       "      <th>4</th>\n",
       "      <td>9027478173</td>\n",
       "      <td>-1.767100</td>\n",
       "      <td>-1.664658</td>\n",
       "      <td>-1.978145</td>\n",
       "      <td>-1.751467</td>\n",
       "      <td>-1.585895</td>\n",
       "      <td>-1.513870</td>\n",
       "      <td>-0.956264</td>\n",
       "      <td>-0.906987</td>\n",
       "      <td>-1.456150</td>\n",
       "      <td>-1.274215</td>\n",
       "      <td>-0.927701</td>\n",
       "      <td>-0.887160</td>\n",
       "      <td>-0.413226</td>\n",
       "      <td>-0.404799</td>\n",
       "      <td>-0.525249</td>\n",
       "      <td>-0.521608</td>\n",
       "    </tr>\n",
       "  </tbody>\n",
       "</table>\n",
       "</div>"
      ],
      "text/plain": [
       "   Buyer Number  Shirt -  Starting Purchasing Price  \\\n",
       "0    8800096381                           -0.308750   \n",
       "1    7060752846                           -0.308750   \n",
       "2    7300766670                            0.663484   \n",
       "3    8755475838                           -0.308750   \n",
       "4    9027478173                           -1.767100   \n",
       "\n",
       "   Shirt -  End Purchasing Price  Jeans -  Starting Purchasing Price  \\\n",
       "0                      -0.295939                           -0.109429   \n",
       "1                       1.072780                            0.202023   \n",
       "2                       0.799036                            0.513476   \n",
       "3                       0.251548                            0.513476   \n",
       "4                      -1.664658                           -1.978145   \n",
       "\n",
       "   Jeans -  End Purchasing Price  T-Shirts -  Starting Purchasing Price  \\\n",
       "0                       0.262225                               0.257397   \n",
       "1                       0.079162                               0.257397   \n",
       "2                       0.262225                               0.871827   \n",
       "3                       0.079162                               0.871827   \n",
       "4                      -1.751467                              -1.585895   \n",
       "\n",
       "   T-Shirts -  End Purchasing Price  Shorts -  Starting Purchasing Price  \\\n",
       "0                          0.584985                             0.404573   \n",
       "1                         -0.202086                             0.404573   \n",
       "2                          0.584985                            -0.956264   \n",
       "3                          0.322628                            -0.956264   \n",
       "4                         -1.513870                            -0.956264   \n",
       "\n",
       "   Shorts -  End Purchasing Price  Track Pants -  Starting Purchasing Price  \\\n",
       "0                        0.887586                                  0.861164   \n",
       "1                        0.169757                                  0.281835   \n",
       "2                       -0.906987                                 -1.456150   \n",
       "3                       -0.906987                                  0.861164   \n",
       "4                       -0.906987                                 -1.456150   \n",
       "\n",
       "   Track Pants -  End Purchasing Price  Trousers -  Starting Purchasing Price  \\\n",
       "0                             2.113519                               1.025751   \n",
       "1                            -0.144971                               0.467622   \n",
       "2                            -1.274215                               1.304815   \n",
       "3                             0.701963                               1.025751   \n",
       "4                            -1.274215                              -0.927701   \n",
       "\n",
       "   Trousers -  End Purchasing Price  Track Suits -  Starting Purchasing Price  \\\n",
       "0                          1.451512                                  2.265205   \n",
       "1                          0.449224                                  2.042002   \n",
       "2                          1.117416                                 -0.413226   \n",
       "3                          0.616272                                 -0.413226   \n",
       "4                         -0.887160                                 -0.413226   \n",
       "\n",
       "   Track Suits -  End Purchasing Price  Kurta -  Starting Purchasing Price  \\\n",
       "0                             2.154180                            1.434505   \n",
       "1                             1.401539                            1.434505   \n",
       "2                            -0.404799                            2.414382   \n",
       "3                            -0.404799                           -0.525249   \n",
       "4                            -0.404799                           -0.525249   \n",
       "\n",
       "   Kurta -  End Purchasing Price  \n",
       "0                       1.408342  \n",
       "1                       1.232892  \n",
       "2                       2.461043  \n",
       "3                      -0.521608  \n",
       "4                      -0.521608  "
      ]
     },
     "execution_count": 85,
     "metadata": {},
     "output_type": "execute_result"
    }
   ],
   "source": [
    "from sklearn.preprocessing import StandardScaler\n",
    "scaler = StandardScaler()\n",
    "\n",
    "# Get the columns to be standardized (all columns except the first one)\n",
    "columns_to_standardize = df.columns[1:]\n",
    "df[columns_to_standardize] = scaler.fit_transform(df[columns_to_standardize])\n",
    "\n",
    "# Display the standardized DataFrame\n",
    "df.head()"
   ]
  },
  {
   "cell_type": "code",
   "execution_count": 86,
   "metadata": {},
   "outputs": [
    {
     "name": "stderr",
     "output_type": "stream",
     "text": [
      "c:\\Users\\Akhil\\AppData\\Local\\Programs\\Python\\Python311\\Lib\\site-packages\\sklearn\\cluster\\_kmeans.py:870: FutureWarning:\n",
      "\n",
      "The default value of `n_init` will change from 10 to 'auto' in 1.4. Set the value of `n_init` explicitly to suppress the warning\n",
      "\n"
     ]
    }
   ],
   "source": [
    "from sklearn.cluster import KMeans\n",
    "kmeans = KMeans(n_clusters=4, random_state=42)\n",
    "df['Cluster'] = kmeans.fit_predict(df[columns_to_standardize])"
   ]
  },
  {
   "cell_type": "code",
   "execution_count": 87,
   "metadata": {},
   "outputs": [
    {
     "data": {
      "text/html": [
       "<div>\n",
       "<style scoped>\n",
       "    .dataframe tbody tr th:only-of-type {\n",
       "        vertical-align: middle;\n",
       "    }\n",
       "\n",
       "    .dataframe tbody tr th {\n",
       "        vertical-align: top;\n",
       "    }\n",
       "\n",
       "    .dataframe thead th {\n",
       "        text-align: right;\n",
       "    }\n",
       "</style>\n",
       "<table border=\"1\" class=\"dataframe\">\n",
       "  <thead>\n",
       "    <tr style=\"text-align: right;\">\n",
       "      <th></th>\n",
       "      <th>Buyer Number</th>\n",
       "      <th>Shirt -  Starting Purchasing Price</th>\n",
       "      <th>Shirt -  End Purchasing Price</th>\n",
       "      <th>Jeans -  Starting Purchasing Price</th>\n",
       "      <th>Jeans -  End Purchasing Price</th>\n",
       "      <th>T-Shirts -  Starting Purchasing Price</th>\n",
       "      <th>T-Shirts -  End Purchasing Price</th>\n",
       "      <th>Shorts -  Starting Purchasing Price</th>\n",
       "      <th>Shorts -  End Purchasing Price</th>\n",
       "      <th>Track Pants -  Starting Purchasing Price</th>\n",
       "      <th>Track Pants -  End Purchasing Price</th>\n",
       "      <th>Trousers -  Starting Purchasing Price</th>\n",
       "      <th>Trousers -  End Purchasing Price</th>\n",
       "      <th>Track Suits -  Starting Purchasing Price</th>\n",
       "      <th>Track Suits -  End Purchasing Price</th>\n",
       "      <th>Kurta -  Starting Purchasing Price</th>\n",
       "      <th>Kurta -  End Purchasing Price</th>\n",
       "      <th>Cluster</th>\n",
       "    </tr>\n",
       "  </thead>\n",
       "  <tbody>\n",
       "    <tr>\n",
       "      <th>0</th>\n",
       "      <td>8800096381</td>\n",
       "      <td>-0.308750</td>\n",
       "      <td>-0.295939</td>\n",
       "      <td>-0.109429</td>\n",
       "      <td>0.262225</td>\n",
       "      <td>0.257397</td>\n",
       "      <td>0.584985</td>\n",
       "      <td>0.404573</td>\n",
       "      <td>0.887586</td>\n",
       "      <td>0.861164</td>\n",
       "      <td>2.113519</td>\n",
       "      <td>1.025751</td>\n",
       "      <td>1.451512</td>\n",
       "      <td>2.265205</td>\n",
       "      <td>2.154180</td>\n",
       "      <td>1.434505</td>\n",
       "      <td>1.408342</td>\n",
       "      <td>3</td>\n",
       "    </tr>\n",
       "    <tr>\n",
       "      <th>1</th>\n",
       "      <td>7060752846</td>\n",
       "      <td>-0.308750</td>\n",
       "      <td>1.072780</td>\n",
       "      <td>0.202023</td>\n",
       "      <td>0.079162</td>\n",
       "      <td>0.257397</td>\n",
       "      <td>-0.202086</td>\n",
       "      <td>0.404573</td>\n",
       "      <td>0.169757</td>\n",
       "      <td>0.281835</td>\n",
       "      <td>-0.144971</td>\n",
       "      <td>0.467622</td>\n",
       "      <td>0.449224</td>\n",
       "      <td>2.042002</td>\n",
       "      <td>1.401539</td>\n",
       "      <td>1.434505</td>\n",
       "      <td>1.232892</td>\n",
       "      <td>0</td>\n",
       "    </tr>\n",
       "    <tr>\n",
       "      <th>2</th>\n",
       "      <td>7300766670</td>\n",
       "      <td>0.663484</td>\n",
       "      <td>0.799036</td>\n",
       "      <td>0.513476</td>\n",
       "      <td>0.262225</td>\n",
       "      <td>0.871827</td>\n",
       "      <td>0.584985</td>\n",
       "      <td>-0.956264</td>\n",
       "      <td>-0.906987</td>\n",
       "      <td>-1.456150</td>\n",
       "      <td>-1.274215</td>\n",
       "      <td>1.304815</td>\n",
       "      <td>1.117416</td>\n",
       "      <td>-0.413226</td>\n",
       "      <td>-0.404799</td>\n",
       "      <td>2.414382</td>\n",
       "      <td>2.461043</td>\n",
       "      <td>0</td>\n",
       "    </tr>\n",
       "    <tr>\n",
       "      <th>3</th>\n",
       "      <td>8755475838</td>\n",
       "      <td>-0.308750</td>\n",
       "      <td>0.251548</td>\n",
       "      <td>0.513476</td>\n",
       "      <td>0.079162</td>\n",
       "      <td>0.871827</td>\n",
       "      <td>0.322628</td>\n",
       "      <td>-0.956264</td>\n",
       "      <td>-0.906987</td>\n",
       "      <td>0.861164</td>\n",
       "      <td>0.701963</td>\n",
       "      <td>1.025751</td>\n",
       "      <td>0.616272</td>\n",
       "      <td>-0.413226</td>\n",
       "      <td>-0.404799</td>\n",
       "      <td>-0.525249</td>\n",
       "      <td>-0.521608</td>\n",
       "      <td>0</td>\n",
       "    </tr>\n",
       "    <tr>\n",
       "      <th>4</th>\n",
       "      <td>9027478173</td>\n",
       "      <td>-1.767100</td>\n",
       "      <td>-1.664658</td>\n",
       "      <td>-1.978145</td>\n",
       "      <td>-1.751467</td>\n",
       "      <td>-1.585895</td>\n",
       "      <td>-1.513870</td>\n",
       "      <td>-0.956264</td>\n",
       "      <td>-0.906987</td>\n",
       "      <td>-1.456150</td>\n",
       "      <td>-1.274215</td>\n",
       "      <td>-0.927701</td>\n",
       "      <td>-0.887160</td>\n",
       "      <td>-0.413226</td>\n",
       "      <td>-0.404799</td>\n",
       "      <td>-0.525249</td>\n",
       "      <td>-0.521608</td>\n",
       "      <td>1</td>\n",
       "    </tr>\n",
       "    <tr>\n",
       "      <th>...</th>\n",
       "      <td>...</td>\n",
       "      <td>...</td>\n",
       "      <td>...</td>\n",
       "      <td>...</td>\n",
       "      <td>...</td>\n",
       "      <td>...</td>\n",
       "      <td>...</td>\n",
       "      <td>...</td>\n",
       "      <td>...</td>\n",
       "      <td>...</td>\n",
       "      <td>...</td>\n",
       "      <td>...</td>\n",
       "      <td>...</td>\n",
       "      <td>...</td>\n",
       "      <td>...</td>\n",
       "      <td>...</td>\n",
       "      <td>...</td>\n",
       "      <td>...</td>\n",
       "    </tr>\n",
       "    <tr>\n",
       "      <th>69</th>\n",
       "      <td>7906873695</td>\n",
       "      <td>-0.308750</td>\n",
       "      <td>-0.569683</td>\n",
       "      <td>-0.420882</td>\n",
       "      <td>-0.470026</td>\n",
       "      <td>-0.357034</td>\n",
       "      <td>-0.726800</td>\n",
       "      <td>-0.275845</td>\n",
       "      <td>-0.189158</td>\n",
       "      <td>-0.297493</td>\n",
       "      <td>0.701963</td>\n",
       "      <td>0.188557</td>\n",
       "      <td>0.115128</td>\n",
       "      <td>-0.413226</td>\n",
       "      <td>-0.404799</td>\n",
       "      <td>-0.525249</td>\n",
       "      <td>-0.521608</td>\n",
       "      <td>2</td>\n",
       "    </tr>\n",
       "    <tr>\n",
       "      <th>70</th>\n",
       "      <td>7060461307</td>\n",
       "      <td>0.177367</td>\n",
       "      <td>0.251548</td>\n",
       "      <td>0.202023</td>\n",
       "      <td>0.445288</td>\n",
       "      <td>-0.357034</td>\n",
       "      <td>0.322628</td>\n",
       "      <td>-0.956264</td>\n",
       "      <td>-0.906987</td>\n",
       "      <td>0.281835</td>\n",
       "      <td>-0.144971</td>\n",
       "      <td>-0.927701</td>\n",
       "      <td>-0.887160</td>\n",
       "      <td>-0.413226</td>\n",
       "      <td>-0.404799</td>\n",
       "      <td>-0.525249</td>\n",
       "      <td>-0.521608</td>\n",
       "      <td>2</td>\n",
       "    </tr>\n",
       "    <tr>\n",
       "      <th>71</th>\n",
       "      <td>9837300642</td>\n",
       "      <td>1.149600</td>\n",
       "      <td>0.525292</td>\n",
       "      <td>0.513476</td>\n",
       "      <td>0.811414</td>\n",
       "      <td>-0.357034</td>\n",
       "      <td>0.584985</td>\n",
       "      <td>1.084992</td>\n",
       "      <td>0.528672</td>\n",
       "      <td>0.281835</td>\n",
       "      <td>0.419652</td>\n",
       "      <td>1.304815</td>\n",
       "      <td>1.117416</td>\n",
       "      <td>-0.413226</td>\n",
       "      <td>-0.404799</td>\n",
       "      <td>-0.525249</td>\n",
       "      <td>-0.521608</td>\n",
       "      <td>0</td>\n",
       "    </tr>\n",
       "    <tr>\n",
       "      <th>72</th>\n",
       "      <td>9870658614</td>\n",
       "      <td>0.177367</td>\n",
       "      <td>-0.022195</td>\n",
       "      <td>0.513476</td>\n",
       "      <td>0.445288</td>\n",
       "      <td>0.257397</td>\n",
       "      <td>-0.202086</td>\n",
       "      <td>0.404573</td>\n",
       "      <td>0.169757</td>\n",
       "      <td>0.281835</td>\n",
       "      <td>0.137341</td>\n",
       "      <td>1.304815</td>\n",
       "      <td>1.117416</td>\n",
       "      <td>-0.413226</td>\n",
       "      <td>-0.404799</td>\n",
       "      <td>1.107879</td>\n",
       "      <td>0.881992</td>\n",
       "      <td>0</td>\n",
       "    </tr>\n",
       "    <tr>\n",
       "      <th>73</th>\n",
       "      <td>8899519055</td>\n",
       "      <td>0.663484</td>\n",
       "      <td>0.525292</td>\n",
       "      <td>0.824929</td>\n",
       "      <td>0.445288</td>\n",
       "      <td>1.486258</td>\n",
       "      <td>0.847342</td>\n",
       "      <td>-0.956264</td>\n",
       "      <td>-0.906987</td>\n",
       "      <td>-1.456150</td>\n",
       "      <td>-1.274215</td>\n",
       "      <td>-0.927701</td>\n",
       "      <td>-0.887160</td>\n",
       "      <td>-0.413226</td>\n",
       "      <td>-0.404799</td>\n",
       "      <td>-0.525249</td>\n",
       "      <td>-0.521608</td>\n",
       "      <td>2</td>\n",
       "    </tr>\n",
       "  </tbody>\n",
       "</table>\n",
       "<p>74 rows × 18 columns</p>\n",
       "</div>"
      ],
      "text/plain": [
       "    Buyer Number  Shirt -  Starting Purchasing Price  \\\n",
       "0     8800096381                           -0.308750   \n",
       "1     7060752846                           -0.308750   \n",
       "2     7300766670                            0.663484   \n",
       "3     8755475838                           -0.308750   \n",
       "4     9027478173                           -1.767100   \n",
       "..           ...                                 ...   \n",
       "69    7906873695                           -0.308750   \n",
       "70    7060461307                            0.177367   \n",
       "71    9837300642                            1.149600   \n",
       "72    9870658614                            0.177367   \n",
       "73    8899519055                            0.663484   \n",
       "\n",
       "    Shirt -  End Purchasing Price  Jeans -  Starting Purchasing Price  \\\n",
       "0                       -0.295939                           -0.109429   \n",
       "1                        1.072780                            0.202023   \n",
       "2                        0.799036                            0.513476   \n",
       "3                        0.251548                            0.513476   \n",
       "4                       -1.664658                           -1.978145   \n",
       "..                            ...                                 ...   \n",
       "69                      -0.569683                           -0.420882   \n",
       "70                       0.251548                            0.202023   \n",
       "71                       0.525292                            0.513476   \n",
       "72                      -0.022195                            0.513476   \n",
       "73                       0.525292                            0.824929   \n",
       "\n",
       "    Jeans -  End Purchasing Price  T-Shirts -  Starting Purchasing Price  \\\n",
       "0                        0.262225                               0.257397   \n",
       "1                        0.079162                               0.257397   \n",
       "2                        0.262225                               0.871827   \n",
       "3                        0.079162                               0.871827   \n",
       "4                       -1.751467                              -1.585895   \n",
       "..                            ...                                    ...   \n",
       "69                      -0.470026                              -0.357034   \n",
       "70                       0.445288                              -0.357034   \n",
       "71                       0.811414                              -0.357034   \n",
       "72                       0.445288                               0.257397   \n",
       "73                       0.445288                               1.486258   \n",
       "\n",
       "    T-Shirts -  End Purchasing Price  Shorts -  Starting Purchasing Price  \\\n",
       "0                           0.584985                             0.404573   \n",
       "1                          -0.202086                             0.404573   \n",
       "2                           0.584985                            -0.956264   \n",
       "3                           0.322628                            -0.956264   \n",
       "4                          -1.513870                            -0.956264   \n",
       "..                               ...                                  ...   \n",
       "69                         -0.726800                            -0.275845   \n",
       "70                          0.322628                            -0.956264   \n",
       "71                          0.584985                             1.084992   \n",
       "72                         -0.202086                             0.404573   \n",
       "73                          0.847342                            -0.956264   \n",
       "\n",
       "    Shorts -  End Purchasing Price  Track Pants -  Starting Purchasing Price  \\\n",
       "0                         0.887586                                  0.861164   \n",
       "1                         0.169757                                  0.281835   \n",
       "2                        -0.906987                                 -1.456150   \n",
       "3                        -0.906987                                  0.861164   \n",
       "4                        -0.906987                                 -1.456150   \n",
       "..                             ...                                       ...   \n",
       "69                       -0.189158                                 -0.297493   \n",
       "70                       -0.906987                                  0.281835   \n",
       "71                        0.528672                                  0.281835   \n",
       "72                        0.169757                                  0.281835   \n",
       "73                       -0.906987                                 -1.456150   \n",
       "\n",
       "    Track Pants -  End Purchasing Price  \\\n",
       "0                              2.113519   \n",
       "1                             -0.144971   \n",
       "2                             -1.274215   \n",
       "3                              0.701963   \n",
       "4                             -1.274215   \n",
       "..                                  ...   \n",
       "69                             0.701963   \n",
       "70                            -0.144971   \n",
       "71                             0.419652   \n",
       "72                             0.137341   \n",
       "73                            -1.274215   \n",
       "\n",
       "    Trousers -  Starting Purchasing Price  Trousers -  End Purchasing Price  \\\n",
       "0                                1.025751                          1.451512   \n",
       "1                                0.467622                          0.449224   \n",
       "2                                1.304815                          1.117416   \n",
       "3                                1.025751                          0.616272   \n",
       "4                               -0.927701                         -0.887160   \n",
       "..                                    ...                               ...   \n",
       "69                               0.188557                          0.115128   \n",
       "70                              -0.927701                         -0.887160   \n",
       "71                               1.304815                          1.117416   \n",
       "72                               1.304815                          1.117416   \n",
       "73                              -0.927701                         -0.887160   \n",
       "\n",
       "    Track Suits -  Starting Purchasing Price  \\\n",
       "0                                   2.265205   \n",
       "1                                   2.042002   \n",
       "2                                  -0.413226   \n",
       "3                                  -0.413226   \n",
       "4                                  -0.413226   \n",
       "..                                       ...   \n",
       "69                                 -0.413226   \n",
       "70                                 -0.413226   \n",
       "71                                 -0.413226   \n",
       "72                                 -0.413226   \n",
       "73                                 -0.413226   \n",
       "\n",
       "    Track Suits -  End Purchasing Price  Kurta -  Starting Purchasing Price  \\\n",
       "0                              2.154180                            1.434505   \n",
       "1                              1.401539                            1.434505   \n",
       "2                             -0.404799                            2.414382   \n",
       "3                             -0.404799                           -0.525249   \n",
       "4                             -0.404799                           -0.525249   \n",
       "..                                  ...                                 ...   \n",
       "69                            -0.404799                           -0.525249   \n",
       "70                            -0.404799                           -0.525249   \n",
       "71                            -0.404799                           -0.525249   \n",
       "72                            -0.404799                            1.107879   \n",
       "73                            -0.404799                           -0.525249   \n",
       "\n",
       "    Kurta -  End Purchasing Price  Cluster  \n",
       "0                        1.408342        3  \n",
       "1                        1.232892        0  \n",
       "2                        2.461043        0  \n",
       "3                       -0.521608        0  \n",
       "4                       -0.521608        1  \n",
       "..                            ...      ...  \n",
       "69                      -0.521608        2  \n",
       "70                      -0.521608        2  \n",
       "71                      -0.521608        0  \n",
       "72                       0.881992        0  \n",
       "73                      -0.521608        2  \n",
       "\n",
       "[74 rows x 18 columns]"
      ]
     },
     "execution_count": 87,
     "metadata": {},
     "output_type": "execute_result"
    }
   ],
   "source": [
    "df"
   ]
  },
  {
   "cell_type": "code",
   "execution_count": 88,
   "metadata": {},
   "outputs": [
    {
     "data": {
      "text/html": [
       "<div>\n",
       "<style scoped>\n",
       "    .dataframe tbody tr th:only-of-type {\n",
       "        vertical-align: middle;\n",
       "    }\n",
       "\n",
       "    .dataframe tbody tr th {\n",
       "        vertical-align: top;\n",
       "    }\n",
       "\n",
       "    .dataframe thead th {\n",
       "        text-align: right;\n",
       "    }\n",
       "</style>\n",
       "<table border=\"1\" class=\"dataframe\">\n",
       "  <thead>\n",
       "    <tr style=\"text-align: right;\">\n",
       "      <th></th>\n",
       "      <th>Buyer Number</th>\n",
       "      <th>Shirt -  Starting Purchasing Price</th>\n",
       "      <th>Shirt -  End Purchasing Price</th>\n",
       "      <th>Jeans -  Starting Purchasing Price</th>\n",
       "      <th>Jeans -  End Purchasing Price</th>\n",
       "      <th>T-Shirts -  Starting Purchasing Price</th>\n",
       "      <th>T-Shirts -  End Purchasing Price</th>\n",
       "      <th>Shorts -  Starting Purchasing Price</th>\n",
       "      <th>Shorts -  End Purchasing Price</th>\n",
       "      <th>Track Pants -  Starting Purchasing Price</th>\n",
       "      <th>Track Pants -  End Purchasing Price</th>\n",
       "      <th>Trousers -  Starting Purchasing Price</th>\n",
       "      <th>Trousers -  End Purchasing Price</th>\n",
       "      <th>Track Suits -  Starting Purchasing Price</th>\n",
       "      <th>Track Suits -  End Purchasing Price</th>\n",
       "      <th>Kurta -  Starting Purchasing Price</th>\n",
       "      <th>Kurta -  End Purchasing Price</th>\n",
       "      <th>Cluster</th>\n",
       "    </tr>\n",
       "  </thead>\n",
       "  <tbody>\n",
       "    <tr>\n",
       "      <th>1</th>\n",
       "      <td>7060752846</td>\n",
       "      <td>-0.308750</td>\n",
       "      <td>1.072780</td>\n",
       "      <td>0.202023</td>\n",
       "      <td>0.079162</td>\n",
       "      <td>0.257397</td>\n",
       "      <td>-0.202086</td>\n",
       "      <td>0.404573</td>\n",
       "      <td>0.169757</td>\n",
       "      <td>0.281835</td>\n",
       "      <td>-0.144971</td>\n",
       "      <td>0.467622</td>\n",
       "      <td>0.449224</td>\n",
       "      <td>2.042002</td>\n",
       "      <td>1.401539</td>\n",
       "      <td>1.434505</td>\n",
       "      <td>1.232892</td>\n",
       "      <td>0</td>\n",
       "    </tr>\n",
       "    <tr>\n",
       "      <th>2</th>\n",
       "      <td>7300766670</td>\n",
       "      <td>0.663484</td>\n",
       "      <td>0.799036</td>\n",
       "      <td>0.513476</td>\n",
       "      <td>0.262225</td>\n",
       "      <td>0.871827</td>\n",
       "      <td>0.584985</td>\n",
       "      <td>-0.956264</td>\n",
       "      <td>-0.906987</td>\n",
       "      <td>-1.456150</td>\n",
       "      <td>-1.274215</td>\n",
       "      <td>1.304815</td>\n",
       "      <td>1.117416</td>\n",
       "      <td>-0.413226</td>\n",
       "      <td>-0.404799</td>\n",
       "      <td>2.414382</td>\n",
       "      <td>2.461043</td>\n",
       "      <td>0</td>\n",
       "    </tr>\n",
       "    <tr>\n",
       "      <th>3</th>\n",
       "      <td>8755475838</td>\n",
       "      <td>-0.308750</td>\n",
       "      <td>0.251548</td>\n",
       "      <td>0.513476</td>\n",
       "      <td>0.079162</td>\n",
       "      <td>0.871827</td>\n",
       "      <td>0.322628</td>\n",
       "      <td>-0.956264</td>\n",
       "      <td>-0.906987</td>\n",
       "      <td>0.861164</td>\n",
       "      <td>0.701963</td>\n",
       "      <td>1.025751</td>\n",
       "      <td>0.616272</td>\n",
       "      <td>-0.413226</td>\n",
       "      <td>-0.404799</td>\n",
       "      <td>-0.525249</td>\n",
       "      <td>-0.521608</td>\n",
       "      <td>0</td>\n",
       "    </tr>\n",
       "    <tr>\n",
       "      <th>12</th>\n",
       "      <td>8630669609</td>\n",
       "      <td>0.177367</td>\n",
       "      <td>0.251548</td>\n",
       "      <td>0.513476</td>\n",
       "      <td>0.079162</td>\n",
       "      <td>0.257397</td>\n",
       "      <td>-0.202086</td>\n",
       "      <td>0.404573</td>\n",
       "      <td>0.528672</td>\n",
       "      <td>0.861164</td>\n",
       "      <td>0.137341</td>\n",
       "      <td>0.467622</td>\n",
       "      <td>0.616272</td>\n",
       "      <td>-0.413226</td>\n",
       "      <td>-0.404799</td>\n",
       "      <td>-0.525249</td>\n",
       "      <td>-0.521608</td>\n",
       "      <td>0</td>\n",
       "    </tr>\n",
       "    <tr>\n",
       "      <th>16</th>\n",
       "      <td>8273961326</td>\n",
       "      <td>1.635717</td>\n",
       "      <td>1.072780</td>\n",
       "      <td>0.824929</td>\n",
       "      <td>0.445288</td>\n",
       "      <td>1.486258</td>\n",
       "      <td>1.634413</td>\n",
       "      <td>1.765410</td>\n",
       "      <td>1.246501</td>\n",
       "      <td>0.861164</td>\n",
       "      <td>0.701963</td>\n",
       "      <td>1.304815</td>\n",
       "      <td>1.284464</td>\n",
       "      <td>-0.413226</td>\n",
       "      <td>-0.404799</td>\n",
       "      <td>-0.525249</td>\n",
       "      <td>-0.521608</td>\n",
       "      <td>0</td>\n",
       "    </tr>\n",
       "    <tr>\n",
       "      <th>17</th>\n",
       "      <td>8410838426</td>\n",
       "      <td>0.663484</td>\n",
       "      <td>0.251548</td>\n",
       "      <td>0.824929</td>\n",
       "      <td>0.262225</td>\n",
       "      <td>0.257397</td>\n",
       "      <td>0.584985</td>\n",
       "      <td>0.404573</td>\n",
       "      <td>0.169757</td>\n",
       "      <td>0.861164</td>\n",
       "      <td>0.419652</td>\n",
       "      <td>1.304815</td>\n",
       "      <td>0.950368</td>\n",
       "      <td>1.818800</td>\n",
       "      <td>1.702595</td>\n",
       "      <td>-0.525249</td>\n",
       "      <td>-0.521608</td>\n",
       "      <td>0</td>\n",
       "    </tr>\n",
       "    <tr>\n",
       "      <th>18</th>\n",
       "      <td>8266919237</td>\n",
       "      <td>0.177367</td>\n",
       "      <td>-0.295939</td>\n",
       "      <td>0.513476</td>\n",
       "      <td>-0.103901</td>\n",
       "      <td>0.871827</td>\n",
       "      <td>-0.202086</td>\n",
       "      <td>0.404573</td>\n",
       "      <td>0.528672</td>\n",
       "      <td>0.861164</td>\n",
       "      <td>0.419652</td>\n",
       "      <td>0.746686</td>\n",
       "      <td>0.449224</td>\n",
       "      <td>-0.413226</td>\n",
       "      <td>-0.404799</td>\n",
       "      <td>1.107879</td>\n",
       "      <td>0.706542</td>\n",
       "      <td>0</td>\n",
       "    </tr>\n",
       "    <tr>\n",
       "      <th>19</th>\n",
       "      <td>8630024072</td>\n",
       "      <td>0.663484</td>\n",
       "      <td>0.799036</td>\n",
       "      <td>0.824929</td>\n",
       "      <td>1.726729</td>\n",
       "      <td>0.871827</td>\n",
       "      <td>0.322628</td>\n",
       "      <td>0.404573</td>\n",
       "      <td>0.887586</td>\n",
       "      <td>0.281835</td>\n",
       "      <td>0.701963</td>\n",
       "      <td>0.467622</td>\n",
       "      <td>0.950368</td>\n",
       "      <td>-0.413226</td>\n",
       "      <td>-0.404799</td>\n",
       "      <td>-0.525249</td>\n",
       "      <td>-0.521608</td>\n",
       "      <td>0</td>\n",
       "    </tr>\n",
       "    <tr>\n",
       "      <th>21</th>\n",
       "      <td>9719637443</td>\n",
       "      <td>0.177367</td>\n",
       "      <td>0.251548</td>\n",
       "      <td>0.202023</td>\n",
       "      <td>0.079162</td>\n",
       "      <td>0.257397</td>\n",
       "      <td>0.060271</td>\n",
       "      <td>0.404573</td>\n",
       "      <td>0.169757</td>\n",
       "      <td>0.281835</td>\n",
       "      <td>0.419652</td>\n",
       "      <td>0.746686</td>\n",
       "      <td>0.616272</td>\n",
       "      <td>1.818800</td>\n",
       "      <td>1.552067</td>\n",
       "      <td>-0.525249</td>\n",
       "      <td>-0.521608</td>\n",
       "      <td>0</td>\n",
       "    </tr>\n",
       "    <tr>\n",
       "      <th>22</th>\n",
       "      <td>9634620859</td>\n",
       "      <td>-0.308750</td>\n",
       "      <td>-0.022195</td>\n",
       "      <td>-0.420882</td>\n",
       "      <td>-0.103901</td>\n",
       "      <td>0.257397</td>\n",
       "      <td>-0.202086</td>\n",
       "      <td>0.404573</td>\n",
       "      <td>0.169757</td>\n",
       "      <td>0.281835</td>\n",
       "      <td>-0.144971</td>\n",
       "      <td>0.746686</td>\n",
       "      <td>0.449224</td>\n",
       "      <td>-0.413226</td>\n",
       "      <td>-0.404799</td>\n",
       "      <td>-0.525249</td>\n",
       "      <td>-0.521608</td>\n",
       "      <td>0</td>\n",
       "    </tr>\n",
       "    <tr>\n",
       "      <th>26</th>\n",
       "      <td>8899969915</td>\n",
       "      <td>0.177367</td>\n",
       "      <td>0.799036</td>\n",
       "      <td>0.513476</td>\n",
       "      <td>0.079162</td>\n",
       "      <td>0.257397</td>\n",
       "      <td>0.584985</td>\n",
       "      <td>0.404573</td>\n",
       "      <td>0.169757</td>\n",
       "      <td>0.281835</td>\n",
       "      <td>0.137341</td>\n",
       "      <td>0.746686</td>\n",
       "      <td>0.616272</td>\n",
       "      <td>-0.413226</td>\n",
       "      <td>-0.404799</td>\n",
       "      <td>2.087756</td>\n",
       "      <td>1.232892</td>\n",
       "      <td>0</td>\n",
       "    </tr>\n",
       "    <tr>\n",
       "      <th>32</th>\n",
       "      <td>7906144759</td>\n",
       "      <td>0.663484</td>\n",
       "      <td>0.525292</td>\n",
       "      <td>0.824929</td>\n",
       "      <td>1.543666</td>\n",
       "      <td>0.871827</td>\n",
       "      <td>0.322628</td>\n",
       "      <td>2.445828</td>\n",
       "      <td>1.246501</td>\n",
       "      <td>0.281835</td>\n",
       "      <td>0.137341</td>\n",
       "      <td>-0.927701</td>\n",
       "      <td>-0.887160</td>\n",
       "      <td>-0.413226</td>\n",
       "      <td>-0.404799</td>\n",
       "      <td>-0.525249</td>\n",
       "      <td>-0.521608</td>\n",
       "      <td>0</td>\n",
       "    </tr>\n",
       "    <tr>\n",
       "      <th>33</th>\n",
       "      <td>8218708656</td>\n",
       "      <td>0.177367</td>\n",
       "      <td>0.251548</td>\n",
       "      <td>0.202023</td>\n",
       "      <td>0.079162</td>\n",
       "      <td>-0.357034</td>\n",
       "      <td>0.584985</td>\n",
       "      <td>0.404573</td>\n",
       "      <td>0.528672</td>\n",
       "      <td>0.281835</td>\n",
       "      <td>0.137341</td>\n",
       "      <td>0.467622</td>\n",
       "      <td>0.616272</td>\n",
       "      <td>-0.413226</td>\n",
       "      <td>-0.404799</td>\n",
       "      <td>1.107879</td>\n",
       "      <td>2.285593</td>\n",
       "      <td>0</td>\n",
       "    </tr>\n",
       "    <tr>\n",
       "      <th>34</th>\n",
       "      <td>9520829127</td>\n",
       "      <td>0.177367</td>\n",
       "      <td>0.251548</td>\n",
       "      <td>0.202023</td>\n",
       "      <td>0.079162</td>\n",
       "      <td>-0.357034</td>\n",
       "      <td>-0.202086</td>\n",
       "      <td>0.404573</td>\n",
       "      <td>0.169757</td>\n",
       "      <td>0.281835</td>\n",
       "      <td>-0.144971</td>\n",
       "      <td>0.467622</td>\n",
       "      <td>0.616272</td>\n",
       "      <td>-0.413226</td>\n",
       "      <td>-0.404799</td>\n",
       "      <td>-0.525249</td>\n",
       "      <td>-0.521608</td>\n",
       "      <td>0</td>\n",
       "    </tr>\n",
       "    <tr>\n",
       "      <th>36</th>\n",
       "      <td>7906333316</td>\n",
       "      <td>0.177367</td>\n",
       "      <td>-0.295939</td>\n",
       "      <td>-0.109429</td>\n",
       "      <td>-0.286963</td>\n",
       "      <td>-0.357034</td>\n",
       "      <td>-0.464443</td>\n",
       "      <td>0.404573</td>\n",
       "      <td>0.169757</td>\n",
       "      <td>0.281835</td>\n",
       "      <td>-0.144971</td>\n",
       "      <td>0.746686</td>\n",
       "      <td>0.449224</td>\n",
       "      <td>-0.413226</td>\n",
       "      <td>-0.404799</td>\n",
       "      <td>-0.525249</td>\n",
       "      <td>-0.521608</td>\n",
       "      <td>0</td>\n",
       "    </tr>\n",
       "    <tr>\n",
       "      <th>50</th>\n",
       "      <td>9837976638</td>\n",
       "      <td>0.177367</td>\n",
       "      <td>0.525292</td>\n",
       "      <td>0.202023</td>\n",
       "      <td>0.079162</td>\n",
       "      <td>0.257397</td>\n",
       "      <td>0.322628</td>\n",
       "      <td>0.404573</td>\n",
       "      <td>0.169757</td>\n",
       "      <td>0.861164</td>\n",
       "      <td>0.137341</td>\n",
       "      <td>0.467622</td>\n",
       "      <td>0.616272</td>\n",
       "      <td>-0.413226</td>\n",
       "      <td>-0.404799</td>\n",
       "      <td>-0.525249</td>\n",
       "      <td>-0.521608</td>\n",
       "      <td>0</td>\n",
       "    </tr>\n",
       "    <tr>\n",
       "      <th>52</th>\n",
       "      <td>8057727422</td>\n",
       "      <td>-0.308750</td>\n",
       "      <td>-0.022195</td>\n",
       "      <td>0.513476</td>\n",
       "      <td>-0.103901</td>\n",
       "      <td>-0.357034</td>\n",
       "      <td>-0.726800</td>\n",
       "      <td>-0.275845</td>\n",
       "      <td>-0.189158</td>\n",
       "      <td>-0.297493</td>\n",
       "      <td>-0.427282</td>\n",
       "      <td>1.025751</td>\n",
       "      <td>0.449224</td>\n",
       "      <td>-0.413226</td>\n",
       "      <td>-0.404799</td>\n",
       "      <td>-0.525249</td>\n",
       "      <td>-0.521608</td>\n",
       "      <td>0</td>\n",
       "    </tr>\n",
       "    <tr>\n",
       "      <th>53</th>\n",
       "      <td>7078374744</td>\n",
       "      <td>0.663484</td>\n",
       "      <td>-0.022195</td>\n",
       "      <td>0.513476</td>\n",
       "      <td>-0.103901</td>\n",
       "      <td>-0.357034</td>\n",
       "      <td>0.060271</td>\n",
       "      <td>0.404573</td>\n",
       "      <td>0.528672</td>\n",
       "      <td>0.861164</td>\n",
       "      <td>0.419652</td>\n",
       "      <td>0.746686</td>\n",
       "      <td>0.783320</td>\n",
       "      <td>-0.413226</td>\n",
       "      <td>-0.404799</td>\n",
       "      <td>-0.525249</td>\n",
       "      <td>-0.521608</td>\n",
       "      <td>0</td>\n",
       "    </tr>\n",
       "    <tr>\n",
       "      <th>54</th>\n",
       "      <td>9368908542</td>\n",
       "      <td>-0.308750</td>\n",
       "      <td>-0.569683</td>\n",
       "      <td>0.202023</td>\n",
       "      <td>-0.286963</td>\n",
       "      <td>0.257397</td>\n",
       "      <td>-0.464443</td>\n",
       "      <td>-0.275845</td>\n",
       "      <td>-0.189158</td>\n",
       "      <td>0.281835</td>\n",
       "      <td>-0.144971</td>\n",
       "      <td>0.746686</td>\n",
       "      <td>0.449224</td>\n",
       "      <td>-0.413226</td>\n",
       "      <td>-0.404799</td>\n",
       "      <td>-0.525249</td>\n",
       "      <td>-0.521608</td>\n",
       "      <td>0</td>\n",
       "    </tr>\n",
       "    <tr>\n",
       "      <th>55</th>\n",
       "      <td>6397826848</td>\n",
       "      <td>-0.308750</td>\n",
       "      <td>-0.295939</td>\n",
       "      <td>0.513476</td>\n",
       "      <td>0.079162</td>\n",
       "      <td>0.257397</td>\n",
       "      <td>0.060271</td>\n",
       "      <td>0.404573</td>\n",
       "      <td>0.528672</td>\n",
       "      <td>0.281835</td>\n",
       "      <td>0.419652</td>\n",
       "      <td>1.025751</td>\n",
       "      <td>0.950368</td>\n",
       "      <td>-0.413226</td>\n",
       "      <td>-0.404799</td>\n",
       "      <td>-0.525249</td>\n",
       "      <td>-0.521608</td>\n",
       "      <td>0</td>\n",
       "    </tr>\n",
       "    <tr>\n",
       "      <th>59</th>\n",
       "      <td>6397223944</td>\n",
       "      <td>0.177367</td>\n",
       "      <td>-0.295939</td>\n",
       "      <td>0.513476</td>\n",
       "      <td>-0.103901</td>\n",
       "      <td>-0.357034</td>\n",
       "      <td>-0.202086</td>\n",
       "      <td>0.404573</td>\n",
       "      <td>0.169757</td>\n",
       "      <td>0.281835</td>\n",
       "      <td>0.137341</td>\n",
       "      <td>0.467622</td>\n",
       "      <td>0.282176</td>\n",
       "      <td>-0.413226</td>\n",
       "      <td>-0.404799</td>\n",
       "      <td>-0.525249</td>\n",
       "      <td>-0.521608</td>\n",
       "      <td>0</td>\n",
       "    </tr>\n",
       "    <tr>\n",
       "      <th>61</th>\n",
       "      <td>7017374232</td>\n",
       "      <td>0.177367</td>\n",
       "      <td>-0.295939</td>\n",
       "      <td>-0.109429</td>\n",
       "      <td>-0.103901</td>\n",
       "      <td>-0.357034</td>\n",
       "      <td>0.322628</td>\n",
       "      <td>0.404573</td>\n",
       "      <td>0.169757</td>\n",
       "      <td>-0.297493</td>\n",
       "      <td>-0.144971</td>\n",
       "      <td>0.467622</td>\n",
       "      <td>0.449224</td>\n",
       "      <td>-0.413226</td>\n",
       "      <td>-0.404799</td>\n",
       "      <td>-0.525249</td>\n",
       "      <td>-0.521608</td>\n",
       "      <td>0</td>\n",
       "    </tr>\n",
       "    <tr>\n",
       "      <th>71</th>\n",
       "      <td>9837300642</td>\n",
       "      <td>1.149600</td>\n",
       "      <td>0.525292</td>\n",
       "      <td>0.513476</td>\n",
       "      <td>0.811414</td>\n",
       "      <td>-0.357034</td>\n",
       "      <td>0.584985</td>\n",
       "      <td>1.084992</td>\n",
       "      <td>0.528672</td>\n",
       "      <td>0.281835</td>\n",
       "      <td>0.419652</td>\n",
       "      <td>1.304815</td>\n",
       "      <td>1.117416</td>\n",
       "      <td>-0.413226</td>\n",
       "      <td>-0.404799</td>\n",
       "      <td>-0.525249</td>\n",
       "      <td>-0.521608</td>\n",
       "      <td>0</td>\n",
       "    </tr>\n",
       "    <tr>\n",
       "      <th>72</th>\n",
       "      <td>9870658614</td>\n",
       "      <td>0.177367</td>\n",
       "      <td>-0.022195</td>\n",
       "      <td>0.513476</td>\n",
       "      <td>0.445288</td>\n",
       "      <td>0.257397</td>\n",
       "      <td>-0.202086</td>\n",
       "      <td>0.404573</td>\n",
       "      <td>0.169757</td>\n",
       "      <td>0.281835</td>\n",
       "      <td>0.137341</td>\n",
       "      <td>1.304815</td>\n",
       "      <td>1.117416</td>\n",
       "      <td>-0.413226</td>\n",
       "      <td>-0.404799</td>\n",
       "      <td>1.107879</td>\n",
       "      <td>0.881992</td>\n",
       "      <td>0</td>\n",
       "    </tr>\n",
       "  </tbody>\n",
       "</table>\n",
       "</div>"
      ],
      "text/plain": [
       "    Buyer Number  Shirt -  Starting Purchasing Price  \\\n",
       "1     7060752846                           -0.308750   \n",
       "2     7300766670                            0.663484   \n",
       "3     8755475838                           -0.308750   \n",
       "12    8630669609                            0.177367   \n",
       "16    8273961326                            1.635717   \n",
       "17    8410838426                            0.663484   \n",
       "18    8266919237                            0.177367   \n",
       "19    8630024072                            0.663484   \n",
       "21    9719637443                            0.177367   \n",
       "22    9634620859                           -0.308750   \n",
       "26    8899969915                            0.177367   \n",
       "32    7906144759                            0.663484   \n",
       "33    8218708656                            0.177367   \n",
       "34    9520829127                            0.177367   \n",
       "36    7906333316                            0.177367   \n",
       "50    9837976638                            0.177367   \n",
       "52    8057727422                           -0.308750   \n",
       "53    7078374744                            0.663484   \n",
       "54    9368908542                           -0.308750   \n",
       "55    6397826848                           -0.308750   \n",
       "59    6397223944                            0.177367   \n",
       "61    7017374232                            0.177367   \n",
       "71    9837300642                            1.149600   \n",
       "72    9870658614                            0.177367   \n",
       "\n",
       "    Shirt -  End Purchasing Price  Jeans -  Starting Purchasing Price  \\\n",
       "1                        1.072780                            0.202023   \n",
       "2                        0.799036                            0.513476   \n",
       "3                        0.251548                            0.513476   \n",
       "12                       0.251548                            0.513476   \n",
       "16                       1.072780                            0.824929   \n",
       "17                       0.251548                            0.824929   \n",
       "18                      -0.295939                            0.513476   \n",
       "19                       0.799036                            0.824929   \n",
       "21                       0.251548                            0.202023   \n",
       "22                      -0.022195                           -0.420882   \n",
       "26                       0.799036                            0.513476   \n",
       "32                       0.525292                            0.824929   \n",
       "33                       0.251548                            0.202023   \n",
       "34                       0.251548                            0.202023   \n",
       "36                      -0.295939                           -0.109429   \n",
       "50                       0.525292                            0.202023   \n",
       "52                      -0.022195                            0.513476   \n",
       "53                      -0.022195                            0.513476   \n",
       "54                      -0.569683                            0.202023   \n",
       "55                      -0.295939                            0.513476   \n",
       "59                      -0.295939                            0.513476   \n",
       "61                      -0.295939                           -0.109429   \n",
       "71                       0.525292                            0.513476   \n",
       "72                      -0.022195                            0.513476   \n",
       "\n",
       "    Jeans -  End Purchasing Price  T-Shirts -  Starting Purchasing Price  \\\n",
       "1                        0.079162                               0.257397   \n",
       "2                        0.262225                               0.871827   \n",
       "3                        0.079162                               0.871827   \n",
       "12                       0.079162                               0.257397   \n",
       "16                       0.445288                               1.486258   \n",
       "17                       0.262225                               0.257397   \n",
       "18                      -0.103901                               0.871827   \n",
       "19                       1.726729                               0.871827   \n",
       "21                       0.079162                               0.257397   \n",
       "22                      -0.103901                               0.257397   \n",
       "26                       0.079162                               0.257397   \n",
       "32                       1.543666                               0.871827   \n",
       "33                       0.079162                              -0.357034   \n",
       "34                       0.079162                              -0.357034   \n",
       "36                      -0.286963                              -0.357034   \n",
       "50                       0.079162                               0.257397   \n",
       "52                      -0.103901                              -0.357034   \n",
       "53                      -0.103901                              -0.357034   \n",
       "54                      -0.286963                               0.257397   \n",
       "55                       0.079162                               0.257397   \n",
       "59                      -0.103901                              -0.357034   \n",
       "61                      -0.103901                              -0.357034   \n",
       "71                       0.811414                              -0.357034   \n",
       "72                       0.445288                               0.257397   \n",
       "\n",
       "    T-Shirts -  End Purchasing Price  Shorts -  Starting Purchasing Price  \\\n",
       "1                          -0.202086                             0.404573   \n",
       "2                           0.584985                            -0.956264   \n",
       "3                           0.322628                            -0.956264   \n",
       "12                         -0.202086                             0.404573   \n",
       "16                          1.634413                             1.765410   \n",
       "17                          0.584985                             0.404573   \n",
       "18                         -0.202086                             0.404573   \n",
       "19                          0.322628                             0.404573   \n",
       "21                          0.060271                             0.404573   \n",
       "22                         -0.202086                             0.404573   \n",
       "26                          0.584985                             0.404573   \n",
       "32                          0.322628                             2.445828   \n",
       "33                          0.584985                             0.404573   \n",
       "34                         -0.202086                             0.404573   \n",
       "36                         -0.464443                             0.404573   \n",
       "50                          0.322628                             0.404573   \n",
       "52                         -0.726800                            -0.275845   \n",
       "53                          0.060271                             0.404573   \n",
       "54                         -0.464443                            -0.275845   \n",
       "55                          0.060271                             0.404573   \n",
       "59                         -0.202086                             0.404573   \n",
       "61                          0.322628                             0.404573   \n",
       "71                          0.584985                             1.084992   \n",
       "72                         -0.202086                             0.404573   \n",
       "\n",
       "    Shorts -  End Purchasing Price  Track Pants -  Starting Purchasing Price  \\\n",
       "1                         0.169757                                  0.281835   \n",
       "2                        -0.906987                                 -1.456150   \n",
       "3                        -0.906987                                  0.861164   \n",
       "12                        0.528672                                  0.861164   \n",
       "16                        1.246501                                  0.861164   \n",
       "17                        0.169757                                  0.861164   \n",
       "18                        0.528672                                  0.861164   \n",
       "19                        0.887586                                  0.281835   \n",
       "21                        0.169757                                  0.281835   \n",
       "22                        0.169757                                  0.281835   \n",
       "26                        0.169757                                  0.281835   \n",
       "32                        1.246501                                  0.281835   \n",
       "33                        0.528672                                  0.281835   \n",
       "34                        0.169757                                  0.281835   \n",
       "36                        0.169757                                  0.281835   \n",
       "50                        0.169757                                  0.861164   \n",
       "52                       -0.189158                                 -0.297493   \n",
       "53                        0.528672                                  0.861164   \n",
       "54                       -0.189158                                  0.281835   \n",
       "55                        0.528672                                  0.281835   \n",
       "59                        0.169757                                  0.281835   \n",
       "61                        0.169757                                 -0.297493   \n",
       "71                        0.528672                                  0.281835   \n",
       "72                        0.169757                                  0.281835   \n",
       "\n",
       "    Track Pants -  End Purchasing Price  \\\n",
       "1                             -0.144971   \n",
       "2                             -1.274215   \n",
       "3                              0.701963   \n",
       "12                             0.137341   \n",
       "16                             0.701963   \n",
       "17                             0.419652   \n",
       "18                             0.419652   \n",
       "19                             0.701963   \n",
       "21                             0.419652   \n",
       "22                            -0.144971   \n",
       "26                             0.137341   \n",
       "32                             0.137341   \n",
       "33                             0.137341   \n",
       "34                            -0.144971   \n",
       "36                            -0.144971   \n",
       "50                             0.137341   \n",
       "52                            -0.427282   \n",
       "53                             0.419652   \n",
       "54                            -0.144971   \n",
       "55                             0.419652   \n",
       "59                             0.137341   \n",
       "61                            -0.144971   \n",
       "71                             0.419652   \n",
       "72                             0.137341   \n",
       "\n",
       "    Trousers -  Starting Purchasing Price  Trousers -  End Purchasing Price  \\\n",
       "1                                0.467622                          0.449224   \n",
       "2                                1.304815                          1.117416   \n",
       "3                                1.025751                          0.616272   \n",
       "12                               0.467622                          0.616272   \n",
       "16                               1.304815                          1.284464   \n",
       "17                               1.304815                          0.950368   \n",
       "18                               0.746686                          0.449224   \n",
       "19                               0.467622                          0.950368   \n",
       "21                               0.746686                          0.616272   \n",
       "22                               0.746686                          0.449224   \n",
       "26                               0.746686                          0.616272   \n",
       "32                              -0.927701                         -0.887160   \n",
       "33                               0.467622                          0.616272   \n",
       "34                               0.467622                          0.616272   \n",
       "36                               0.746686                          0.449224   \n",
       "50                               0.467622                          0.616272   \n",
       "52                               1.025751                          0.449224   \n",
       "53                               0.746686                          0.783320   \n",
       "54                               0.746686                          0.449224   \n",
       "55                               1.025751                          0.950368   \n",
       "59                               0.467622                          0.282176   \n",
       "61                               0.467622                          0.449224   \n",
       "71                               1.304815                          1.117416   \n",
       "72                               1.304815                          1.117416   \n",
       "\n",
       "    Track Suits -  Starting Purchasing Price  \\\n",
       "1                                   2.042002   \n",
       "2                                  -0.413226   \n",
       "3                                  -0.413226   \n",
       "12                                 -0.413226   \n",
       "16                                 -0.413226   \n",
       "17                                  1.818800   \n",
       "18                                 -0.413226   \n",
       "19                                 -0.413226   \n",
       "21                                  1.818800   \n",
       "22                                 -0.413226   \n",
       "26                                 -0.413226   \n",
       "32                                 -0.413226   \n",
       "33                                 -0.413226   \n",
       "34                                 -0.413226   \n",
       "36                                 -0.413226   \n",
       "50                                 -0.413226   \n",
       "52                                 -0.413226   \n",
       "53                                 -0.413226   \n",
       "54                                 -0.413226   \n",
       "55                                 -0.413226   \n",
       "59                                 -0.413226   \n",
       "61                                 -0.413226   \n",
       "71                                 -0.413226   \n",
       "72                                 -0.413226   \n",
       "\n",
       "    Track Suits -  End Purchasing Price  Kurta -  Starting Purchasing Price  \\\n",
       "1                              1.401539                            1.434505   \n",
       "2                             -0.404799                            2.414382   \n",
       "3                             -0.404799                           -0.525249   \n",
       "12                            -0.404799                           -0.525249   \n",
       "16                            -0.404799                           -0.525249   \n",
       "17                             1.702595                           -0.525249   \n",
       "18                            -0.404799                            1.107879   \n",
       "19                            -0.404799                           -0.525249   \n",
       "21                             1.552067                           -0.525249   \n",
       "22                            -0.404799                           -0.525249   \n",
       "26                            -0.404799                            2.087756   \n",
       "32                            -0.404799                           -0.525249   \n",
       "33                            -0.404799                            1.107879   \n",
       "34                            -0.404799                           -0.525249   \n",
       "36                            -0.404799                           -0.525249   \n",
       "50                            -0.404799                           -0.525249   \n",
       "52                            -0.404799                           -0.525249   \n",
       "53                            -0.404799                           -0.525249   \n",
       "54                            -0.404799                           -0.525249   \n",
       "55                            -0.404799                           -0.525249   \n",
       "59                            -0.404799                           -0.525249   \n",
       "61                            -0.404799                           -0.525249   \n",
       "71                            -0.404799                           -0.525249   \n",
       "72                            -0.404799                            1.107879   \n",
       "\n",
       "    Kurta -  End Purchasing Price  Cluster  \n",
       "1                        1.232892        0  \n",
       "2                        2.461043        0  \n",
       "3                       -0.521608        0  \n",
       "12                      -0.521608        0  \n",
       "16                      -0.521608        0  \n",
       "17                      -0.521608        0  \n",
       "18                       0.706542        0  \n",
       "19                      -0.521608        0  \n",
       "21                      -0.521608        0  \n",
       "22                      -0.521608        0  \n",
       "26                       1.232892        0  \n",
       "32                      -0.521608        0  \n",
       "33                       2.285593        0  \n",
       "34                      -0.521608        0  \n",
       "36                      -0.521608        0  \n",
       "50                      -0.521608        0  \n",
       "52                      -0.521608        0  \n",
       "53                      -0.521608        0  \n",
       "54                      -0.521608        0  \n",
       "55                      -0.521608        0  \n",
       "59                      -0.521608        0  \n",
       "61                      -0.521608        0  \n",
       "71                      -0.521608        0  \n",
       "72                       0.881992        0  "
      ]
     },
     "execution_count": 88,
     "metadata": {},
     "output_type": "execute_result"
    }
   ],
   "source": [
    "df[df['Cluster']==0]"
   ]
  },
  {
   "cell_type": "code",
   "execution_count": 105,
   "metadata": {},
   "outputs": [],
   "source": [
    "df_new=df[['Buyer Number','Cluster']]\n",
    "df_final=pd.merge(df1,df_new,on='Buyer Number')\n",
    "df_final.to_excel('Data_Buyer_Segment.xlsx',index=False)"
   ]
  },
  {
   "cell_type": "code",
   "execution_count": 92,
   "metadata": {},
   "outputs": [
    {
     "data": {
      "application/vnd.plotly.v1+json": {
       "config": {
        "plotlyServerURL": "https://plot.ly"
       },
       "data": [
        {
         "hovertemplate": "Cluster=%{x}<br>Buyer Number=%{y}<extra></extra>",
         "legendgroup": "",
         "line": {
          "color": "#636efa",
          "dash": "solid"
         },
         "marker": {
          "symbol": "circle"
         },
         "mode": "lines+markers",
         "name": "",
         "orientation": "v",
         "showlegend": false,
         "type": "scatter",
         "x": [
          0,
          1,
          2,
          3
         ],
         "xaxis": "x",
         "y": [
          24,
          12,
          29,
          9
         ],
         "yaxis": "y"
        }
       ],
       "layout": {
        "legend": {
         "tracegroupgap": 0
        },
        "template": {
         "data": {
          "bar": [
           {
            "error_x": {
             "color": "#2a3f5f"
            },
            "error_y": {
             "color": "#2a3f5f"
            },
            "marker": {
             "line": {
              "color": "#E5ECF6",
              "width": 0.5
             },
             "pattern": {
              "fillmode": "overlay",
              "size": 10,
              "solidity": 0.2
             }
            },
            "type": "bar"
           }
          ],
          "barpolar": [
           {
            "marker": {
             "line": {
              "color": "#E5ECF6",
              "width": 0.5
             },
             "pattern": {
              "fillmode": "overlay",
              "size": 10,
              "solidity": 0.2
             }
            },
            "type": "barpolar"
           }
          ],
          "carpet": [
           {
            "aaxis": {
             "endlinecolor": "#2a3f5f",
             "gridcolor": "white",
             "linecolor": "white",
             "minorgridcolor": "white",
             "startlinecolor": "#2a3f5f"
            },
            "baxis": {
             "endlinecolor": "#2a3f5f",
             "gridcolor": "white",
             "linecolor": "white",
             "minorgridcolor": "white",
             "startlinecolor": "#2a3f5f"
            },
            "type": "carpet"
           }
          ],
          "choropleth": [
           {
            "colorbar": {
             "outlinewidth": 0,
             "ticks": ""
            },
            "type": "choropleth"
           }
          ],
          "contour": [
           {
            "colorbar": {
             "outlinewidth": 0,
             "ticks": ""
            },
            "colorscale": [
             [
              0,
              "#0d0887"
             ],
             [
              0.1111111111111111,
              "#46039f"
             ],
             [
              0.2222222222222222,
              "#7201a8"
             ],
             [
              0.3333333333333333,
              "#9c179e"
             ],
             [
              0.4444444444444444,
              "#bd3786"
             ],
             [
              0.5555555555555556,
              "#d8576b"
             ],
             [
              0.6666666666666666,
              "#ed7953"
             ],
             [
              0.7777777777777778,
              "#fb9f3a"
             ],
             [
              0.8888888888888888,
              "#fdca26"
             ],
             [
              1,
              "#f0f921"
             ]
            ],
            "type": "contour"
           }
          ],
          "contourcarpet": [
           {
            "colorbar": {
             "outlinewidth": 0,
             "ticks": ""
            },
            "type": "contourcarpet"
           }
          ],
          "heatmap": [
           {
            "colorbar": {
             "outlinewidth": 0,
             "ticks": ""
            },
            "colorscale": [
             [
              0,
              "#0d0887"
             ],
             [
              0.1111111111111111,
              "#46039f"
             ],
             [
              0.2222222222222222,
              "#7201a8"
             ],
             [
              0.3333333333333333,
              "#9c179e"
             ],
             [
              0.4444444444444444,
              "#bd3786"
             ],
             [
              0.5555555555555556,
              "#d8576b"
             ],
             [
              0.6666666666666666,
              "#ed7953"
             ],
             [
              0.7777777777777778,
              "#fb9f3a"
             ],
             [
              0.8888888888888888,
              "#fdca26"
             ],
             [
              1,
              "#f0f921"
             ]
            ],
            "type": "heatmap"
           }
          ],
          "heatmapgl": [
           {
            "colorbar": {
             "outlinewidth": 0,
             "ticks": ""
            },
            "colorscale": [
             [
              0,
              "#0d0887"
             ],
             [
              0.1111111111111111,
              "#46039f"
             ],
             [
              0.2222222222222222,
              "#7201a8"
             ],
             [
              0.3333333333333333,
              "#9c179e"
             ],
             [
              0.4444444444444444,
              "#bd3786"
             ],
             [
              0.5555555555555556,
              "#d8576b"
             ],
             [
              0.6666666666666666,
              "#ed7953"
             ],
             [
              0.7777777777777778,
              "#fb9f3a"
             ],
             [
              0.8888888888888888,
              "#fdca26"
             ],
             [
              1,
              "#f0f921"
             ]
            ],
            "type": "heatmapgl"
           }
          ],
          "histogram": [
           {
            "marker": {
             "pattern": {
              "fillmode": "overlay",
              "size": 10,
              "solidity": 0.2
             }
            },
            "type": "histogram"
           }
          ],
          "histogram2d": [
           {
            "colorbar": {
             "outlinewidth": 0,
             "ticks": ""
            },
            "colorscale": [
             [
              0,
              "#0d0887"
             ],
             [
              0.1111111111111111,
              "#46039f"
             ],
             [
              0.2222222222222222,
              "#7201a8"
             ],
             [
              0.3333333333333333,
              "#9c179e"
             ],
             [
              0.4444444444444444,
              "#bd3786"
             ],
             [
              0.5555555555555556,
              "#d8576b"
             ],
             [
              0.6666666666666666,
              "#ed7953"
             ],
             [
              0.7777777777777778,
              "#fb9f3a"
             ],
             [
              0.8888888888888888,
              "#fdca26"
             ],
             [
              1,
              "#f0f921"
             ]
            ],
            "type": "histogram2d"
           }
          ],
          "histogram2dcontour": [
           {
            "colorbar": {
             "outlinewidth": 0,
             "ticks": ""
            },
            "colorscale": [
             [
              0,
              "#0d0887"
             ],
             [
              0.1111111111111111,
              "#46039f"
             ],
             [
              0.2222222222222222,
              "#7201a8"
             ],
             [
              0.3333333333333333,
              "#9c179e"
             ],
             [
              0.4444444444444444,
              "#bd3786"
             ],
             [
              0.5555555555555556,
              "#d8576b"
             ],
             [
              0.6666666666666666,
              "#ed7953"
             ],
             [
              0.7777777777777778,
              "#fb9f3a"
             ],
             [
              0.8888888888888888,
              "#fdca26"
             ],
             [
              1,
              "#f0f921"
             ]
            ],
            "type": "histogram2dcontour"
           }
          ],
          "mesh3d": [
           {
            "colorbar": {
             "outlinewidth": 0,
             "ticks": ""
            },
            "type": "mesh3d"
           }
          ],
          "parcoords": [
           {
            "line": {
             "colorbar": {
              "outlinewidth": 0,
              "ticks": ""
             }
            },
            "type": "parcoords"
           }
          ],
          "pie": [
           {
            "automargin": true,
            "type": "pie"
           }
          ],
          "scatter": [
           {
            "fillpattern": {
             "fillmode": "overlay",
             "size": 10,
             "solidity": 0.2
            },
            "type": "scatter"
           }
          ],
          "scatter3d": [
           {
            "line": {
             "colorbar": {
              "outlinewidth": 0,
              "ticks": ""
             }
            },
            "marker": {
             "colorbar": {
              "outlinewidth": 0,
              "ticks": ""
             }
            },
            "type": "scatter3d"
           }
          ],
          "scattercarpet": [
           {
            "marker": {
             "colorbar": {
              "outlinewidth": 0,
              "ticks": ""
             }
            },
            "type": "scattercarpet"
           }
          ],
          "scattergeo": [
           {
            "marker": {
             "colorbar": {
              "outlinewidth": 0,
              "ticks": ""
             }
            },
            "type": "scattergeo"
           }
          ],
          "scattergl": [
           {
            "marker": {
             "colorbar": {
              "outlinewidth": 0,
              "ticks": ""
             }
            },
            "type": "scattergl"
           }
          ],
          "scattermapbox": [
           {
            "marker": {
             "colorbar": {
              "outlinewidth": 0,
              "ticks": ""
             }
            },
            "type": "scattermapbox"
           }
          ],
          "scatterpolar": [
           {
            "marker": {
             "colorbar": {
              "outlinewidth": 0,
              "ticks": ""
             }
            },
            "type": "scatterpolar"
           }
          ],
          "scatterpolargl": [
           {
            "marker": {
             "colorbar": {
              "outlinewidth": 0,
              "ticks": ""
             }
            },
            "type": "scatterpolargl"
           }
          ],
          "scatterternary": [
           {
            "marker": {
             "colorbar": {
              "outlinewidth": 0,
              "ticks": ""
             }
            },
            "type": "scatterternary"
           }
          ],
          "surface": [
           {
            "colorbar": {
             "outlinewidth": 0,
             "ticks": ""
            },
            "colorscale": [
             [
              0,
              "#0d0887"
             ],
             [
              0.1111111111111111,
              "#46039f"
             ],
             [
              0.2222222222222222,
              "#7201a8"
             ],
             [
              0.3333333333333333,
              "#9c179e"
             ],
             [
              0.4444444444444444,
              "#bd3786"
             ],
             [
              0.5555555555555556,
              "#d8576b"
             ],
             [
              0.6666666666666666,
              "#ed7953"
             ],
             [
              0.7777777777777778,
              "#fb9f3a"
             ],
             [
              0.8888888888888888,
              "#fdca26"
             ],
             [
              1,
              "#f0f921"
             ]
            ],
            "type": "surface"
           }
          ],
          "table": [
           {
            "cells": {
             "fill": {
              "color": "#EBF0F8"
             },
             "line": {
              "color": "white"
             }
            },
            "header": {
             "fill": {
              "color": "#C8D4E3"
             },
             "line": {
              "color": "white"
             }
            },
            "type": "table"
           }
          ]
         },
         "layout": {
          "annotationdefaults": {
           "arrowcolor": "#2a3f5f",
           "arrowhead": 0,
           "arrowwidth": 1
          },
          "autotypenumbers": "strict",
          "coloraxis": {
           "colorbar": {
            "outlinewidth": 0,
            "ticks": ""
           }
          },
          "colorscale": {
           "diverging": [
            [
             0,
             "#8e0152"
            ],
            [
             0.1,
             "#c51b7d"
            ],
            [
             0.2,
             "#de77ae"
            ],
            [
             0.3,
             "#f1b6da"
            ],
            [
             0.4,
             "#fde0ef"
            ],
            [
             0.5,
             "#f7f7f7"
            ],
            [
             0.6,
             "#e6f5d0"
            ],
            [
             0.7,
             "#b8e186"
            ],
            [
             0.8,
             "#7fbc41"
            ],
            [
             0.9,
             "#4d9221"
            ],
            [
             1,
             "#276419"
            ]
           ],
           "sequential": [
            [
             0,
             "#0d0887"
            ],
            [
             0.1111111111111111,
             "#46039f"
            ],
            [
             0.2222222222222222,
             "#7201a8"
            ],
            [
             0.3333333333333333,
             "#9c179e"
            ],
            [
             0.4444444444444444,
             "#bd3786"
            ],
            [
             0.5555555555555556,
             "#d8576b"
            ],
            [
             0.6666666666666666,
             "#ed7953"
            ],
            [
             0.7777777777777778,
             "#fb9f3a"
            ],
            [
             0.8888888888888888,
             "#fdca26"
            ],
            [
             1,
             "#f0f921"
            ]
           ],
           "sequentialminus": [
            [
             0,
             "#0d0887"
            ],
            [
             0.1111111111111111,
             "#46039f"
            ],
            [
             0.2222222222222222,
             "#7201a8"
            ],
            [
             0.3333333333333333,
             "#9c179e"
            ],
            [
             0.4444444444444444,
             "#bd3786"
            ],
            [
             0.5555555555555556,
             "#d8576b"
            ],
            [
             0.6666666666666666,
             "#ed7953"
            ],
            [
             0.7777777777777778,
             "#fb9f3a"
            ],
            [
             0.8888888888888888,
             "#fdca26"
            ],
            [
             1,
             "#f0f921"
            ]
           ]
          },
          "colorway": [
           "#636efa",
           "#EF553B",
           "#00cc96",
           "#ab63fa",
           "#FFA15A",
           "#19d3f3",
           "#FF6692",
           "#B6E880",
           "#FF97FF",
           "#FECB52"
          ],
          "font": {
           "color": "#2a3f5f"
          },
          "geo": {
           "bgcolor": "white",
           "lakecolor": "white",
           "landcolor": "#E5ECF6",
           "showlakes": true,
           "showland": true,
           "subunitcolor": "white"
          },
          "hoverlabel": {
           "align": "left"
          },
          "hovermode": "closest",
          "mapbox": {
           "style": "light"
          },
          "paper_bgcolor": "white",
          "plot_bgcolor": "#E5ECF6",
          "polar": {
           "angularaxis": {
            "gridcolor": "white",
            "linecolor": "white",
            "ticks": ""
           },
           "bgcolor": "#E5ECF6",
           "radialaxis": {
            "gridcolor": "white",
            "linecolor": "white",
            "ticks": ""
           }
          },
          "scene": {
           "xaxis": {
            "backgroundcolor": "#E5ECF6",
            "gridcolor": "white",
            "gridwidth": 2,
            "linecolor": "white",
            "showbackground": true,
            "ticks": "",
            "zerolinecolor": "white"
           },
           "yaxis": {
            "backgroundcolor": "#E5ECF6",
            "gridcolor": "white",
            "gridwidth": 2,
            "linecolor": "white",
            "showbackground": true,
            "ticks": "",
            "zerolinecolor": "white"
           },
           "zaxis": {
            "backgroundcolor": "#E5ECF6",
            "gridcolor": "white",
            "gridwidth": 2,
            "linecolor": "white",
            "showbackground": true,
            "ticks": "",
            "zerolinecolor": "white"
           }
          },
          "shapedefaults": {
           "line": {
            "color": "#2a3f5f"
           }
          },
          "ternary": {
           "aaxis": {
            "gridcolor": "white",
            "linecolor": "white",
            "ticks": ""
           },
           "baxis": {
            "gridcolor": "white",
            "linecolor": "white",
            "ticks": ""
           },
           "bgcolor": "#E5ECF6",
           "caxis": {
            "gridcolor": "white",
            "linecolor": "white",
            "ticks": ""
           }
          },
          "title": {
           "x": 0.05
          },
          "xaxis": {
           "automargin": true,
           "gridcolor": "white",
           "linecolor": "white",
           "ticks": "",
           "title": {
            "standoff": 15
           },
           "zerolinecolor": "white",
           "zerolinewidth": 2
          },
          "yaxis": {
           "automargin": true,
           "gridcolor": "white",
           "linecolor": "white",
           "ticks": "",
           "title": {
            "standoff": 15
           },
           "zerolinecolor": "white",
           "zerolinewidth": 2
          }
         }
        },
        "title": {
         "text": "Cluster"
        },
        "xaxis": {
         "anchor": "y",
         "domain": [
          0,
          1
         ],
         "title": {
          "text": "Cluster"
         }
        },
        "yaxis": {
         "anchor": "x",
         "domain": [
          0,
          1
         ],
         "title": {
          "text": "Buyer Number"
         }
        }
       }
      }
     },
     "metadata": {},
     "output_type": "display_data"
    }
   ],
   "source": [
    "import plotly.express as px\n",
    "df_new=df.groupby('Cluster')['Buyer Number'].count().reset_index()\n",
    "fig = px.line(df_new, x='Cluster', y='Buyer Number', markers=True, title='Cluster')\n",
    "\n",
    "# Show the figure\n",
    "fig.show()"
   ]
  },
  {
   "cell_type": "code",
   "execution_count": 102,
   "metadata": {},
   "outputs": [
    {
     "data": {
      "application/vnd.plotly.v1+json": {
       "config": {
        "plotlyServerURL": "https://plot.ly"
       },
       "data": [
        {
         "hovertemplate": "Buyer Number=%{x}<br>Cluster=%{marker.color}<extra></extra>",
         "legendgroup": "",
         "marker": {
          "color": [
           3,
           0,
           0,
           0,
           1,
           1,
           1,
           1,
           1,
           1,
           3,
           1,
           0,
           1,
           1,
           3,
           0,
           0,
           0,
           0,
           2,
           0,
           0,
           2,
           2,
           2,
           0,
           2,
           3,
           2,
           2,
           2,
           0,
           0,
           0,
           2,
           0,
           2,
           3,
           2,
           2,
           3,
           2,
           2,
           2,
           2,
           3,
           2,
           2,
           3,
           0,
           2,
           0,
           0,
           0,
           0,
           2,
           2,
           3,
           0,
           2,
           0,
           2,
           1,
           2,
           2,
           1,
           1,
           2,
           2,
           2,
           0,
           0,
           2
          ],
          "coloraxis": "coloraxis",
          "symbol": "circle"
         },
         "mode": "markers",
         "name": "",
         "orientation": "v",
         "showlegend": false,
         "type": "scatter",
         "x": [
          8800096381,
          7060752846,
          7300766670,
          8755475838,
          9027478173,
          8126488013,
          9582415802,
          8077064915,
          8791187611,
          6396268454,
          9837035408,
          7060114590,
          8630669609,
          9927021135,
          9557457676,
          9412588547,
          8273961326,
          8410838426,
          8266919237,
          8630024072,
          8630276594,
          9719637443,
          9634620859,
          783019065,
          9368350588,
          8909629623,
          8899969915,
          6398930169,
          6395903414,
          8273705596,
          9557722991,
          9258816712,
          7906144759,
          8218708656,
          9520829127,
          9457815362,
          7906333316,
          7983124525,
          9897121462,
          8273763663,
          7248199796,
          7906505375,
          9808175435,
          8307779773,
          8395098422,
          9897280640,
          9897361592,
          8218790294,
          9927401576,
          8218685957,
          9837976638,
          9259546402,
          8057727422,
          7078374744,
          9368908542,
          6397826848,
          6396923813,
          9758325874,
          9258135128,
          6397223944,
          9027707094,
          7017374232,
          9760073367,
          9719716508,
          8171135810,
          8864979531,
          9927654841,
          9760737589,
          8077495286,
          7906873695,
          7060461307,
          9837300642,
          9870658614,
          8899519055
         ],
         "xaxis": "x",
         "y": [
          3,
          0,
          0,
          0,
          1,
          1,
          1,
          1,
          1,
          1,
          3,
          1,
          0,
          1,
          1,
          3,
          0,
          0,
          0,
          0,
          2,
          0,
          0,
          2,
          2,
          2,
          0,
          2,
          3,
          2,
          2,
          2,
          0,
          0,
          0,
          2,
          0,
          2,
          3,
          2,
          2,
          3,
          2,
          2,
          2,
          2,
          3,
          2,
          2,
          3,
          0,
          2,
          0,
          0,
          0,
          0,
          2,
          2,
          3,
          0,
          2,
          0,
          2,
          1,
          2,
          2,
          1,
          1,
          2,
          2,
          2,
          0,
          0,
          2
         ],
         "yaxis": "y"
        }
       ],
       "layout": {
        "coloraxis": {
         "colorbar": {
          "title": {
           "text": "Cluster"
          }
         },
         "colorscale": [
          [
           0,
           "#0d0887"
          ],
          [
           0.1111111111111111,
           "#46039f"
          ],
          [
           0.2222222222222222,
           "#7201a8"
          ],
          [
           0.3333333333333333,
           "#9c179e"
          ],
          [
           0.4444444444444444,
           "#bd3786"
          ],
          [
           0.5555555555555556,
           "#d8576b"
          ],
          [
           0.6666666666666666,
           "#ed7953"
          ],
          [
           0.7777777777777778,
           "#fb9f3a"
          ],
          [
           0.8888888888888888,
           "#fdca26"
          ],
          [
           1,
           "#f0f921"
          ]
         ]
        },
        "legend": {
         "tracegroupgap": 0
        },
        "template": {
         "data": {
          "bar": [
           {
            "error_x": {
             "color": "#2a3f5f"
            },
            "error_y": {
             "color": "#2a3f5f"
            },
            "marker": {
             "line": {
              "color": "#E5ECF6",
              "width": 0.5
             },
             "pattern": {
              "fillmode": "overlay",
              "size": 10,
              "solidity": 0.2
             }
            },
            "type": "bar"
           }
          ],
          "barpolar": [
           {
            "marker": {
             "line": {
              "color": "#E5ECF6",
              "width": 0.5
             },
             "pattern": {
              "fillmode": "overlay",
              "size": 10,
              "solidity": 0.2
             }
            },
            "type": "barpolar"
           }
          ],
          "carpet": [
           {
            "aaxis": {
             "endlinecolor": "#2a3f5f",
             "gridcolor": "white",
             "linecolor": "white",
             "minorgridcolor": "white",
             "startlinecolor": "#2a3f5f"
            },
            "baxis": {
             "endlinecolor": "#2a3f5f",
             "gridcolor": "white",
             "linecolor": "white",
             "minorgridcolor": "white",
             "startlinecolor": "#2a3f5f"
            },
            "type": "carpet"
           }
          ],
          "choropleth": [
           {
            "colorbar": {
             "outlinewidth": 0,
             "ticks": ""
            },
            "type": "choropleth"
           }
          ],
          "contour": [
           {
            "colorbar": {
             "outlinewidth": 0,
             "ticks": ""
            },
            "colorscale": [
             [
              0,
              "#0d0887"
             ],
             [
              0.1111111111111111,
              "#46039f"
             ],
             [
              0.2222222222222222,
              "#7201a8"
             ],
             [
              0.3333333333333333,
              "#9c179e"
             ],
             [
              0.4444444444444444,
              "#bd3786"
             ],
             [
              0.5555555555555556,
              "#d8576b"
             ],
             [
              0.6666666666666666,
              "#ed7953"
             ],
             [
              0.7777777777777778,
              "#fb9f3a"
             ],
             [
              0.8888888888888888,
              "#fdca26"
             ],
             [
              1,
              "#f0f921"
             ]
            ],
            "type": "contour"
           }
          ],
          "contourcarpet": [
           {
            "colorbar": {
             "outlinewidth": 0,
             "ticks": ""
            },
            "type": "contourcarpet"
           }
          ],
          "heatmap": [
           {
            "colorbar": {
             "outlinewidth": 0,
             "ticks": ""
            },
            "colorscale": [
             [
              0,
              "#0d0887"
             ],
             [
              0.1111111111111111,
              "#46039f"
             ],
             [
              0.2222222222222222,
              "#7201a8"
             ],
             [
              0.3333333333333333,
              "#9c179e"
             ],
             [
              0.4444444444444444,
              "#bd3786"
             ],
             [
              0.5555555555555556,
              "#d8576b"
             ],
             [
              0.6666666666666666,
              "#ed7953"
             ],
             [
              0.7777777777777778,
              "#fb9f3a"
             ],
             [
              0.8888888888888888,
              "#fdca26"
             ],
             [
              1,
              "#f0f921"
             ]
            ],
            "type": "heatmap"
           }
          ],
          "heatmapgl": [
           {
            "colorbar": {
             "outlinewidth": 0,
             "ticks": ""
            },
            "colorscale": [
             [
              0,
              "#0d0887"
             ],
             [
              0.1111111111111111,
              "#46039f"
             ],
             [
              0.2222222222222222,
              "#7201a8"
             ],
             [
              0.3333333333333333,
              "#9c179e"
             ],
             [
              0.4444444444444444,
              "#bd3786"
             ],
             [
              0.5555555555555556,
              "#d8576b"
             ],
             [
              0.6666666666666666,
              "#ed7953"
             ],
             [
              0.7777777777777778,
              "#fb9f3a"
             ],
             [
              0.8888888888888888,
              "#fdca26"
             ],
             [
              1,
              "#f0f921"
             ]
            ],
            "type": "heatmapgl"
           }
          ],
          "histogram": [
           {
            "marker": {
             "pattern": {
              "fillmode": "overlay",
              "size": 10,
              "solidity": 0.2
             }
            },
            "type": "histogram"
           }
          ],
          "histogram2d": [
           {
            "colorbar": {
             "outlinewidth": 0,
             "ticks": ""
            },
            "colorscale": [
             [
              0,
              "#0d0887"
             ],
             [
              0.1111111111111111,
              "#46039f"
             ],
             [
              0.2222222222222222,
              "#7201a8"
             ],
             [
              0.3333333333333333,
              "#9c179e"
             ],
             [
              0.4444444444444444,
              "#bd3786"
             ],
             [
              0.5555555555555556,
              "#d8576b"
             ],
             [
              0.6666666666666666,
              "#ed7953"
             ],
             [
              0.7777777777777778,
              "#fb9f3a"
             ],
             [
              0.8888888888888888,
              "#fdca26"
             ],
             [
              1,
              "#f0f921"
             ]
            ],
            "type": "histogram2d"
           }
          ],
          "histogram2dcontour": [
           {
            "colorbar": {
             "outlinewidth": 0,
             "ticks": ""
            },
            "colorscale": [
             [
              0,
              "#0d0887"
             ],
             [
              0.1111111111111111,
              "#46039f"
             ],
             [
              0.2222222222222222,
              "#7201a8"
             ],
             [
              0.3333333333333333,
              "#9c179e"
             ],
             [
              0.4444444444444444,
              "#bd3786"
             ],
             [
              0.5555555555555556,
              "#d8576b"
             ],
             [
              0.6666666666666666,
              "#ed7953"
             ],
             [
              0.7777777777777778,
              "#fb9f3a"
             ],
             [
              0.8888888888888888,
              "#fdca26"
             ],
             [
              1,
              "#f0f921"
             ]
            ],
            "type": "histogram2dcontour"
           }
          ],
          "mesh3d": [
           {
            "colorbar": {
             "outlinewidth": 0,
             "ticks": ""
            },
            "type": "mesh3d"
           }
          ],
          "parcoords": [
           {
            "line": {
             "colorbar": {
              "outlinewidth": 0,
              "ticks": ""
             }
            },
            "type": "parcoords"
           }
          ],
          "pie": [
           {
            "automargin": true,
            "type": "pie"
           }
          ],
          "scatter": [
           {
            "fillpattern": {
             "fillmode": "overlay",
             "size": 10,
             "solidity": 0.2
            },
            "type": "scatter"
           }
          ],
          "scatter3d": [
           {
            "line": {
             "colorbar": {
              "outlinewidth": 0,
              "ticks": ""
             }
            },
            "marker": {
             "colorbar": {
              "outlinewidth": 0,
              "ticks": ""
             }
            },
            "type": "scatter3d"
           }
          ],
          "scattercarpet": [
           {
            "marker": {
             "colorbar": {
              "outlinewidth": 0,
              "ticks": ""
             }
            },
            "type": "scattercarpet"
           }
          ],
          "scattergeo": [
           {
            "marker": {
             "colorbar": {
              "outlinewidth": 0,
              "ticks": ""
             }
            },
            "type": "scattergeo"
           }
          ],
          "scattergl": [
           {
            "marker": {
             "colorbar": {
              "outlinewidth": 0,
              "ticks": ""
             }
            },
            "type": "scattergl"
           }
          ],
          "scattermapbox": [
           {
            "marker": {
             "colorbar": {
              "outlinewidth": 0,
              "ticks": ""
             }
            },
            "type": "scattermapbox"
           }
          ],
          "scatterpolar": [
           {
            "marker": {
             "colorbar": {
              "outlinewidth": 0,
              "ticks": ""
             }
            },
            "type": "scatterpolar"
           }
          ],
          "scatterpolargl": [
           {
            "marker": {
             "colorbar": {
              "outlinewidth": 0,
              "ticks": ""
             }
            },
            "type": "scatterpolargl"
           }
          ],
          "scatterternary": [
           {
            "marker": {
             "colorbar": {
              "outlinewidth": 0,
              "ticks": ""
             }
            },
            "type": "scatterternary"
           }
          ],
          "surface": [
           {
            "colorbar": {
             "outlinewidth": 0,
             "ticks": ""
            },
            "colorscale": [
             [
              0,
              "#0d0887"
             ],
             [
              0.1111111111111111,
              "#46039f"
             ],
             [
              0.2222222222222222,
              "#7201a8"
             ],
             [
              0.3333333333333333,
              "#9c179e"
             ],
             [
              0.4444444444444444,
              "#bd3786"
             ],
             [
              0.5555555555555556,
              "#d8576b"
             ],
             [
              0.6666666666666666,
              "#ed7953"
             ],
             [
              0.7777777777777778,
              "#fb9f3a"
             ],
             [
              0.8888888888888888,
              "#fdca26"
             ],
             [
              1,
              "#f0f921"
             ]
            ],
            "type": "surface"
           }
          ],
          "table": [
           {
            "cells": {
             "fill": {
              "color": "#EBF0F8"
             },
             "line": {
              "color": "white"
             }
            },
            "header": {
             "fill": {
              "color": "#C8D4E3"
             },
             "line": {
              "color": "white"
             }
            },
            "type": "table"
           }
          ]
         },
         "layout": {
          "annotationdefaults": {
           "arrowcolor": "#2a3f5f",
           "arrowhead": 0,
           "arrowwidth": 1
          },
          "autotypenumbers": "strict",
          "coloraxis": {
           "colorbar": {
            "outlinewidth": 0,
            "ticks": ""
           }
          },
          "colorscale": {
           "diverging": [
            [
             0,
             "#8e0152"
            ],
            [
             0.1,
             "#c51b7d"
            ],
            [
             0.2,
             "#de77ae"
            ],
            [
             0.3,
             "#f1b6da"
            ],
            [
             0.4,
             "#fde0ef"
            ],
            [
             0.5,
             "#f7f7f7"
            ],
            [
             0.6,
             "#e6f5d0"
            ],
            [
             0.7,
             "#b8e186"
            ],
            [
             0.8,
             "#7fbc41"
            ],
            [
             0.9,
             "#4d9221"
            ],
            [
             1,
             "#276419"
            ]
           ],
           "sequential": [
            [
             0,
             "#0d0887"
            ],
            [
             0.1111111111111111,
             "#46039f"
            ],
            [
             0.2222222222222222,
             "#7201a8"
            ],
            [
             0.3333333333333333,
             "#9c179e"
            ],
            [
             0.4444444444444444,
             "#bd3786"
            ],
            [
             0.5555555555555556,
             "#d8576b"
            ],
            [
             0.6666666666666666,
             "#ed7953"
            ],
            [
             0.7777777777777778,
             "#fb9f3a"
            ],
            [
             0.8888888888888888,
             "#fdca26"
            ],
            [
             1,
             "#f0f921"
            ]
           ],
           "sequentialminus": [
            [
             0,
             "#0d0887"
            ],
            [
             0.1111111111111111,
             "#46039f"
            ],
            [
             0.2222222222222222,
             "#7201a8"
            ],
            [
             0.3333333333333333,
             "#9c179e"
            ],
            [
             0.4444444444444444,
             "#bd3786"
            ],
            [
             0.5555555555555556,
             "#d8576b"
            ],
            [
             0.6666666666666666,
             "#ed7953"
            ],
            [
             0.7777777777777778,
             "#fb9f3a"
            ],
            [
             0.8888888888888888,
             "#fdca26"
            ],
            [
             1,
             "#f0f921"
            ]
           ]
          },
          "colorway": [
           "#636efa",
           "#EF553B",
           "#00cc96",
           "#ab63fa",
           "#FFA15A",
           "#19d3f3",
           "#FF6692",
           "#B6E880",
           "#FF97FF",
           "#FECB52"
          ],
          "font": {
           "color": "#2a3f5f"
          },
          "geo": {
           "bgcolor": "white",
           "lakecolor": "white",
           "landcolor": "#E5ECF6",
           "showlakes": true,
           "showland": true,
           "subunitcolor": "white"
          },
          "hoverlabel": {
           "align": "left"
          },
          "hovermode": "closest",
          "mapbox": {
           "style": "light"
          },
          "paper_bgcolor": "white",
          "plot_bgcolor": "#E5ECF6",
          "polar": {
           "angularaxis": {
            "gridcolor": "white",
            "linecolor": "white",
            "ticks": ""
           },
           "bgcolor": "#E5ECF6",
           "radialaxis": {
            "gridcolor": "white",
            "linecolor": "white",
            "ticks": ""
           }
          },
          "scene": {
           "xaxis": {
            "backgroundcolor": "#E5ECF6",
            "gridcolor": "white",
            "gridwidth": 2,
            "linecolor": "white",
            "showbackground": true,
            "ticks": "",
            "zerolinecolor": "white"
           },
           "yaxis": {
            "backgroundcolor": "#E5ECF6",
            "gridcolor": "white",
            "gridwidth": 2,
            "linecolor": "white",
            "showbackground": true,
            "ticks": "",
            "zerolinecolor": "white"
           },
           "zaxis": {
            "backgroundcolor": "#E5ECF6",
            "gridcolor": "white",
            "gridwidth": 2,
            "linecolor": "white",
            "showbackground": true,
            "ticks": "",
            "zerolinecolor": "white"
           }
          },
          "shapedefaults": {
           "line": {
            "color": "#2a3f5f"
           }
          },
          "ternary": {
           "aaxis": {
            "gridcolor": "white",
            "linecolor": "white",
            "ticks": ""
           },
           "baxis": {
            "gridcolor": "white",
            "linecolor": "white",
            "ticks": ""
           },
           "bgcolor": "#E5ECF6",
           "caxis": {
            "gridcolor": "white",
            "linecolor": "white",
            "ticks": ""
           }
          },
          "title": {
           "x": 0.05
          },
          "xaxis": {
           "automargin": true,
           "gridcolor": "white",
           "linecolor": "white",
           "ticks": "",
           "title": {
            "standoff": 15
           },
           "zerolinecolor": "white",
           "zerolinewidth": 2
          },
          "yaxis": {
           "automargin": true,
           "gridcolor": "white",
           "linecolor": "white",
           "ticks": "",
           "title": {
            "standoff": 15
           },
           "zerolinecolor": "white",
           "zerolinewidth": 2
          }
         }
        },
        "title": {
         "text": "Interactive Scatter Plot by Cluster"
        },
        "xaxis": {
         "anchor": "y",
         "domain": [
          0,
          1
         ],
         "title": {
          "text": "Buyer Number"
         }
        },
        "yaxis": {
         "anchor": "x",
         "domain": [
          0,
          1
         ],
         "title": {
          "text": "Cluster"
         }
        }
       }
      }
     },
     "metadata": {},
     "output_type": "display_data"
    }
   ],
   "source": [
    "fig = px.scatter(\n",
    "    df, \n",
    "    x='Buyer Number', \n",
    "    y='Cluster', \n",
    "    color='Cluster', \n",
    "    title='Interactive Scatter Plot by Cluster',\n",
    "    labels={'Buyer Number': 'Buyer Number', 'Cluster': 'Cluster'}\n",
    ")\n",
    "\n",
    "# Show the figure\n",
    "fig.show()"
   ]
  },
  {
   "cell_type": "code",
   "execution_count": null,
   "metadata": {},
   "outputs": [],
   "source": []
  }
 ],
 "metadata": {
  "kernelspec": {
   "display_name": "Python 3",
   "language": "python",
   "name": "python3"
  },
  "language_info": {
   "codemirror_mode": {
    "name": "ipython",
    "version": 3
   },
   "file_extension": ".py",
   "mimetype": "text/x-python",
   "name": "python",
   "nbconvert_exporter": "python",
   "pygments_lexer": "ipython3",
   "version": "3.11.1"
  }
 },
 "nbformat": 4,
 "nbformat_minor": 2
}
